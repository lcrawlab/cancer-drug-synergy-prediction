{
 "cells": [
  {
   "cell_type": "markdown",
   "metadata": {},
   "source": [
    "# Create the DNA, RNA, and Protein H5 Files #\n",
    "\n",
    "File to generate the H5 files for the DNA, RNA, and protein data.\n",
    "\n",
    "Pre-requisites:\n",
    "- Finish the pre-processing steps before this file, especially running nci_almanac_therapy_classification.ipynb"
   ]
  },
  {
   "cell_type": "code",
   "execution_count": 1,
   "metadata": {},
   "outputs": [],
   "source": [
    "# Import everything you need\n",
    "import h5py\n",
    "import numpy as np\n",
    "import pandas as pd\n",
    "from dataset_creation.getProcessedData import *"
   ]
  },
  {
   "cell_type": "markdown",
   "metadata": {},
   "source": [
    "Assume that test_create_training_data.ipynb has already preprocessed and filtered the data modalities. Filtered dataframes are stored at:\n",
    "- data_processed/filtered_almcomb_pg.csv (has percent growth and score)\n",
    "- data_processed/filtered_almcomb_combo_.csv (comboscore, hsa, zip)\n",
    "- data_processed/filtered_dna_df.csv\n",
    "- data_processed/filtered_rna_df.csv\n",
    "- data_processed/filtered_protein_df.csv\n",
    "- data_processed/filtered_string_df.csv"
   ]
  },
  {
   "cell_type": "markdown",
   "metadata": {},
   "source": [
    "First get the datasets"
   ]
  },
  {
   "cell_type": "code",
   "execution_count": 2,
   "metadata": {},
   "outputs": [],
   "source": [
    "dna_df_unfilt, dna_identifier_df = get_dna_data()\n",
    "rna_df_unfilt, rna_identifier_df = get_rna_data()\n",
    "protein_df_unfilt, protein_identifier_df = get_protein_data()\n",
    "# dataframes have a structure of row index cell line and column index -omic feature"
   ]
  },
  {
   "cell_type": "markdown",
   "metadata": {},
   "source": [
    "Filter DNA dataset by getting the features with top 5% of variance"
   ]
  },
  {
   "cell_type": "code",
   "execution_count": 3,
   "metadata": {},
   "outputs": [
    {
     "name": "stdout",
     "output_type": "stream",
     "text": [
      "Original intersection entrez IDs: 2665\n",
      "Original number of features: 23372\n",
      "Keeping top 5% of features = 1168 features\n",
      "Number of features after removing low variance columns: 1168\n",
      "Number of unique entrez IDs after removing low variance columns: 786\n",
      "Original RNA data shape: (58, 2665)\n",
      "Filtered RNA data shape: (58, 786)\n",
      "Original protein data shape: (58, 2668)\n",
      "Filtered protein data shape: (58, 786)\n"
     ]
    }
   ],
   "source": [
    "dna_df, new_intersection_entrez = remove_low_var_columns(dna_identifier_df, dna_df_unfilt, threshold=5)\n",
    "\n",
    "print(\"Original RNA data shape:\", rna_df_unfilt.shape)\n",
    "rna_identifiers = [rna_identifier_df[rna_identifier_df['Entrez'] == entrez_id]['Gene'].values[0] for entrez_id in new_intersection_entrez]\n",
    "rna_df = rna_df_unfilt[rna_identifiers]\n",
    "print(\"Filtered RNA data shape:\", rna_df.shape)\n",
    "\n",
    "\n",
    "print(\"Original protein data shape:\", protein_df_unfilt.shape)\n",
    "prot_identifiers = [protein_identifier_df[protein_identifier_df['Entrez'] == entrez_id]['Identifier'].values[0] for entrez_id in new_intersection_entrez]\n",
    "protein_df = protein_df_unfilt[prot_identifiers]\n",
    "print(\"Filtered protein data shape:\", protein_df.shape)\n"
   ]
  },
  {
   "cell_type": "code",
   "execution_count": 5,
   "metadata": {},
   "outputs": [],
   "source": [
    "drug_pg_df, drug_comboscore_df, nsc_to_mfp, nsc_to_prop_df = get_processed_drug_data()"
   ]
  },
  {
   "cell_type": "markdown",
   "metadata": {},
   "source": [
    "Previously, we wrote CSV files the stored redundant information. This time, we create HDF5 files to reduce redundancy "
   ]
  },
  {
   "cell_type": "code",
   "execution_count": 6,
   "metadata": {},
   "outputs": [
    {
     "name": "stdout",
     "output_type": "stream",
     "text": [
      "Storing drug Morgan fingerprints with shape: (105, 256)\n",
      "Storing DNA data with shape: (58, 1168)\n",
      "Storing RNA data with shape: (58, 786)\n",
      "Storing protein data with shape: (58, 786)\n"
     ]
    }
   ],
   "source": [
    "with h5py.File('data/ASP_dataset_slices/all_256mfpdnarnaprot.h5', 'w') as f:\n",
    "    # Store drug morgan fingerprints\n",
    "    drug_mfp_group = f.create_group('drug_mfp')\n",
    "    drug_nscs = list(nsc_to_mfp.keys())\n",
    "    drug_nscs_array = np.array(drug_nscs, dtype='S6')\n",
    "    drug_mfp_group.create_dataset('nscs', data=drug_nscs_array)\n",
    "    mfp = np.array([nsc_to_mfp[nsc] for nsc in drug_nscs], dtype=np.uint8)\n",
    "    print(\"Storing drug Morgan fingerprints with shape:\", mfp.shape) #Should be Nx256\n",
    "    drug_mfp_group.create_dataset(\n",
    "        'mfp',\n",
    "        data=mfp,\n",
    "        compression='gzip',\n",
    "        compression_opts=9,\n",
    "        chunks=(min(64, len(drug_nscs)), mfp.shape[1]),\n",
    "    )\n",
    "\n",
    "    drug_mfp_group.attrs['n_drugs'] = len(drug_nscs)\n",
    "    drug_mfp_group.attrs['mfp_length'] = mfp.shape[1]\n",
    "    mapping = drug_mfp_group.create_group('mapping')\n",
    "    for i, nsc in enumerate(drug_nscs):\n",
    "        mapping.attrs[nsc] = i\n",
    "\n",
    "    # Store DNA data\n",
    "    dna_group = f.create_group('dna')\n",
    "    cell_lines = dna_df.index.values\n",
    "    cell_lines_array = np.array(cell_lines, dtype='S15')\n",
    "    dna_group.create_dataset('cell_lines', data=cell_lines_array)\n",
    "    dna_features = dna_df.values\n",
    "    print(\"Storing DNA data with shape:\", dna_features.shape) #Should be 58x1168\n",
    "    dna_group.create_dataset(\n",
    "        'features',\n",
    "        data=dna_features,\n",
    "        compression='gzip',\n",
    "        compression_opts=9,\n",
    "        chunks=(min(32, len(cell_lines)), dna_features.shape[1]),\n",
    "    )\n",
    "    feature_identifiers = dna_df.columns.values\n",
    "    feature_identifiers_array = np.array(feature_identifiers, dtype='S38')\n",
    "    dna_group.create_dataset('feature_identifiers', data=feature_identifiers_array)\n",
    "    dna_group.attrs['n_cell_lines'] = len(cell_lines)\n",
    "    dna_group.attrs['n_features'] = dna_features.shape[1]\n",
    "    mapping = dna_group.create_group('mapping')\n",
    "    for i, identifier in enumerate(feature_identifiers):\n",
    "        mapping.attrs[identifier] = i\n",
    "\n",
    "    #RNA longest length is 9\n",
    "    # Store RNA data\n",
    "    rna_group = f.create_group('rna')\n",
    "    cell_lines = rna_df.index.values\n",
    "    cell_lines_array = np.array(cell_lines, dtype='S15')\n",
    "    rna_group.create_dataset('cell_lines', data=cell_lines_array)\n",
    "    rna_features = rna_df.values\n",
    "    print(\"Storing RNA data with shape:\", rna_features.shape) #Should be 58x786\n",
    "    rna_group.create_dataset(\n",
    "        'features',\n",
    "        data=rna_features,\n",
    "        compression='gzip',\n",
    "        compression_opts=9,\n",
    "        chunks=(min(32, len(cell_lines)), rna_features.shape[1]),\n",
    "    )\n",
    "    feature_identifiers = rna_df.columns.values\n",
    "    feature_identifiers_array = np.array(feature_identifiers, dtype='S10')\n",
    "    rna_group.create_dataset('feature_identifiers', data=feature_identifiers_array)\n",
    "    rna_group.attrs['n_cell_lines'] = len(cell_lines)\n",
    "    rna_group.attrs['n_features'] = rna_features.shape[1]\n",
    "    mapping = rna_group.create_group('mapping')\n",
    "    for i, identifier in enumerate(feature_identifiers):\n",
    "        mapping.attrs[identifier] = i\n",
    "\n",
    "    #Protein longest length is 82\n",
    "    # Store protein data\n",
    "    protein_group = f.create_group('protein')\n",
    "    cell_lines = protein_df.index.values\n",
    "    cell_lines_array = np.array(cell_lines, dtype='S15')\n",
    "    protein_group.create_dataset('cell_lines', data=cell_lines_array)\n",
    "    protein_features = protein_df.values\n",
    "    print(\"Storing protein data with shape:\", protein_features.shape) #Should be 58x786\n",
    "    protein_group.create_dataset(\n",
    "        'features',\n",
    "        data=protein_features,\n",
    "        compression='gzip',\n",
    "        compression_opts=9,\n",
    "        chunks=(min(32, len(cell_lines)), protein_features.shape[1]),\n",
    "    )\n",
    "    feature_identifiers = protein_df.columns.values\n",
    "    feature_identifiers_array = np.array(feature_identifiers, dtype='S83')\n",
    "    protein_group.create_dataset('feature_identifiers', data=feature_identifiers_array)\n",
    "    protein_group.attrs['n_cell_lines'] = len(cell_lines)\n",
    "    protein_group.attrs['n_features'] = protein_features.shape[1]\n",
    "    mapping = protein_group.create_group('mapping')\n",
    "    for i, identifier in enumerate(feature_identifiers):\n",
    "        mapping.attrs[identifier] = i\n",
    "        \n"
   ]
  },
  {
   "cell_type": "code",
   "execution_count": 8,
   "metadata": {},
   "outputs": [],
   "source": [
    "# Save the percent growth data and comboscore dataframes\n",
    "drug_comboscore_df.to_csv('data/ASP_dataset_slices/drug_comboscore_hsa_zip.csv', index=False)\n",
    "drug_pg_df.to_csv('data/ASP_dataset_slices/drug_percent_growth.csv', index=False)"
   ]
  },
  {
   "cell_type": "markdown",
   "metadata": {},
   "source": [
    "Get the indices in percent growth or comboscore datasets that correspond to specific tissue types"
   ]
  },
  {
   "cell_type": "code",
   "execution_count": 10,
   "metadata": {},
   "outputs": [],
   "source": [
    "# Get the drug data\n",
    "cancer_type_prefixes = ['all_cancer_', 'breast_', 'cns_', 'colon_', 'leukemia_', 'melanoma_', 'nsclc_', 'ovarian_', 'prostate_', 'renal_']\n",
    "panel_filtering = ['ALL', 'Breast Cancer', 'CNS Cancer', 'Colon Cancer', 'Leukemia', 'Melanoma', 'Non-Small Cell Lung Cancer', 'Ovarian Cancer', 'Prostate Cancer', 'Renal Cancer']\n",
    "\n",
    "# Get the indices for each of the cancer types for pg data\n",
    "pg_cancer_type_to_row_indices = {}\n",
    "for ct in drug_pg_df['PANEL'].unique():\n",
    "    pg_cancer_type_to_row_indices[ct] = drug_pg_df[drug_pg_df['PANEL'] == ct].index.to_list()\n",
    "\n",
    "# Get the indices for each of the cancer types for comboscore data\n",
    "comboscore_cancer_type_to_row_indices = {}\n",
    "for ct in drug_comboscore_df['PANEL'].unique():\n",
    "    comboscore_cancer_type_to_row_indices[ct] = drug_comboscore_df[drug_comboscore_df['PANEL'] == ct].index.to_list()\n",
    "\n",
    "\n",
    "# Write the indices to a file\n",
    "for i in range(1, len(cancer_type_prefixes)):\n",
    "    with open(f'data/ASP_dataset_slices/{cancer_type_prefixes[i]}pg_indices.txt', 'w') as f:\n",
    "        for idx in pg_cancer_type_to_row_indices[panel_filtering[i]]:\n",
    "            f.write(f'{idx}\\n')\n",
    "    with open(f'data/ASP_dataset_slices/{cancer_type_prefixes[i]}comboscore_indices.txt', 'w') as f:\n",
    "        for idx in comboscore_cancer_type_to_row_indices[panel_filtering[i]]:\n",
    "            f.write(f'{idx}\\n')"
   ]
  },
  {
   "cell_type": "markdown",
   "metadata": {},
   "source": [
    "This creates txt files containing the indices in the NCI_ALMANAC drug data that correspond to specific drug class types"
   ]
  },
  {
   "cell_type": "code",
   "execution_count": 11,
   "metadata": {},
   "outputs": [
    {
     "name": "stdout",
     "output_type": "stream",
     "text": [
      "PG Chemo-Chemo: 1833186\n",
      "PG Targeted-Targeted: 235746\n",
      "PG Other-Other: 142110\n",
      "PG Chemo-Targeted: 1307490\n",
      "PG Chemo-Other: 1064940\n",
      "PG Targeted-Other: 384912\n",
      "True\n",
      "CS Chemo-Chemo: 195682\n",
      "CS Targeted-Targeted: 26194\n",
      "CS Other-Other: 15790\n",
      "CS Chemo-Targeted: 142510\n",
      "CS Chemo-Other: 115976\n",
      "CS Targeted-Other: 42768\n",
      "True\n"
     ]
    }
   ],
   "source": [
    "# We want to think about drug classes too. Chemo, Targeted, Other are the 3 classes. Want to bucket into\n",
    "# Chemo+Chemo, Chemo+Targeted, Chemo+Other, Targeted+Targeted, Targeted+Other, Other+Other\n",
    "drug_classification_fn = 'data_processed/almanac_nsc_to_drug_types.csv'\n",
    "drug_classification_df = pd.read_csv(drug_classification_fn, header=0, dtype='str')\n",
    "drug_classification_df.set_index('NSC_ID', inplace=True)\n",
    "\n",
    "# Percentage Growth Regression indices\n",
    "pg_drug1s_classes_mapped = drug_pg_df['NSC1'].map(drug_classification_df['Therapy_Class'])\n",
    "pg_drug2s_classes_mapped = drug_pg_df['NSC2'].map(drug_classification_df['Therapy_Class'])\n",
    "\n",
    "pg_chemo_chemo_indices = drug_pg_df[(pg_drug1s_classes_mapped == 'Chemotherapy') & (pg_drug2s_classes_mapped == 'Chemotherapy')].index.to_list()\n",
    "# Verify this works - first index (0) should be in chemo_chemo_indices\n",
    "assert pg_chemo_chemo_indices[0] == 0\n",
    "print(\"PG Chemo-Chemo:\", len(pg_chemo_chemo_indices))\n",
    "\n",
    "pg_targeted_targeted_indices = drug_pg_df[(pg_drug1s_classes_mapped == 'Targeted') & (pg_drug2s_classes_mapped == 'Targeted')].index.to_list()\n",
    "print(\"PG Targeted-Targeted:\", len(pg_targeted_targeted_indices))\n",
    "\n",
    "pg_other_other_indices = drug_pg_df[(pg_drug1s_classes_mapped == 'Other') & (pg_drug2s_classes_mapped == 'Other')].index.to_list()\n",
    "print(\"PG Other-Other:\", len(pg_other_other_indices))\n",
    "\n",
    "pg_chemo_targeted_indices = drug_pg_df[(pg_drug1s_classes_mapped == 'Chemotherapy') & (pg_drug2s_classes_mapped == 'Targeted')].index.to_list()\n",
    "pg_chemo_targeted_indices += drug_pg_df[(pg_drug1s_classes_mapped == 'Targeted') & (pg_drug2s_classes_mapped == 'Chemotherapy')].index.to_list()\n",
    "print(\"PG Chemo-Targeted:\", len(pg_chemo_targeted_indices))\n",
    "\n",
    "pg_chemo_other_indices = drug_pg_df[(pg_drug1s_classes_mapped == 'Chemotherapy') & (pg_drug2s_classes_mapped == 'Other')].index.to_list()\n",
    "pg_chemo_other_indices += drug_pg_df[(pg_drug1s_classes_mapped == 'Other') & (pg_drug2s_classes_mapped == 'Chemotherapy')].index.to_list()\n",
    "print(\"PG Chemo-Other:\", len(pg_chemo_other_indices))\n",
    "\n",
    "pg_targeted_other_indices = drug_pg_df[(pg_drug1s_classes_mapped == 'Targeted') & (pg_drug2s_classes_mapped == 'Other')].index.to_list()\n",
    "pg_targeted_other_indices += drug_pg_df[(pg_drug1s_classes_mapped == 'Other') & (pg_drug2s_classes_mapped == 'Targeted')].index.to_list()\n",
    "print(\"PG Targeted-Other:\", len(pg_targeted_other_indices))\n",
    "\n",
    "# The number of indices should add up to the total number of rows in the pg data\n",
    "print(drug_pg_df.shape[0] == len(pg_chemo_chemo_indices) + len(pg_chemo_targeted_indices) + len(pg_chemo_other_indices) + len(pg_targeted_targeted_indices) + len(pg_targeted_other_indices) + len(pg_other_other_indices))\n",
    "\n",
    "# Comboscore indices\n",
    "cs_drug1s_classes_mapped = drug_comboscore_df['NSC1'].map(drug_classification_df['Therapy_Class'])\n",
    "cs_drug2s_classes_mapped = drug_comboscore_df['NSC2'].map(drug_classification_df['Therapy_Class'])\n",
    "\n",
    "cs_chemo_chemo_indices = drug_comboscore_df[(cs_drug1s_classes_mapped == 'Chemotherapy') & (cs_drug2s_classes_mapped == 'Chemotherapy')].index.to_list()\n",
    "print(\"CS Chemo-Chemo:\", len(cs_chemo_chemo_indices))\n",
    "\n",
    "cs_targeted_targeted_indices = drug_comboscore_df[(cs_drug1s_classes_mapped == 'Targeted') & (cs_drug2s_classes_mapped == 'Targeted')].index.to_list()\n",
    "print(\"CS Targeted-Targeted:\", len(cs_targeted_targeted_indices))\n",
    "\n",
    "cs_other_other_indices = drug_comboscore_df[(cs_drug1s_classes_mapped == 'Other') & (cs_drug2s_classes_mapped == 'Other')].index.to_list()\n",
    "print(\"CS Other-Other:\", len(cs_other_other_indices))\n",
    "\n",
    "cs_chemo_targeted_indices = drug_comboscore_df[(cs_drug1s_classes_mapped == 'Chemotherapy') & (cs_drug2s_classes_mapped == 'Targeted')].index.to_list()\n",
    "cs_chemo_targeted_indices += drug_comboscore_df[(cs_drug1s_classes_mapped == 'Targeted') & (cs_drug2s_classes_mapped == 'Chemotherapy')].index.to_list()\n",
    "print(\"CS Chemo-Targeted:\", len(cs_chemo_targeted_indices))\n",
    "\n",
    "cs_chemo_other_indices = drug_comboscore_df[(cs_drug1s_classes_mapped == 'Chemotherapy') & (cs_drug2s_classes_mapped == 'Other')].index.to_list()\n",
    "cs_chemo_other_indices += drug_comboscore_df[(cs_drug1s_classes_mapped == 'Other') & (cs_drug2s_classes_mapped == 'Chemotherapy')].index.to_list()\n",
    "print(\"CS Chemo-Other:\", len(cs_chemo_other_indices))\n",
    "\n",
    "cs_targeted_other_indices = drug_comboscore_df[(cs_drug1s_classes_mapped == 'Targeted') & (cs_drug2s_classes_mapped == 'Other')].index.to_list()\n",
    "cs_targeted_other_indices += drug_comboscore_df[(cs_drug1s_classes_mapped == 'Other') & (cs_drug2s_classes_mapped == 'Targeted')].index.to_list()\n",
    "print(\"CS Targeted-Other:\", len(cs_targeted_other_indices))\n",
    "\n",
    "# The number of indices should add up to the total number of rows in the comboscore data\n",
    "print(drug_comboscore_df.shape[0] == len(cs_chemo_chemo_indices) + len(cs_chemo_targeted_indices) + len(cs_chemo_other_indices) + len(cs_targeted_targeted_indices) + len(cs_targeted_other_indices) + len(cs_other_other_indices))\n",
    "\n",
    "\n",
    "# write the indices to separate files\n",
    "drug_class_file_prefix = 'data/ASP_dataset_slices/' + 'all_cancer_'\n",
    "pg_indices_suffix = '_pg_indices.txt'\n",
    "combo_indices_suffix = '_cs_indices.txt'\n",
    "\n",
    "for task in ['pg', 'cs']:\n",
    "    for drug_class in ['chemo_chemo', 'chemo_targeted', 'chemo_other', 'targeted_targeted', 'targeted_other', 'other_other']:\n",
    "        if task == 'pg':\n",
    "            with open(drug_class_file_prefix + drug_class + pg_indices_suffix, 'w') as f:\n",
    "                for idx in eval(f'{task}_{drug_class}_indices'):\n",
    "                    f.write(f'{idx}\\n')\n",
    "        else:\n",
    "            with open(drug_class_file_prefix + drug_class + combo_indices_suffix, 'w') as f:\n",
    "                for idx in eval(f'{task}_{drug_class}_indices'):\n",
    "                    f.write(f'{idx}\\n')\n"
   ]
  }
 ],
 "metadata": {
  "kernelspec": {
   "display_name": "env",
   "language": "python",
   "name": "python3"
  },
  "language_info": {
   "codemirror_mode": {
    "name": "ipython",
    "version": 3
   },
   "file_extension": ".py",
   "mimetype": "text/x-python",
   "name": "python",
   "nbconvert_exporter": "python",
   "pygments_lexer": "ipython3",
   "version": "3.11.11"
  }
 },
 "nbformat": 4,
 "nbformat_minor": 2
}
