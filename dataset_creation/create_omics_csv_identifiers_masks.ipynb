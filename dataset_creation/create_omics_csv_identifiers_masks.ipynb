{
 "cells": [
  {
   "cell_type": "markdown",
   "metadata": {},
   "source": [
    "# Create -Omics Identifiers and Masks CSV Files #\n",
    "- Create the column identifiers for each omics modality and also the masking file based on genes for the PCNNGL model\n",
    "\n",
    "Pre-requisites:\n",
    "- Finished the pre-processing steps prior to this file"
   ]
  },
  {
   "cell_type": "code",
   "execution_count": 10,
   "metadata": {},
   "outputs": [],
   "source": [
    "# Import everything you need\n",
    "\n",
    "import numpy as np\n",
    "import os\n",
    "import pandas as pd\n",
    "import torch\n",
    "from getProcessedData import *"
   ]
  },
  {
   "cell_type": "markdown",
   "metadata": {},
   "source": [
    "First get the datasets"
   ]
  },
  {
   "cell_type": "code",
   "execution_count": 11,
   "metadata": {},
   "outputs": [],
   "source": [
    "dna_df_unfilt, dna_identifier_df = get_dna_data()\n",
    "rna_df_unfilt, rna_identifier_df = get_rna_data()\n",
    "protein_df_unfilt, protein_identifier_df = get_protein_data()\n",
    "# dataframes have a structure of row index cell line and column index -omic feature"
   ]
  },
  {
   "cell_type": "markdown",
   "metadata": {},
   "source": [
    "Filter DNA dataset by getting the features with top 5% of variance. Previously determined that 1692 was the 95% cutoff"
   ]
  },
  {
   "cell_type": "code",
   "execution_count": 12,
   "metadata": {},
   "outputs": [
    {
     "name": "stdout",
     "output_type": "stream",
     "text": [
      "Original intersection entrez IDs: 2665\n",
      "Original number of features: 23372\n",
      "Number of features after removing low variance columns: 1171\n",
      "Number of unique entrez IDs after removing low variance columns: 722\n",
      "Original RNA data shape: (58, 2665)\n",
      "Filtered RNA data shape: (58, 722)\n",
      "Original protein data shape: (58, 2668)\n",
      "Filtered protein data shape: (58, 722)\n"
     ]
    }
   ],
   "source": [
    "dna_df, new_intersection_entrez = remove_low_var_columns(dna_identifier_df, dna_df_unfilt, threshold=1692)\n",
    "\n",
    "print(\"Original RNA data shape:\", rna_df_unfilt.shape)\n",
    "rna_identifiers = [rna_identifier_df[rna_identifier_df['Entrez'] == entrez_id]['Gene'].values[0] for entrez_id in new_intersection_entrez]\n",
    "rna_df = rna_df_unfilt[rna_identifiers]\n",
    "print(\"Filtered RNA data shape:\", rna_df.shape)\n",
    "\n",
    "\n",
    "print(\"Original protein data shape:\", protein_df_unfilt.shape)\n",
    "prot_identifiers = [protein_identifier_df[protein_identifier_df['Entrez'] == entrez_id]['Identifier'].values[0] for entrez_id in new_intersection_entrez]\n",
    "protein_df = protein_df_unfilt[prot_identifiers]\n",
    "print(\"Filtered protein data shape:\", protein_df.shape)\n"
   ]
  },
  {
   "cell_type": "markdown",
   "metadata": {},
   "source": [
    "Get the drug data"
   ]
  },
  {
   "cell_type": "code",
   "execution_count": 13,
   "metadata": {},
   "outputs": [],
   "source": [
    "drug_pg_df, drug_comboscore_df, nsc_to_mfp, nsc_to_prop_df = get_processed_drug_data()"
   ]
  },
  {
   "cell_type": "markdown",
   "metadata": {},
   "source": [
    "Generate the CSV files for the identifiers"
   ]
  },
  {
   "cell_type": "code",
   "execution_count": 14,
   "metadata": {},
   "outputs": [
    {
     "name": "stdout",
     "output_type": "stream",
     "text": [
      "Saving pg identifiers to: ../data/ASP_dataset_slices/identifiers_column_names/256_mfp_pg_identifiers.csv\n",
      "Saving cs identifiers to: ../data/ASP_dataset_slices/identifiers_column_names/256_mfp_cs_identifiers.csv\n",
      "Saving pg identifiers to: ../data/ASP_dataset_slices/identifiers_column_names/256_mfpdna_pg_identifiers.csv\n",
      "Saving cs identifiers to: ../data/ASP_dataset_slices/identifiers_column_names/256_mfpdna_cs_identifiers.csv\n",
      "Saving pg identifiers to: ../data/ASP_dataset_slices/identifiers_column_names/256_mfprna_pg_identifiers.csv\n",
      "Saving cs identifiers to: ../data/ASP_dataset_slices/identifiers_column_names/256_mfprna_cs_identifiers.csv\n",
      "Saving pg identifiers to: ../data/ASP_dataset_slices/identifiers_column_names/256_mfpprot_pg_identifiers.csv\n",
      "Saving cs identifiers to: ../data/ASP_dataset_slices/identifiers_column_names/256_mfpprot_cs_identifiers.csv\n",
      "Saving pg identifiers to: ../data/ASP_dataset_slices/identifiers_column_names/256_mfpdnarna_pg_identifiers.csv\n",
      "Saving cs identifiers to: ../data/ASP_dataset_slices/identifiers_column_names/256_mfpdnarna_cs_identifiers.csv\n",
      "Saving pg identifiers to: ../data/ASP_dataset_slices/identifiers_column_names/256_mfpdnaprot_pg_identifiers.csv\n",
      "Saving cs identifiers to: ../data/ASP_dataset_slices/identifiers_column_names/256_mfpdnaprot_cs_identifiers.csv\n",
      "Saving pg identifiers to: ../data/ASP_dataset_slices/identifiers_column_names/256_mfprnaprot_pg_identifiers.csv\n",
      "Saving cs identifiers to: ../data/ASP_dataset_slices/identifiers_column_names/256_mfprnaprot_cs_identifiers.csv\n",
      "Saving pg identifiers to: ../data/ASP_dataset_slices/identifiers_column_names/256_mfpdnarnaprot_pg_identifiers.csv\n",
      "Saving cs identifiers to: ../data/ASP_dataset_slices/identifiers_column_names/256_mfpdnarnaprot_cs_identifiers.csv\n"
     ]
    }
   ],
   "source": [
    "# Concatenate into strings\n",
    "drug1_identifiers = ','.join([('Drug1Ft' + str(x)) for x in range(256)])\n",
    "drug1_conc_identifiers = ',Drug1Conc'\n",
    "drug2_identifiers = ','.join([('Drug2Ft' + str(x)) for x in range(256)])\n",
    "drug2_conc_identifiers = ',Drug2Conc'\n",
    "dna_identifiers = ','.join([str(x) for x in dna_df.columns])\n",
    "rna_identifiers = ','.join([str(x) for x in rna_df.columns])\n",
    "protein_identifiers = ','.join([str(x) for x in protein_df.columns])\n",
    "\n",
    "# Files to fill in\n",
    "mfp_len = 256\n",
    "\n",
    "file_prefix = '../data/ASP_dataset_slices/'\n",
    "identifiers_folder = 'identifiers_column_names/'\n",
    "mf_prefix = str(mfp_len) + '_mfp'\n",
    "dna_prefix = 'dna'\n",
    "rna_prefix = 'rna'\n",
    "prot_prefix = 'prot'\n",
    "pg_prefix = '_pg'\n",
    "cs_prefix = '_cs'\n",
    "identifier_suffix = '_identifiers.csv'\n",
    "mask1gl_suffix = '_mask1gl.csv'\n",
    "\n",
    "\n",
    "data_combinations_to_get = [\n",
    "    # Single modalities\n",
    "    {'mfp': True, 'dna': False, 'rna': False, 'prot': False},\n",
    "    # {'mfp': False, 'dna': True, 'rna': False, 'prot': False},\n",
    "    # {'mfp': False, 'dna': False, 'rna': True, 'prot': False},\n",
    "    # {'mfp': False, 'dna': False, 'rna': False, 'prot': True},\n",
    "\n",
    "    # MFP + 1 Omic modalities\n",
    "    {'mfp': True, 'dna': True, 'rna': False, 'prot': False},\n",
    "    {'mfp': True, 'dna': False, 'rna': True, 'prot': False},\n",
    "    {'mfp': True, 'dna': False, 'rna': False, 'prot': True},\n",
    "\n",
    "    # MFP + 2 Omic modalities\n",
    "    {'mfp': True, 'dna': True, 'rna': True, 'prot': False},\n",
    "    {'mfp': True, 'dna': True, 'rna': False, 'prot': True},\n",
    "    {'mfp': True, 'dna': False, 'rna': True, 'prot': True},\n",
    "    \n",
    "    # MFP + 3 Omic modalities\n",
    "    {'mfp': True, 'dna': True, 'rna': True, 'prot': True},\n",
    "]\n",
    "\n",
    "for data_combo in data_combinations_to_get:\n",
    "    fn = file_prefix + identifiers_folder\n",
    "    pg_identifiers = ''\n",
    "    cs_identifiers = ''\n",
    "    if data_combo['mfp']:\n",
    "        fn += mf_prefix\n",
    "        # If there are other modalities, add a comma\n",
    "        if pg_identifiers != '':\n",
    "            pg_identifiers += ','\n",
    "        if cs_identifiers != '':\n",
    "            cs_identifiers += ','\n",
    "        pg_identifiers += drug1_identifiers + drug1_conc_identifiers + ',' + drug2_identifiers + drug2_conc_identifiers\n",
    "        cs_identifiers += drug1_identifiers + ',' + drug2_identifiers\n",
    "    if data_combo['dna']:\n",
    "        fn += dna_prefix\n",
    "        # If there are other modalities, add a comma\n",
    "        if pg_identifiers != '':\n",
    "            pg_identifiers += ','\n",
    "        if cs_identifiers != '':\n",
    "            cs_identifiers += ','\n",
    "        pg_identifiers += dna_identifiers\n",
    "        cs_identifiers += dna_identifiers\n",
    "    if data_combo['rna']:\n",
    "        fn += rna_prefix\n",
    "        # If there are other modalities, add a comma\n",
    "        if pg_identifiers != '':\n",
    "            pg_identifiers += ','\n",
    "        if cs_identifiers != '':\n",
    "            cs_identifiers += ','\n",
    "        pg_identifiers += rna_identifiers\n",
    "        cs_identifiers += rna_identifiers\n",
    "    if data_combo['prot']:\n",
    "        fn += prot_prefix\n",
    "        # If there are other modalities, add a comma\n",
    "        if pg_identifiers != '':\n",
    "            pg_identifiers += ','\n",
    "        if cs_identifiers != '':\n",
    "            cs_identifiers += ','\n",
    "        pg_identifiers += protein_identifiers\n",
    "        cs_identifiers += protein_identifiers\n",
    "    pg_fn = fn + pg_prefix + identifier_suffix\n",
    "    cs_fn = fn + cs_prefix + identifier_suffix\n",
    "\n",
    "    print('Saving pg identifiers to:', pg_fn)\n",
    "    print('Saving cs identifiers to:', cs_fn)\n",
    "\n",
    "    # Save the identifiers to the files\n",
    "    # if there is no folder, create it\n",
    "    if not os.path.exists(os.path.dirname(pg_fn)):\n",
    "        try:\n",
    "            os.makedirs(os.path.dirname(pg_fn))\n",
    "        except OSError as exc:\n",
    "            raise exc\n",
    "    if not os.path.exists(os.path.dirname(cs_fn)):\n",
    "        try:\n",
    "            os.makedirs(os.path.dirname(cs_fn))\n",
    "        except OSError as exc:\n",
    "            raise exc\n",
    "    with open(pg_fn, 'w') as f:\n",
    "        f.write(pg_identifiers)\n",
    "    with open(cs_fn, 'w') as f:\n",
    "        f.write(cs_identifiers)\n",
    "    "
   ]
  },
  {
   "cell_type": "markdown",
   "metadata": {},
   "source": [
    "Generate the CSV files for the 1 gene layer mask\n",
    "- will need to create new mask for other layers over time"
   ]
  },
  {
   "cell_type": "code",
   "execution_count": 15,
   "metadata": {},
   "outputs": [],
   "source": [
    "final_entrez_sorted_list = sorted(new_intersection_entrez) # for 1 partially connected gene layer\n",
    "\n",
    "# Mask1gls only change for the column feature data (MFP, DNA, RNA, Protein), so don't need to recompute for cancer type or for drug class type\n",
    "# It does change between comboscore (CS) vs percent growth (PG) data because of added concentration columns\n",
    "cs_mfp_identifier_list = [('Drug1Ft' + str(x)) for x in range(256)] + [('Drug2Ft' + str(x)) for x in range(256)] # No concentration in comboscore data\n",
    "pg_mfp_identifier_list = [('Drug1Ft' + str(x)) for x in range(256)] + ['Drug1Conc'] + [('Drug2Ft' + str(x)) for x in range(256)] + ['Drug2Conc'] # With Concentration\n",
    "\n",
    "cs_mfp_mask1gl = pd.DataFrame(np.ones((512, len(final_entrez_sorted_list))), index=cs_mfp_identifier_list, columns=final_entrez_sorted_list)\n",
    "pg_mfp_mask1gl = pd.DataFrame(np.ones((514, len(final_entrez_sorted_list))), index=pg_mfp_identifier_list, columns=final_entrez_sorted_list)\n",
    "\n",
    "# Initialize all the other mask1gls\n",
    "dna_mask1gl = pd.DataFrame(np.zeros((len(dna_df.columns), len(final_entrez_sorted_list))), index=dna_df.columns, columns=final_entrez_sorted_list)\n",
    "rna_mask1gl = pd.DataFrame(np.zeros((len(rna_df.columns), len(final_entrez_sorted_list))), index=rna_df.columns, columns=final_entrez_sorted_list)\n",
    "protein_mask1gl = pd.DataFrame(np.zeros((len(protein_df.columns), len(final_entrez_sorted_list))), index=protein_df.columns, columns=final_entrez_sorted_list)\n",
    "\n",
    "for i, entrez in enumerate(final_entrez_sorted_list):\n",
    "    for j, identifier in enumerate(dna_df.columns):\n",
    "        if dna_identifier_df[dna_identifier_df['Identifier'] == identifier]['Entrez'].values[0] == entrez:\n",
    "            dna_mask1gl.iloc[j, i] = 1\n",
    "    for k, identifier in enumerate(rna_df.columns):\n",
    "        if rna_identifier_df[rna_identifier_df['Gene'] == identifier]['Entrez'].values[0] == entrez:\n",
    "            rna_mask1gl.iloc[k, i] = 1\n",
    "    for l, identifier in enumerate(protein_df.columns):\n",
    "        if protein_identifier_df[protein_identifier_df['Identifier'] == identifier]['Entrez'].values[0] == entrez:\n",
    "            protein_mask1gl.iloc[l, i] = 1\n",
    "\n",
    "# Save the mask1gls, do the concatenation of the dataframes in the model code\n",
    "cs_mfp_mask1gl_fn = file_prefix + mf_prefix + cs_prefix + mask1gl_suffix\n",
    "pg_mfp_mask1gl_fn = file_prefix + mf_prefix + pg_prefix + mask1gl_suffix\n",
    "dna_mask1gl_fn = file_prefix + dna_prefix + mask1gl_suffix\n",
    "rna_mask1gl_fn = file_prefix + rna_prefix + mask1gl_suffix\n",
    "protein_mask1gl_fn = file_prefix + prot_prefix + mask1gl_suffix\n",
    "\n",
    "pg_mfp_mask1gl.to_csv(pg_mfp_mask1gl_fn, index=True, header=True)\n",
    "cs_mfp_mask1gl.to_csv(cs_mfp_mask1gl_fn, index=True, header=True)\n",
    "dna_mask1gl.to_csv(dna_mask1gl_fn, index=True, header=True)\n",
    "rna_mask1gl.to_csv(rna_mask1gl_fn, index=True, header=True)\n",
    "protein_mask1gl.to_csv(protein_mask1gl_fn, index=True, header=True)\n"
   ]
  },
  {
   "cell_type": "markdown",
   "metadata": {},
   "source": []
  }
 ],
 "metadata": {
  "kernelspec": {
   "display_name": "env",
   "language": "python",
   "name": "python3"
  },
  "language_info": {
   "codemirror_mode": {
    "name": "ipython",
    "version": 3
   },
   "file_extension": ".py",
   "mimetype": "text/x-python",
   "name": "python",
   "nbconvert_exporter": "python",
   "pygments_lexer": "ipython3",
   "version": "3.11.11"
  }
 },
 "nbformat": 4,
 "nbformat_minor": 2
}
