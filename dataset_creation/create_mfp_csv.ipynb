{
 "cells": [
  {
   "cell_type": "markdown",
   "metadata": {},
   "source": [
    "# Create the Morgan Fingerprint Only Datasets #\n",
    "File to generate the Morgan Fingerprints only CSV files for:\n",
    "- Binary ComboScore Classification\n",
    "- ComboScore Regression\n",
    "- Percent Growth Regression\n",
    "\n",
    "Pre-requisites:\n",
    "- Finish the pre-processing steps before this file"
   ]
  },
  {
   "cell_type": "code",
   "execution_count": null,
   "metadata": {},
   "outputs": [],
   "source": [
    "# Import everything you need\n",
    "\n",
    "from getProcessedData import *"
   ]
  },
  {
   "cell_type": "markdown",
   "metadata": {},
   "source": [
    "Drug combination that can be filtered by cancer type\n",
    "['ALL', 'Breast Cancer', 'CNS Cancer', 'Colon Cancer', 'Leukemia', 'Melanoma', 'Non-Small Cell Lung Cancer', 'Ovarian Cancer', 'Prostate Cancer', 'Renal Cancer']"
   ]
  },
  {
   "cell_type": "code",
   "execution_count": 2,
   "metadata": {},
   "outputs": [
    {
     "name": "stdout",
     "output_type": "stream",
     "text": [
      "Cancer type is ALL\n",
      "Cancer type prefix is all_cancer_\n"
     ]
    }
   ],
   "source": [
    "panel_type = ['ALL', 'Breast Cancer', 'CNS Cancer', 'Colon Cancer', 'Leukemia', 'Melanoma', 'Non-Small Cell Lung Cancer', 'Ovarian Cancer', 'Prostate Cancer', 'Renal Cancer']\n",
    "cancer_type_prefixes = ['all_cancer_', 'breast_', 'cns_', 'colon_', 'leukemia_', 'melanoma_', 'nsclc_', 'ovarian_', 'prostate_', 'renal_']\n",
    "\n",
    "# CHANGE THIS LINE TO CHANGE THE CANCER TYPE - SHOULD ONLY NEED ALL\n",
    "ct_index = 0\n",
    "\n",
    "print(\"Cancer type is\", panel_type[ct_index])\n",
    "print(\"Cancer type prefix is\", cancer_type_prefixes[ct_index])"
   ]
  },
  {
   "cell_type": "markdown",
   "metadata": {},
   "source": [
    "Percent Growth CSV File Generation"
   ]
  },
  {
   "cell_type": "code",
   "execution_count": 4,
   "metadata": {},
   "outputs": [
    {
     "name": "stdout",
     "output_type": "stream",
     "text": [
      "['Renal Cancer' 'Non-Small Cell Lung Cancer' 'Leukemia' 'Colon Cancer'\n",
      " 'Prostate Cancer' 'Ovarian Cancer' 'Melanoma' 'CNS Cancer'\n",
      " 'Breast Cancer']\n",
      "2774280\n",
      "Writing to ../data/ASP_dataset_slices/all_cancer_256_mfp_percgrowth.csv\n",
      "percent growth sample 0\n",
      "percent growth sample 100000\n",
      "percent growth sample 200000\n",
      "percent growth sample 300000\n",
      "percent growth sample 400000\n",
      "percent growth sample 500000\n",
      "percent growth sample 600000\n",
      "percent growth sample 700000\n",
      "percent growth sample 800000\n",
      "percent growth sample 900000\n",
      "percent growth sample 1000000\n",
      "percent growth sample 1100000\n",
      "percent growth sample 1200000\n",
      "percent growth sample 1300000\n",
      "percent growth sample 1400000\n",
      "percent growth sample 1500000\n",
      "percent growth sample 1600000\n",
      "percent growth sample 1700000\n",
      "percent growth sample 1800000\n",
      "percent growth sample 1900000\n",
      "percent growth sample 2000000\n",
      "percent growth sample 2100000\n",
      "percent growth sample 2200000\n",
      "percent growth sample 2300000\n",
      "percent growth sample 2400000\n",
      "percent growth sample 2500000\n",
      "percent growth sample 2600000\n",
      "percent growth sample 2700000\n"
     ]
    }
   ],
   "source": [
    "# Generate the CSV file for cancer type, MFP, percent growth\n",
    "mfp_len = 256\n",
    "drug_pg_df, drug_comboscore_df, nsc_to_mfp, nsc_to_prop_df = get_processed_drug_data(cancer_type=panel_type[ct_index])\n",
    "\n",
    "print(drug_pg_df['PANEL'].unique())\n",
    "num_pg_samples = drug_pg_df.shape[0]\n",
    "print(num_pg_samples)\n",
    "\n",
    "drug1s = drug_pg_df['NSC1'].values\n",
    "drug1sconc = drug_pg_df['CONC1'].values\n",
    "drug2s = drug_pg_df['NSC2'].values\n",
    "drug2sconc = drug_pg_df['CONC2'].values\n",
    "\n",
    "\n",
    "# File name for the CSV file\n",
    "fn_mfp_percgrowth = '../data/ASP_dataset_slices/' + cancer_type_prefixes[ct_index] + str(mfp_len) + '_mfp_percgrowth.csv'\n",
    "print(\"Writing to\", fn_mfp_percgrowth)\n",
    "\n",
    "with open(fn_mfp_percgrowth, 'w') as f:\n",
    "    # map the NSC drug IDs to the MFP bit vectors\n",
    "    for i in range(num_pg_samples):\n",
    "        mfp1 = nsc_to_mfp[str(drug1s[i])]\n",
    "        mfp2 = nsc_to_mfp[str(drug2s[i])]\n",
    "        percgrowth = drug_pg_df.iloc[i]['PERCENTGROWTH']\n",
    "        f.write(','.join([str(x) for x in mfp1]) + ',')\n",
    "        f.write(str(drug1sconc[i]) + ',') # Add concentration of drug 1 in M\n",
    "        f.write(','.join([str(x) for x in mfp2]) + ',')\n",
    "        f.write(str(drug2sconc[i]) + ',') # Add concentration of drug 2 in M\n",
    "        f.write(str(percgrowth) + '\\n')\n",
    "\n",
    "        if i % 100000 == 0:\n",
    "            print(\"percent growth sample\", i)\n",
    "\n"
   ]
  },
  {
   "cell_type": "markdown",
   "metadata": {},
   "source": [
    "ComboScore Classification and Regression CSV File Generation"
   ]
  },
  {
   "cell_type": "code",
   "execution_count": 5,
   "metadata": {},
   "outputs": [
    {
     "name": "stdout",
     "output_type": "stream",
     "text": [
      "Comboscore file is ../data/ASP_dataset_slices/all_cancer_256_mfp_comboscore.csv\n",
      "Comboscore file with binary classification is ../data/ASP_dataset_slices/all_cancer_256_mfp_bc0_comboscore.csv\n",
      "comboscore 0\n",
      "comboscore 100000\n",
      "comboscore 200000\n",
      "comboscore 300000\n"
     ]
    }
   ],
   "source": [
    "fn_mfp_comboscore = '../data/ASP_dataset_slices/' + cancer_type_prefixes[ct_index] + str(mfp_len) + '_mfp_comboscore.csv'\n",
    "fn_mfp_comboscore_bc0 = '../data/ASP_dataset_slices/' + cancer_type_prefixes[ct_index] + str(mfp_len) + '_mfp_bc0_comboscore.csv'\n",
    "\n",
    "print(\"Comboscore file is\", fn_mfp_comboscore)\n",
    "print(\"Comboscore file with binary classification is\", fn_mfp_comboscore_bc0)\n",
    "\n",
    "num_cs_samples = drug_comboscore_df.shape[0]\n",
    "drug1cs = drug_comboscore_df['NSC1'].values\n",
    "drug2cs = drug_comboscore_df['NSC2'].values\n",
    "\n",
    "with open(fn_mfp_comboscore, 'w') as f:\n",
    "    with open(fn_mfp_comboscore_bc0, 'w') as f_bc0:\n",
    "        # map the NSC drug IDs to the MFP bit vectors\n",
    "        for i in range(num_cs_samples):\n",
    "            mfp1 = nsc_to_mfp[str(drug1cs[i])]\n",
    "            mfp2 = nsc_to_mfp[str(drug2cs[i])]\n",
    "            cs = drug_comboscore_df.iloc[i]['SCORE']\n",
    "            f.write(','.join([str(x) for x in mfp1]) + ',')\n",
    "            f.write(','.join([str(x) for x in mfp2]) + ',')\n",
    "            f.write(str(cs) + '\\n')\n",
    "\n",
    "            if cs > 0:\n",
    "                f_bc0.write(','.join([str(x) for x in mfp1]) + ',')\n",
    "                f_bc0.write(','.join([str(x) for x in mfp2]) + ',')\n",
    "                f_bc0.write('1' + '\\n') # 1 for synergistic\n",
    "            else:\n",
    "                f_bc0.write(','.join([str(x) for x in mfp1]) + ',')\n",
    "                f_bc0.write(','.join([str(x) for x in mfp2]) + ',')\n",
    "                f_bc0.write('0' + '\\n') # 0 for non-synergistic\n",
    "\n",
    "            if i % 100000 == 0:\n",
    "                print(\"comboscore\", i)"
   ]
  }
 ],
 "metadata": {
  "kernelspec": {
   "display_name": "env",
   "language": "python",
   "name": "python3"
  },
  "language_info": {
   "codemirror_mode": {
    "name": "ipython",
    "version": 3
   },
   "file_extension": ".py",
   "mimetype": "text/x-python",
   "name": "python",
   "nbconvert_exporter": "python",
   "pygments_lexer": "ipython3",
   "version": "3.11.11"
  }
 },
 "nbformat": 4,
 "nbformat_minor": 2
}
