{
 "cells": [
  {
   "cell_type": "code",
   "execution_count": 1,
   "metadata": {},
   "outputs": [],
   "source": [
    "from datasets import *\n",
    "from models_baselines import *\n",
    "from sklearn.model_selection import train_test_split\n",
    "from sklearn.metrics import *\n",
    "from torch.utils.data import DataLoader, Dataset, Subset\n",
    "import torch\n",
    "\n",
    "mfp_bc_fn = 'data/ASP_dataset_slices/all_cancer_256_mfp_bc0_comboscore.csv'\n",
    "mfp_regcs_fn = 'data/ASP_dataset_slices/all_cancer_256_mfp_comboscore.csv'"
   ]
  },
  {
   "cell_type": "code",
   "execution_count": 2,
   "metadata": {},
   "outputs": [
    {
     "name": "stdout",
     "output_type": "stream",
     "text": [
      "Original Dataset shape: (300928, 513)\n",
      "Initial dataset size: 300928\n",
      "Balancing classes\n",
      "Balanced dataset size: 185604\n",
      "Balanced classes maintained\n",
      "New class balanced dataset size: 185604\n"
     ]
    }
   ],
   "source": [
    "# Test out balancing the classes\n",
    "mfp_bc_bal_dataset = MorganFingerprintDataset(mfp_bc_fn, balance_classes=True)\n",
    "\n",
    "# Check that the balance of positives and negatives is maintained\n",
    "pos_count = 0\n",
    "neg_count = 0\n",
    "for i in range(len(mfp_bc_bal_dataset)):\n",
    "    _, label = mfp_bc_bal_dataset[i]\n",
    "    if label == 1:\n",
    "        pos_count += 1\n",
    "    else:\n",
    "        neg_count += 1\n",
    "assert pos_count == neg_count, f'Positives: {pos_count}, Negatives: {neg_count}'\n",
    "print(\"Balanced classes maintained\")\n",
    "print(\"New class balanced dataset size:\", len(mfp_bc_bal_dataset))"
   ]
  },
  {
   "cell_type": "code",
   "execution_count": 3,
   "metadata": {},
   "outputs": [
    {
     "name": "stdout",
     "output_type": "stream",
     "text": [
      "Original Dataset shape: (300928, 513)\n",
      "No balancing of classes maintained\n",
      "Dataset size: 300928\n"
     ]
    }
   ],
   "source": [
    "# Test out nonbalanced classes\n",
    "mfp_bc_unbal_dataset = MorganFingerprintDataset(mfp_bc_fn, balance_classes=False)\n",
    "pos_count = 0\n",
    "neg_count = 0\n",
    "for i in range(len(mfp_bc_unbal_dataset)):\n",
    "    _, label = mfp_bc_unbal_dataset[i]\n",
    "    if label == 1:\n",
    "        pos_count += 1\n",
    "    else:\n",
    "        neg_count += 1\n",
    "assert pos_count != neg_count, f'Positives: {pos_count}, Negatives: {neg_count}'\n",
    "print(\"No balancing of classes maintained\")\n",
    "print(\"Dataset size:\", len(mfp_bc_unbal_dataset))"
   ]
  },
  {
   "cell_type": "code",
   "execution_count": 4,
   "metadata": {},
   "outputs": [
    {
     "name": "stdout",
     "output_type": "stream",
     "text": [
      "Original Dataset shape: (300928, 513)\n",
      "Initial dataset size: 300928\n",
      "Balancing classes\n",
      "Failed as expected\n",
      "Labels should be binary if balancing classes\n"
     ]
    }
   ],
   "source": [
    "# Test out fails when balance classes is true but dataset is not binary\n",
    "try:\n",
    "    mfp_regcs_dataset = MorganFingerprintDataset(mfp_regcs_fn, balance_classes=True)\n",
    "except AssertionError as e:\n",
    "    print(\"Failed as expected\")\n",
    "    print(e)"
   ]
  },
  {
   "cell_type": "code",
   "execution_count": 5,
   "metadata": {},
   "outputs": [
    {
     "name": "stdout",
     "output_type": "stream",
     "text": [
      "Original Dataset shape: (300928, 513)\n",
      "Regression dataset size: 300928\n"
     ]
    }
   ],
   "source": [
    "# Test works on regression when balance classes is false\n",
    "mfp_regcs_dataset = MorganFingerprintDataset(mfp_regcs_fn, balance_classes=False)\n",
    "print(\"Regression dataset size:\", len(mfp_regcs_dataset))"
   ]
  },
  {
   "cell_type": "code",
   "execution_count": 6,
   "metadata": {},
   "outputs": [
    {
     "name": "stdout",
     "output_type": "stream",
     "text": [
      "Train size: 148483\n",
      "Tune size: 18560\n",
      "Test size: 18561\n",
      "Balanced train split\n",
      "Positives: 0.5004141888296977 Negatives: 0.4995858111703023\n",
      "Balanced val split\n",
      "Positives: 0.4991379310344828 Negatives: 0.5008620689655172\n",
      "Balanced test split\n",
      "Positives: 0.49754862345778783 Negatives: 0.5024513765422122\n"
     ]
    }
   ],
   "source": [
    "# Test splitting dataset code\n",
    "bal_train, bal_val, bal_test = split_data(mfp_bc_bal_dataset, train_size=0.8, tune_size=0.1, test_size=0.1, random_state=42)\n",
    "\n",
    "# Count the number of positives and negatives in each split\n",
    "pos_train = 0\n",
    "neg_train = 0\n",
    "for i in range(len(bal_train)):\n",
    "    _, label = bal_train[i]\n",
    "    if label == 1:\n",
    "        pos_train += 1\n",
    "    else:\n",
    "        neg_train += 1\n",
    "print(\"Balanced train split\")\n",
    "print(\"Positives:\", pos_train / (pos_train + neg_train), \"Negatives:\", neg_train / (pos_train + neg_train))\n",
    "\n",
    "pos_val = 0\n",
    "neg_val = 0\n",
    "for i in range(len(bal_val)):\n",
    "    _, label = bal_val[i]\n",
    "    if label == 1:\n",
    "        pos_val += 1\n",
    "    else:\n",
    "        neg_val += 1\n",
    "print(\"Balanced val split\")\n",
    "print(\"Positives:\", pos_val / (pos_val + neg_val), \"Negatives:\", neg_val / (pos_val + neg_val))\n",
    "\n",
    "pos_test = 0\n",
    "neg_test = 0\n",
    "for i in range(len(bal_test)):\n",
    "    _, label = bal_test[i]\n",
    "    if label == 1:\n",
    "        pos_test += 1\n",
    "    else:\n",
    "        neg_test += 1\n",
    "print(\"Balanced test split\")\n",
    "print(\"Positives:\", pos_test / (pos_test + neg_test), \"Negatives:\", neg_test / (pos_test + neg_test))\n"
   ]
  },
  {
   "cell_type": "code",
   "execution_count": 7,
   "metadata": {},
   "outputs": [
    {
     "name": "stdout",
     "output_type": "stream",
     "text": [
      "Train size: 240742\n",
      "Tune size: 30093\n",
      "Test size: 30093\n",
      "Unbalanced train split\n",
      "Positives: 0.30843392511485324 Negatives: 0.6915660748851468\n",
      "Unbalanced val split\n",
      "Positives: 0.30621739274914433 Negatives: 0.6937826072508557\n",
      "Unbalanced test split\n",
      "Positives: 0.3101718007510052 Negatives: 0.6898281992489947\n"
     ]
    }
   ],
   "source": [
    "# Test splitting dataset code, but in unbalanced dataset\n",
    "unbal_train, unbal_val, unbal_test = split_data(mfp_bc_unbal_dataset, train_size=0.8, tune_size=0.1, test_size=0.1, random_state=42)\n",
    "\n",
    "# Count the number of positives and negatives in each split\n",
    "pos_train = 0\n",
    "neg_train = 0\n",
    "for i in range(len(unbal_train)):\n",
    "    _, label = unbal_train[i]\n",
    "    if label == 1:\n",
    "        pos_train += 1\n",
    "    else:\n",
    "        neg_train += 1\n",
    "print(\"Unbalanced train split\")\n",
    "print(\"Positives:\", pos_train / (pos_train + neg_train), \"Negatives:\", neg_train / (pos_train + neg_train))\n",
    "\n",
    "pos_val = 0\n",
    "neg_val = 0\n",
    "for i in range(len(unbal_val)):\n",
    "    _, label = unbal_val[i]\n",
    "    if label == 1:\n",
    "        pos_val += 1\n",
    "    else:\n",
    "        neg_val += 1\n",
    "print(\"Unbalanced val split\")\n",
    "print(\"Positives:\", pos_val / (pos_val + neg_val), \"Negatives:\", neg_val / (pos_val + neg_val))\n",
    "\n",
    "pos_test = 0\n",
    "neg_test = 0\n",
    "for i in range(len(unbal_test)):\n",
    "    _, label = unbal_test[i]\n",
    "    if label == 1:\n",
    "        pos_test += 1\n",
    "    else:\n",
    "        neg_test += 1\n",
    "print(\"Unbalanced test split\")\n",
    "print(\"Positives:\", pos_test / (pos_test + neg_test), \"Negatives:\", neg_test / (pos_test + neg_test))\n"
   ]
  },
  {
   "cell_type": "markdown",
   "metadata": {},
   "source": [
    "Test getting the filename for the all cancer data - get_all_cancer_dataset_filename"
   ]
  },
  {
   "cell_type": "code",
   "execution_count": 8,
   "metadata": {},
   "outputs": [
    {
     "name": "stdout",
     "output_type": "stream",
     "text": [
      "Using filename:  data/ASP_dataset_slices/all_cancer_256_mfp_bc0_comboscore.csv\n",
      "Using filename:  data/ASP_dataset_slices/all_cancer_256_mfpdna_bc0_comboscore.csv\n",
      "Using filename:  data/ASP_dataset_slices/all_cancer_256_mfprnaprot_comboscore.csv\n",
      "Using filename:  data/ASP_dataset_slices/all_cancer_dnarnaprot_percgrowth.csv\n"
     ]
    }
   ],
   "source": [
    "test_mfp_bc0 = get_all_cancer_dataset_filename(use_mfp=True, use_dna=False, use_rna=False, use_prot=False, use_bc=True, use_csreg=False, use_pgreg=False, mfp_len=256, bc_cutoff=0)\n",
    "test_mfpdna_bc0 = get_all_cancer_dataset_filename(use_mfp=True, use_dna=True, use_rna=False, use_prot=False, use_bc=True, use_csreg=False, use_pgreg=False, mfp_len=256, bc_cutoff=0)\n",
    "test_mfprnaprot_csreg0 = get_all_cancer_dataset_filename(use_mfp=True, use_dna=False, use_rna=True, use_prot=True, use_bc=False, use_csreg=True, use_pgreg=False, mfp_len=256)\n",
    "test_dnarnaprot_pgreg = get_all_cancer_dataset_filename(use_mfp=False, use_dna=True, use_rna=True, use_prot=True, use_bc=False, use_csreg=False, use_pgreg=True)\n",
    "\n",
    "mfp_bc_fn = 'data/ASP_dataset_slices/all_cancer_256_mfp_bc0_comboscore.csv'\n",
    "mfpdna_bc_fn = 'data/ASP_dataset_slices/all_cancer_256_mfpdna_bc0_comboscore.csv'\n",
    "mfprnaprot_csreg0_fn = 'data/ASP_dataset_slices/all_cancer_256_mfprnaprot_comboscore.csv'\n",
    "dnarnaprot_pgreg_fn = 'data/ASP_dataset_slices/all_cancer_dnarnaprot_percgrowth.csv'\n",
    "\n",
    "assert test_mfp_bc0 == mfp_bc_fn, print('mfp_bc_fn error: ' + test_mfp_bc0 + ' vs ' + mfp_bc_fn)\n",
    "assert test_mfpdna_bc0 == mfpdna_bc_fn, print('mfpdna_bc_fn error: ' + test_mfpdna_bc0 + ' vs ' + mfpdna_bc_fn)\n",
    "assert test_mfprnaprot_csreg0 == mfprnaprot_csreg0_fn, print('mfprnaprot_csreg0_fn error: ' + test_mfprnaprot_csreg0 + ' vs ' + mfprnaprot_csreg0_fn)\n",
    "assert test_dnarnaprot_pgreg == dnarnaprot_pgreg_fn, print('dnarnaprot_pgreg_fn error: ' + test_dnarnaprot_pgreg + ' vs ' + dnarnaprot_pgreg_fn)"
   ]
  },
  {
   "cell_type": "markdown",
   "metadata": {},
   "source": [
    "Test out filtering dataset based on cancer type"
   ]
  },
  {
   "cell_type": "code",
   "execution_count": 9,
   "metadata": {},
   "outputs": [
    {
     "name": "stdout",
     "output_type": "stream",
     "text": [
      "Failed as expected 0\n",
      "Failed as expected 1\n",
      "Failed as expected 2\n",
      "Failed as expected 3\n",
      "Original Dataset shape: (300928, 513)\n",
      "Reading indices from data/ASP_dataset_slices/breast_comboscore_indices.txt\n",
      "Filtered Dataset shape: (20989, 513)\n",
      "Dataset size: 20989\n"
     ]
    }
   ],
   "source": [
    "breast_comboscore_indices = 'data/ASP_dataset_slices/breast_comboscore_indices.txt'\n",
    "test_breast_fn = get_cancer_type_indices_filename(cancer_type='breast', use_bc=False, use_csreg=True, use_pgreg=False)\n",
    "assert breast_comboscore_indices == test_breast_fn, print('breast_comboscore_indices error: ' + breast_comboscore_indices + ' vs ' + test_breast_fn)\n",
    "colon_pgreg_indices = 'data/ASP_dataset_slices/colon_pg_indices.txt'\n",
    "test_colon_fn = get_cancer_type_indices_filename('colon', use_bc=False, use_csreg=False, use_pgreg=True)\n",
    "assert colon_pgreg_indices == test_colon_fn, print('colon_pgreg_indices error: ' + colon_pgreg_indices + ' vs ' + test_colon_fn)\n",
    "\n",
    "try:\n",
    "    get_cancer_type_indices_filename('unknown', use_bc=False, use_csreg=False, use_pgreg=True)\n",
    "except ValueError:\n",
    "    print(\"Failed as expected 0\")\n",
    "try:\n",
    "    get_cancer_type_indices_filename('breast', use_bc=False, use_csreg=True, use_pgreg=True)\n",
    "except ValueError:\n",
    "    print(\"Failed as expected 1\")\n",
    "try:\n",
    "    get_cancer_type_indices_filename('breast', use_bc=True, use_csreg=False, use_pgreg=True)\n",
    "except ValueError:\n",
    "    print(\"Failed as expected 2\")\n",
    "try:\n",
    "    get_cancer_type_indices_filename('breast', use_bc=False, use_csreg=False, use_pgreg=False)\n",
    "except ValueError:\n",
    "    print(\"Failed as expected 3\")\n",
    "\n",
    "mfp_breast_unbal_dataset = MorganFingerprintDataset(mfp_bc_fn, indices_filter_fn=breast_comboscore_indices)\n",
    "print(\"Dataset size:\", len(mfp_breast_unbal_dataset))"
   ]
  },
  {
   "cell_type": "markdown",
   "metadata": {},
   "source": [
    "Test out filtering dataset based on targeted-other drug pair classes"
   ]
  },
  {
   "cell_type": "code",
   "execution_count": 10,
   "metadata": {},
   "outputs": [
    {
     "name": "stdout",
     "output_type": "stream",
     "text": [
      "Failed as expected 0\n",
      "Failed as expected 1\n",
      "Failed as expected 2\n",
      "Failed as expected 3\n",
      "Original Dataset shape: (2774280, 1237)\n",
      "Reading indices from data/ASP_dataset_slices/all_cancer_targeted_other_pg_indices.txt\n",
      "Filtered Dataset shape: (214848, 1237)\n",
      "Dataset size: 214848\n"
     ]
    }
   ],
   "source": [
    "targeted_other_pg_indices = 'data/ASP_dataset_slices/all_cancer_targeted_other_pg_indices.txt'\n",
    "test_target_other_pg_fn = get_drug_class_indices_filename('targeted_other', use_bc=False, use_csreg=False, use_pgreg=True)\n",
    "assert targeted_other_pg_indices == test_target_other_pg_fn, print('targeted_other_pg_indices error: ' + targeted_other_pg_indices + ' vs ' + test_target_other_pg_fn)\n",
    "targeted_targeted_cs_indices = 'data/ASP_dataset_slices/all_cancer_targeted_targeted_cs_indices.txt'\n",
    "test_target_targeted_cs_fn = get_drug_class_indices_filename('targeted_targeted', use_bc=False, use_csreg=True, use_pgreg=False)\n",
    "assert targeted_targeted_cs_indices == test_target_targeted_cs_fn, print('targeted_targeted_cs_indices error: ' + targeted_targeted_cs_indices + ' vs ' + test_target_targeted_cs_fn)\n",
    "\n",
    "try:\n",
    "    get_drug_class_indices_filename('unknown', use_bc=False, use_csreg=False, use_pgreg=True)\n",
    "except ValueError:\n",
    "    print(\"Failed as expected 0\")\n",
    "try:\n",
    "    get_drug_class_indices_filename('chemo_chemo', use_bc=False, use_csreg=True, use_pgreg=True)\n",
    "except ValueError:\n",
    "    print(\"Failed as expected 1\")\n",
    "try:\n",
    "    get_drug_class_indices_filename('chemo_other', use_bc=True, use_csreg=False, use_pgreg=True)\n",
    "except ValueError:\n",
    "    print(\"Failed as expected 2\")\n",
    "try:\n",
    "    get_drug_class_indices_filename('other_other', use_bc=False, use_csreg=False, use_pgreg=False)\n",
    "except ValueError:\n",
    "    print(\"Failed as expected 3\")\n",
    "\n",
    "mfprna_pg_fn = 'data/ASP_dataset_slices/all_cancer_256_mfprna_percgrowth.csv'\n",
    "mfprna_targeted_other_pg_unbal_dataset = MorganFingerprintDataset(mfprna_pg_fn, indices_filter_fn=targeted_other_pg_indices)\n",
    "print(\"Dataset size:\", len(mfprna_targeted_other_pg_unbal_dataset))"
   ]
  },
  {
   "cell_type": "markdown",
   "metadata": {},
   "source": [
    "Test get_mask1gl"
   ]
  },
  {
   "cell_type": "code",
   "execution_count": 11,
   "metadata": {},
   "outputs": [
    {
     "name": "stdout",
     "output_type": "stream",
     "text": [
      "torch.Size([722, 3127])\n",
      "torch.Size([722, 3129])\n",
      "Failed mfp true, cs and pg both true, as expected\n",
      "Cannot use both cs and pg or neither, choose whether to include conc\n",
      "Failed mfp true, cs and pg both false, as expected\n",
      "Cannot use both cs and pg or neither, choose whether to include conc\n",
      "torch.Size([722, 2615])\n",
      "torch.Size([722, 2615])\n"
     ]
    }
   ],
   "source": [
    "output_prefix='scratch/anticancer-synergy-prediction-scratch/experiments/20240820_dataset_test/'\n",
    "mask_test_cs = get_mask1gl(True, True, True, True, output_prefix+'mask_cs.csv', True, False)\n",
    "assert mask_test_cs.shape == torch.Size([722, 3127]), print('mask_test.shape error: ' + str(mask_test_cs.shape))\n",
    "\n",
    "mask_test_pgreg = get_mask1gl(True, True, True, True, output_prefix+'mask_pgreg.csv', False, True)\n",
    "assert mask_test_pgreg.shape == torch.Size([722, 3129]), print('mask_test.shape error: ' + str(mask_test_pgreg.shape))\n",
    "\n",
    "# Check that mask does not use both cs and pgreg\n",
    "try: \n",
    "    mask_test_mfptrue_both = get_mask1gl(True, True, True, True, output_prefix+'mask_mfptrue_both.csv', True, True)\n",
    "except ValueError as e:\n",
    "    print(\"Failed mfp true, cs and pg both true, as expected\")\n",
    "    print(e)\n",
    "\n",
    "# Check that mask cannot use neither cs and pgreg if mfp is true\n",
    "try: \n",
    "    mask_test_mfptrue_neither = get_mask1gl(True, True, True, True, output_prefix+'mask_mfptrue_neither.csv', False, False)\n",
    "except ValueError as e:\n",
    "    print(\"Failed mfp true, cs and pg both false, as expected\")\n",
    "    print(e)\n",
    "\n",
    "# Check that mask is okay to use neithr or both cs and pgreg if mfp is false\n",
    "mask_test_mfpfalse_neither = get_mask1gl(False, True, True, True, output_prefix+'mask_mfpfalse_neither.csv', False, False)\n",
    "assert mask_test_mfpfalse_neither.shape == torch.Size([722, 2615]), print('mask_test.shape error: ' + str(mask_test_mfpfalse_neither.shape))\n",
    "mask_test_mfpfalse_both = get_mask1gl(False, True, True, True, output_prefix+'mask_mfpfalse_both.csv', True, True)\n",
    "assert mask_test_mfpfalse_both.shape == torch.Size([722, 2615]), print('mask_test.shape error: ' + str(mask_test_mfpfalse_both.shape))\n",
    "\n"
   ]
  },
  {
   "cell_type": "markdown",
   "metadata": {},
   "source": [
    "Test get_masks_concat"
   ]
  },
  {
   "cell_type": "code",
   "execution_count": 12,
   "metadata": {},
   "outputs": [
    {
     "name": "stdout",
     "output_type": "stream",
     "text": [
      "Failed as expected:  Must use at least one prediction task\n",
      "Failed as expected:  Must use at least one omics layer\n",
      "Failed as expected:  Cannot use both two prediction tasks simultaneously\n"
     ]
    }
   ],
   "source": [
    "# Test the get_masks_concat function\n",
    "# Error checks\n",
    "try:\n",
    "    get_masks_concat(use_mfp=False, use_dna=False, use_rna=False, use_prot=False, use_bc=False, use_csreg=False, use_pgreg=False)\n",
    "except ValueError as e:\n",
    "    print(\"Failed as expected: \", e)\n",
    "\n",
    "try:\n",
    "    get_masks_concat(use_mfp=False, use_dna=False, use_rna=False, use_prot=False, use_bc=True, use_csreg=False, use_pgreg=False)\n",
    "except ValueError as e:\n",
    "    print(\"Failed as expected: \", e)\n",
    "\n",
    "try:\n",
    "    get_masks_concat(use_mfp=True, use_dna=False, use_rna=False, use_prot=False, use_bc=True, use_csreg=True, use_pgreg=False)\n",
    "except ValueError as e:\n",
    "    print(\"Failed as expected: \", e)\n",
    "\n",
    "# Single Omics\n",
    "masks_mfp_bc0 = get_masks_concat(use_mfp=True, use_dna=False, use_rna=False, use_prot=False, use_bc=True, use_csreg=False, use_pgreg=False)\n",
    "assert len(masks_mfp_bc0) == 1, print('masks_mfp_bc0 length error: ' + str(len(masks_mfp_bc0)))\n",
    "assert masks_mfp_bc0[0].shape == torch.Size([512, 1]), print('masks_mfp_bc0 shape error: ' + str(masks_mfp_bc0[0].shape))\n",
    "\n",
    "masks_mfp_cs = get_masks_concat(use_mfp=True, use_dna=False, use_rna=False, use_prot=False, use_bc=False, use_csreg=True, use_pgreg=False)\n",
    "assert len(masks_mfp_cs) == 1, print('masks_mfp_cs length error: ' + str(len(masks_mfp_cs)))\n",
    "assert masks_mfp_cs[0].shape == torch.Size([512, 1]), print('masks_mfp_cs shape error: ' + str(masks_mfp_cs[0].shape))\n",
    "\n",
    "masks_mfp_pg = get_masks_concat(use_mfp=True, use_dna=False, use_rna=False, use_prot=False, use_bc=False, use_csreg=False, use_pgreg=True)\n",
    "assert len(masks_mfp_pg) == 1, print('masks_mfp_pg length error: ' + str(len(masks_mfp_pg)))\n",
    "assert masks_mfp_pg[0].shape == torch.Size([514, 1]), print('masks_mfp_pg shape error: ' + str(masks_mfp_pg[0].shape))\n",
    "\n",
    "masks_dna_bc0 = get_masks_concat(use_mfp=False, use_dna=True, use_rna=False, use_prot=False, use_bc=True, use_csreg=False, use_pgreg=False)\n",
    "assert len(masks_dna_bc0) == 1, print('masks_dna_bc0 length error: ' + str(len(masks_dna_bc0)))\n",
    "assert masks_dna_bc0[0].shape == torch.Size([1171, 1]), print('masks_dna_bc0 shape error: ' + str(masks_dna_bc0[0].shape))\n",
    "\n",
    "masks_rna_bc0 = get_masks_concat(use_mfp=False, use_dna=False, use_rna=True, use_prot=False, use_bc=True, use_csreg=False, use_pgreg=False)\n",
    "assert len(masks_rna_bc0) == 1, print('masks_rna_bc0 length error: ' + str(len(masks_rna_bc0)))\n",
    "assert masks_rna_bc0[0].shape == torch.Size([722, 1]), print('masks_rna_bc0 shape error: ' + str(masks_rna_bc0[0].shape))\n",
    "\n",
    "masks_prot_bc0 = get_masks_concat(use_mfp=False, use_dna=False, use_rna=False, use_prot=True, use_bc=True, use_csreg=False, use_pgreg=False)\n",
    "assert len(masks_prot_bc0) == 1, print('masks_prot_bc0 length error: ' + str(len(masks_prot_bc0)))\n",
    "assert masks_prot_bc0[0].shape == torch.Size([722, 1]), print('masks_prot_bc0 shape error: ' + str(masks_prot_bc0[0].shape))\n",
    "\n",
    "# Two Omics\n",
    "masks_mfpdna_bc0 = get_masks_concat(use_mfp=True, use_dna=True, use_rna=False, use_prot=False, use_bc=True, use_csreg=False, use_pgreg=False)\n",
    "assert len(masks_mfpdna_bc0) == 2, print('masks_mfpdna_bc0 length error: ' + str(len(masks_mfpdna_bc0)))\n",
    "assert masks_mfpdna_bc0[0].shape == torch.Size([512, 1171]), print('masks_mfpdna_bc0 shape error: ' + str(masks_mfpdna_bc0[0].shape))\n",
    "assert masks_mfpdna_bc0[1].shape == torch.Size([1171, 1]), print('masks_mfpdna_bc0 shape error: ' + str(masks_mfpdna_bc0[1].shape))\n",
    "\n",
    "masks_mfpdna_pg = get_masks_concat(use_mfp=True, use_dna=True, use_rna=False, use_prot=False, use_bc=False, use_csreg=False, use_pgreg=True)\n",
    "assert len(masks_mfpdna_pg) == 2, print('masks_mfpdna_pg length error: ' + str(len(masks_mfpdna_pg)))\n",
    "assert masks_mfpdna_pg[0].shape == torch.Size([514, 1171]), print('masks_mfpdna_pg shape error: ' + str(masks_mfpdna_pg[0].shape))\n",
    "assert masks_mfpdna_pg[1].shape == torch.Size([1171, 1]), print('masks_mfpdna_pg shape error: ' + str(masks_mfpdna_pg[1].shape))\n",
    "\n",
    "masks_mfprna_bc0 = get_masks_concat(use_mfp=True, use_dna=False, use_rna=True, use_prot=False, use_bc=True, use_csreg=False, use_pgreg=False)\n",
    "assert len(masks_mfprna_bc0) == 2, print('masks_mfprna_bc0 length error: ' + str(len(masks_mfprna_bc0)))\n",
    "assert masks_mfprna_bc0[0].shape == torch.Size([512, 722]), print('masks_mfprna_bc0 shape error: ' + str(masks_mfprna_bc0[0].shape))\n",
    "assert masks_mfprna_bc0[1].shape == torch.Size([722, 1]), print('masks_mfprna_bc0 shape error: ' + str(masks_mfprna_bc0[1].shape))\n",
    "\n",
    "masks_mfpprot_bc0 = get_masks_concat(use_mfp=True, use_dna=False, use_rna=False, use_prot=True, use_bc=True, use_csreg=False, use_pgreg=False)\n",
    "assert len(masks_mfpprot_bc0) == 2, print('masks_mfpprot_bc0 length error: ' + str(len(masks_mfpprot_bc0)))\n",
    "assert masks_mfpprot_bc0[0].shape == torch.Size([512, 722]), print('masks_mfpprot_bc0 shape error: ' + str(masks_mfpprot_bc0[0].shape))\n",
    "assert masks_mfpprot_bc0[1].shape == torch.Size([722, 1]), print('masks_mfpprot_bc0 shape error: ' + str(masks_mfpprot_bc0[1].shape))\n",
    "\n",
    "# Three Omics\n",
    "masks_mfpdnarna_bc0 = get_masks_concat(use_mfp=True, use_dna=True, use_rna=True, use_prot=False, use_bc=True, use_csreg=False, use_pgreg=False)\n",
    "assert len(masks_mfpdnarna_bc0) == 3, print('masks_mfpdnarna_bc0 length error: ' + str(len(masks_mfpdnarna_bc0)))\n",
    "assert masks_mfpdnarna_bc0[0].shape == torch.Size([512, 1171]), print('masks_mfpdnarna_bc0 shape error: ' + str(masks_mfpdnarna_bc0[0].shape))\n",
    "assert masks_mfpdnarna_bc0[1].shape == torch.Size([1171, 722]), print('masks_mfpdnarna_bc0 shape error: ' + str(masks_mfpdnarna_bc0[1].shape))\n",
    "assert masks_mfpdnarna_bc0[2].shape == torch.Size([722, 1]), print('masks_mfpdnarna_bc0 shape error: ' + str(masks_mfpdnarna_bc0[2].shape))\n",
    "# Check if the number of 1s in the dna to rna mask is 50684\n",
    "assert masks_mfpdnarna_bc0[1].sum() == 50684, print('masks_mfpdnarna_bc0 sum error: ' + str(masks_mfpdnarna_bc0[1].sum()))\n",
    "\n",
    "# All omics\n",
    "masks_mfpdnarnaprot_cs = get_masks_concat(use_mfp=True, use_dna=True, use_rna=True, use_prot=True, use_bc=False, use_csreg=True, use_pgreg=False)\n",
    "assert len(masks_mfpdnarnaprot_cs) == 4, print('masks_mfpdnarnaprot_cs length error: ' + str(len(masks_mfpdnarnaprot_cs)))\n",
    "assert masks_mfpdnarnaprot_cs[0].shape == torch.Size([512, 1171]), print('masks_mfpdnarnaprot_cs shape error: ' + str(masks_mfpdnarnaprot_cs[0].shape))\n",
    "assert masks_mfpdnarnaprot_cs[1].shape == torch.Size([1171, 722]), print('masks_mfpdnarnaprot_cs shape error: ' + str(masks_mfpdnarnaprot_cs[1].shape))\n",
    "assert masks_mfpdnarnaprot_cs[2].shape == torch.Size([722, 722]), print('masks_mfpdnarnaprot_cs shape error: ' + str(masks_mfpdnarnaprot_cs[2].shape))\n",
    "assert masks_mfpdnarnaprot_cs[3].shape == torch.Size([722, 1]), print('masks_mfpdnarnaprot_cs shape error: ' + str(masks_mfpdnarnaprot_cs[3].shape))\n",
    "\n",
    "masks_mfpdnarnaprot_pg = get_masks_concat(use_mfp=True, use_dna=True, use_rna=True, use_prot=True, use_bc=False, use_csreg=False, use_pgreg=True)\n",
    "assert len(masks_mfpdnarnaprot_pg) == 4, print('masks_mfpdnarnaprot_pg length error: ' + str(len(masks_mfpdnarnaprot_pg)))\n",
    "assert masks_mfpdnarnaprot_pg[0].shape == torch.Size([514, 1171]), print('masks_mfpdnarnaprot_pg shape error: ' + str(masks_mfpdnarnaprot_pg[0].shape))\n",
    "assert masks_mfpdnarnaprot_pg[1].shape == torch.Size([1171, 722]), print('masks_mfpdnarnaprot_pg shape error: ' + str(masks_mfpdnarnaprot_pg[1].shape))\n",
    "assert masks_mfpdnarnaprot_pg[2].shape == torch.Size([722, 722]), print('masks_mfpdnarnaprot_pg shape error: ' + str(masks_mfpdnarnaprot_pg[2].shape))\n",
    "assert masks_mfpdnarnaprot_pg[3].shape == torch.Size([722, 1]), print('masks_mfpdnarnaprot_pg shape error: ' + str(masks_mfpdnarnaprot_pg[3].shape))\n",
    "\n"
   ]
  },
  {
   "cell_type": "markdown",
   "metadata": {},
   "source": []
  }
 ],
 "metadata": {
  "kernelspec": {
   "display_name": "env",
   "language": "python",
   "name": "python3"
  },
  "language_info": {
   "codemirror_mode": {
    "name": "ipython",
    "version": 3
   },
   "file_extension": ".py",
   "mimetype": "text/x-python",
   "name": "python",
   "nbconvert_exporter": "python",
   "pygments_lexer": "ipython3",
   "version": "3.8.0"
  }
 },
 "nbformat": 4,
 "nbformat_minor": 2
}
