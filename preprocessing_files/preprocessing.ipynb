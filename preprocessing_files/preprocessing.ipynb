{
 "cells": [
  {
   "cell_type": "markdown",
   "metadata": {},
   "source": [
    "# Pre-process the data #\n",
    "\n",
    "Pre-requisites to using this file\n",
    "- Run the string_preprocessing.py main function and store the STRING database with known interactions as ../data_processed/STRING_full_filtered.tsv\n",
    "- Manually retrieve STRING IDs to UniProtIDs and UniProtIDs to GeneIDs"
   ]
  },
  {
   "cell_type": "code",
   "execution_count": 1,
   "metadata": {},
   "outputs": [],
   "source": [
    "import pandas as pd\n",
    "from string_preprocessing import *\n",
    "from preprocess_data import *"
   ]
  },
  {
   "cell_type": "markdown",
   "metadata": {},
   "source": [
    "Preprocess the DNA, RNA, and Protein data\n"
   ]
  },
  {
   "cell_type": "code",
   "execution_count": 2,
   "metadata": {},
   "outputs": [
    {
     "name": "stdout",
     "output_type": "stream",
     "text": [
      "Original shape: (140258, 76)\n",
      "Transposed shape: (60, 138892)\n",
      "Original shape: (26188, 66)\n",
      "Transposed shape: (60, 26178)\n",
      "Original shape: (3181, 69)\n",
      "Transposed shape: (59, 3167)\n"
     ]
    }
   ],
   "source": [
    "preprocess_dna_data()\n",
    "preprocess_rna_data()\n",
    "preprocess_protein_data()"
   ]
  },
  {
   "cell_type": "markdown",
   "metadata": {},
   "source": [
    "Run the string_preprocessing.py main function before this!\n",
    "\n",
    "Get all of the STRING IDs from the full filtered STRING and save to a file"
   ]
  },
  {
   "cell_type": "code",
   "execution_count": 3,
   "metadata": {},
   "outputs": [
    {
     "name": "stdout",
     "output_type": "stream",
     "text": [
      "Number of known STRING IDs: 18727\n"
     ]
    }
   ],
   "source": [
    "known_STRING = pd.read_csv('../data_processed/STRING_full_filtered.tsv', sep='\\t')\n",
    "# Get all STRING IDs in both columns protein1 and protein2\n",
    "known_STRING_ids = set(known_STRING['protein1']).union(set(known_STRING['protein2']))\n",
    "# Save all STRING IDs in a file\n",
    "with open('../data_processed/known_STRING_ids.txt', 'w') as f:\n",
    "    for id in known_STRING_ids:\n",
    "        f.write(id + '\\n')\n",
    "\n",
    "print('Number of known STRING IDs: {}'.format(len(known_STRING_ids)))"
   ]
  },
  {
   "cell_type": "markdown",
   "metadata": {},
   "source": [
    "### Manually get the STRING id to UniProt ID conversion from https://www.uniprot.org/id-mapping/ ###\n",
    "\n",
    "Manually retrieved STRING IDs to UniProtKB -- 18,305 IDs were mapped to 18,305 results, but 422 ID were not mapped\n",
    "- Mapped STRING IDs saved at \"../data_processed/stringids_to_uniprotkb.tsv\"\n",
    "- Unmapped STRING IDs saved at \"../data_processed/STRING_unmapped_stringids.txt\""
   ]
  },
  {
   "cell_type": "code",
   "execution_count": 4,
   "metadata": {},
   "outputs": [],
   "source": [
    "mapped_uniprot = pd.read_csv('../data_processed/stringids_to_uniprotkb.tsv', sep='\\t')\n",
    "# Get all UniProtKB IDs in \"Entry\" column\n",
    "mapped_uniprot_ids = set(mapped_uniprot['Entry'])\n",
    "# Save all UniProtKB IDs in a file\n",
    "with open('../data_processed/STRING_mapped_uniprot_ids.txt', 'w') as f:\n",
    "    for id in mapped_uniprot_ids:\n",
    "        f.write(id + '\\n')"
   ]
  },
  {
   "cell_type": "markdown",
   "metadata": {},
   "source": [
    "### Manually get the UniProt ID conversion to GeneID from https://www.uniprot.org/id-mapping/ ###\n",
    "\n",
    "UniProtKB AC/ID to GeneID -- 17,816 IDs were mapped to 18,018 results, but 489 ID were not mapped\n",
    "- Mapped UniProtIDs saved at \"../data_processed/uniprot_ids_to_gene_id.tsv\"\n",
    "- Unmapped UniProtIDs saved at \"../data_processed/STRING_unmapped_uniprotids.txt\"\n",
    "\n",
    "The mapped gene IDs have significant intersection with the DNA/RNA/Protein intersection: found 2638 out of 2667"
   ]
  },
  {
   "cell_type": "markdown",
   "metadata": {},
   "source": [
    "Find the entrez IDs for the IDs that couldn't be mapped. Go from STRING ID -> Protein Symbol (assume same as gene name) -> Entrez ID"
   ]
  },
  {
   "cell_type": "code",
   "execution_count": 5,
   "metadata": {},
   "outputs": [
    {
     "name": "stdout",
     "output_type": "stream",
     "text": [
      "Number of gene names mapped to entrez IDs: 27163\n"
     ]
    }
   ],
   "source": [
    "# Get all gene names to entrez IDs possible\n",
    "gene_names_to_entrez_ids = {}\n",
    "\n",
    "dna_identifier_gene_name_entrez = pd.read_csv('../data_processed/dnaexome_identifier_gene_name_entrez_id.csv')\n",
    "# for each gene name in \"Gene name (d)\" column, if it is not in the dictionary, add it with the entrez ID in \"Entrez gene id (e)\" column\n",
    "for index, row in dna_identifier_gene_name_entrez.iterrows():\n",
    "    gene_name = row['Gene name (d)']\n",
    "    entrez_id = row['Entrez gene id (e)']\n",
    "    if gene_name not in gene_names_to_entrez_ids:\n",
    "        gene_names_to_entrez_ids[gene_name] = entrez_id\n",
    "    else:\n",
    "        # Check if the entrez id is the same\n",
    "        if gene_names_to_entrez_ids[gene_name] != entrez_id:\n",
    "            print('Error: gene name ' + str(gene_name) + ' has two different entrez IDs: ' + str(gene_names_to_entrez_ids[gene_name]) + ' and ' + str(entrez_id))\n",
    "\n",
    "rna_gene_name_entrez = pd.read_csv('../data_processed/rna_gene_name_entrez_id.csv')\n",
    "# for each gene name in \"Gene name d\" column, if it is not in the dictionary, add it with the entrez ID in \"Entrez gene id e\" column\n",
    "for index, row in rna_gene_name_entrez.iterrows():\n",
    "    gene_name = row['Gene name d']\n",
    "    entrez_id = row['Entrez gene id e']\n",
    "    if gene_name not in gene_names_to_entrez_ids:\n",
    "        gene_names_to_entrez_ids[gene_name] = entrez_id\n",
    "    else:\n",
    "        # Check if the entrez id is the same\n",
    "        if gene_names_to_entrez_ids[gene_name] != entrez_id:\n",
    "            print('Error: gene name ' + str(gene_name) + ' has two different entrez IDs: ' + str(gene_names_to_entrez_ids[gene_name]) + ' and ' + str(entrez_id))\n",
    "\n",
    "protein_identifier_gene_name_entrez = pd.read_csv('../data_processed/protein_identifier_gene_name_entrez_id.csv')\n",
    "# for each gene name in \"Gene name d\" column, if it is not in the dictionary, add it with the entrez ID in \"Entrez gene id e\" column\n",
    "for index, row in protein_identifier_gene_name_entrez.iterrows():\n",
    "    gene_name = row['Gene name d']\n",
    "    entrez_id = row['Entrez gene id e']\n",
    "    if gene_name not in gene_names_to_entrez_ids:\n",
    "        gene_names_to_entrez_ids[gene_name] = entrez_id\n",
    "    else:\n",
    "        # Check if the entrez id is the same\n",
    "        if gene_names_to_entrez_ids[gene_name] != entrez_id:\n",
    "            print('Error: gene name ' + str(gene_name) + ' has two different entrez IDs: ' + str(gene_names_to_entrez_ids[gene_name]) + ' and ' + str(entrez_id))\n",
    "\n",
    "# Print how many gene names are mapped to entrez IDs\n",
    "print('Number of gene names mapped to entrez IDs: ' + str(len(gene_names_to_entrez_ids)))\n"
   ]
  },
  {
   "cell_type": "markdown",
   "metadata": {},
   "source": [
    "- Collect all STRING IDs that could not be mapped to either uniprot or from uniprot to gene id (STRING_unmapped_stringids.txt + STRING_unmapped_uniprot_ids.txt)\n",
    "- Read in STRING IDs -> protein symbols list\n",
    "- Convert unmapped STRING IDs -> protein symbols -> entrez_ids\n",
    "- Keep track of any IDs that still cannot be mapped in a separate list"
   ]
  },
  {
   "cell_type": "code",
   "execution_count": 6,
   "metadata": {},
   "outputs": [
    {
     "name": "stdout",
     "output_type": "stream",
     "text": [
      "No uniprot IDs from string ID: 422\n",
      "No entrez IDs from uniprot: 489\n",
      "All unmapped STRING IDs: 911\n",
      "No protein symbols: 0\n",
      "Mapped protein symbols: 911\n",
      "9606.ENSP00000375822 ZNF222 7673\n",
      "9606.ENSP00000339992 MYB 4602\n",
      "9606.ENSP00000345151 RFPL4AL1 729974\n",
      "9606.ENSP00000369774 ZNF763 284390\n",
      "9606.ENSP00000312457 BAALC 79870\n",
      "No entrez for protein symbols: 390\n",
      "Mapped protein symbols to entrez IDs: 521\n"
     ]
    }
   ],
   "source": [
    "# Find unmapped STRING IDs -> entrez IDs using protein symbols\n",
    "unmapped_STRING_ids = set()\n",
    "\n",
    "with open('../data_processed/STRING_unmapped_stringids.txt', 'r') as f:\n",
    "    for line in f:\n",
    "        unmapped_STRING_ids.add(line.strip())\n",
    "print(\"No uniprot IDs from string ID: \" + str(len(unmapped_STRING_ids)))\n",
    "\n",
    "unmapped_uniprot_ids = set()\n",
    "with open('../data_processed/STRING_unmapped_uniprot_ids.txt', 'r') as f:\n",
    "    for line in f:\n",
    "        unmapped_uniprot_ids.add(line.strip())\n",
    "print(\"No entrez IDs from uniprot: \" + str(len(unmapped_uniprot_ids)))\n",
    "\n",
    "# Get df with mapping from STRING ID to UniProtKB ID\n",
    "mapped_uniprot = pd.read_csv('../data_processed/stringids_to_uniprotkb.tsv', sep='\\t')\n",
    "for id in unmapped_uniprot_ids:\n",
    "    string_id = mapped_uniprot[mapped_uniprot['Entry'] == id]['From'].values[0]\n",
    "    unmapped_STRING_ids.add(string_id)\n",
    "\n",
    "print(\"All unmapped STRING IDs: \" + str(len(unmapped_STRING_ids)))\n",
    "\n",
    "stringid_to_protsym = get_protein_id_to_symbol_dict()\n",
    "\n",
    "# For each unmapped STRING ID, find the corresponding protein symbol, and if it does not exist, add \n",
    "# list of string_ids_no_protsym\n",
    "string_ids_no_protsym = []\n",
    "mapped_string_ids_to_protsym = {}\n",
    "for id in unmapped_STRING_ids:\n",
    "    if id in stringid_to_protsym:\n",
    "        mapped_string_ids_to_protsym[id] = stringid_to_protsym[id]\n",
    "    else:\n",
    "        string_ids_no_protsym.append(id)\n",
    "\n",
    "print(\"No protein symbols: \" + str(len(string_ids_no_protsym))) # 0\n",
    "print(\"Mapped protein symbols: \" + str(len(mapped_string_ids_to_protsym.keys()))) # 911\n",
    "\n",
    "\n",
    "# Map protein symbols to entrez IDs\n",
    "string_no_entrez = []\n",
    "string_via_protsym_to_entrez = {}\n",
    "protsym_derived_entrez = set()\n",
    "example = 0\n",
    "for stringid in mapped_string_ids_to_protsym:\n",
    "    protsym = mapped_string_ids_to_protsym[stringid]\n",
    "    if protsym in gene_names_to_entrez_ids:\n",
    "        entrez_id = gene_names_to_entrez_ids[protsym]\n",
    "        string_via_protsym_to_entrez[stringid] = entrez_id\n",
    "        protsym_derived_entrez.add(entrez_id)\n",
    "        if example < 5: # Verified top 5 examples manually\n",
    "            print(str(stringid) + ' ' + str(protsym) + ' ' + str(entrez_id))\n",
    "            example += 1\n",
    "    else:\n",
    "        string_no_entrez.append(stringid)\n",
    "\n",
    "print(\"No entrez for protein symbols: \" + str(len(string_no_entrez))) # 390\n",
    "print(\"Mapped protein symbols to entrez IDs: \" + str(len(string_via_protsym_to_entrez))) # 521\n",
    "\n",
    "# Save file of string IDs with no entrez ID\n",
    "with open('../data_processed/STRING_no_entrez.txt', 'w') as f:\n",
    "    for id in string_no_entrez:\n",
    "        f.write(id + '\\n')\n"
   ]
  },
  {
   "cell_type": "markdown",
   "metadata": {},
   "source": [
    "There are several uniprot IDs that map to multiple entrez IDs, but we can just add all of these to one big list of entrez IDs, store a mapping of the entrez ID to STRING ID"
   ]
  },
  {
   "cell_type": "code",
   "execution_count": 7,
   "metadata": {},
   "outputs": [
    {
     "name": "stdout",
     "output_type": "stream",
     "text": [
      "Number of uniprot IDs mapped to multiple gene IDs:  139\n"
     ]
    }
   ],
   "source": [
    "uniprot_mapped_gene = pd.read_csv('../data_processed/uniprot_ids_to_gene_ids.tsv', sep='\\t')\n",
    "\n",
    "# Figure out which uniprot IDs are mapped to multiple gene IDs\n",
    "uniprot_ids_to_gene_ids = {}\n",
    "for index, row in uniprot_mapped_gene.iterrows():\n",
    "    uniprot_id = row['From']\n",
    "    gene_id = row['To']\n",
    "    if uniprot_id not in uniprot_ids_to_gene_ids:\n",
    "        uniprot_ids_to_gene_ids[uniprot_id] = [gene_id]\n",
    "    else:\n",
    "        uniprot_ids_to_gene_ids[uniprot_id].append(gene_id)\n",
    "\n",
    "# Which uniprot IDs are mapped to multiple gene IDs\n",
    "uniprots_with_multiple_gene_ids = []\n",
    "for uniprot_id in uniprot_ids_to_gene_ids:\n",
    "    if len(uniprot_ids_to_gene_ids[uniprot_id]) > 1:\n",
    "        uniprots_with_multiple_gene_ids.append(uniprot_id)\n",
    "print('Number of uniprot IDs mapped to multiple gene IDs: ', len(uniprots_with_multiple_gene_ids))\n",
    "# This is okay because from protein expression or any other data, we don't mind connecting multiple\n",
    "# entrez IDs to one STRING protein node in the STRING layer"
   ]
  },
  {
   "cell_type": "markdown",
   "metadata": {},
   "source": [
    "Get all STRING IDs to Entrez IDs, create dataframe with columns STRING ID, Protein Symbol, Uniprot ID, Entrez ID, save to file"
   ]
  },
  {
   "cell_type": "code",
   "execution_count": 8,
   "metadata": {},
   "outputs": [
    {
     "name": "stdout",
     "output_type": "stream",
     "text": [
      "Number of known STRING IDs not mapped to entrez IDs: 390\n",
      "Number of mapped STRING IDs to entrez IDs (including multiple entrez IDs for the same STRING): 18539\n",
      "Number of unique STRING IDs that are mapped to entrez IDs: 18337\n",
      "              STRING_ID Protein_Symbol Uniprot_ID  Entrez_Gene_ID\n",
      "0  9606.ENSP00000306627         SLC9C1     Q4G0N8          285335\n",
      "1  9606.ENSP00000367029         POLR1E     Q9GZS1           64425\n",
      "2  9606.ENSP00000321971          RHOT2     Q8IXI1           89941\n",
      "3  9606.ENSP00000330658          PAPPA     Q13219            5069\n",
      "4  9606.ENSP00000286091          PDIA4     P13667            9601\n"
     ]
    }
   ],
   "source": [
    "all_mapped_string_ids_to_entrez = pd.DataFrame(columns=['STRING_ID', 'Protein_Symbol', 'Uniprot_ID', 'Entrez_Gene_ID'])\n",
    "stringids_no_entrez = []\n",
    "for stringid in known_STRING_ids:\n",
    "    protein_symbol = stringid_to_protsym[stringid]\n",
    "    entrez_id = ''\n",
    "    uniprot_id = '-'\n",
    "    if stringid in mapped_uniprot['From'].values:\n",
    "        # get the row index of where stringid is in the From column\n",
    "        row_index = mapped_uniprot[mapped_uniprot['From'] == stringid].index[0]\n",
    "        uniprot_id = mapped_uniprot['Entry'][row_index]\n",
    "    \n",
    "    if stringid in string_via_protsym_to_entrez:\n",
    "        entrez_id = string_via_protsym_to_entrez[stringid]\n",
    "        new_row_dict = {'STRING_ID': stringid, 'Protein_Symbol': protein_symbol, 'Uniprot_ID': uniprot_id, 'Entrez_Gene_ID': entrez_id}\n",
    "        all_mapped_string_ids_to_entrez.loc[len(all_mapped_string_ids_to_entrez)] = new_row_dict\n",
    "    elif uniprot_id in uniprot_ids_to_gene_ids:\n",
    "        for gene_id in uniprot_ids_to_gene_ids[uniprot_id]:\n",
    "            new_row_dict = {'STRING_ID': stringid, 'Protein_Symbol': protein_symbol, 'Uniprot_ID': uniprot_id, 'Entrez_Gene_ID': gene_id}\n",
    "            all_mapped_string_ids_to_entrez.loc[len(all_mapped_string_ids_to_entrez)] = new_row_dict\n",
    "    else:\n",
    "        stringids_no_entrez.append(stringid)\n",
    "    \n",
    "print('Number of known STRING IDs not mapped to entrez IDs: ' + str(len(stringids_no_entrez)))\n",
    "print('Number of mapped STRING IDs to entrez IDs (including multiple entrez IDs for the same STRING): ' + str(len(all_mapped_string_ids_to_entrez)))\n",
    "print('Number of unique STRING IDs that are mapped to entrez IDs: ' + str(len(all_mapped_string_ids_to_entrez['STRING_ID'].unique())))\n",
    "print(all_mapped_string_ids_to_entrez.head())\n",
    "\n",
    "\n"
   ]
  },
  {
   "cell_type": "code",
   "execution_count": 9,
   "metadata": {},
   "outputs": [],
   "source": [
    "# Save dataframe to file\n",
    "all_mapped_string_ids_to_entrez.to_csv('../data_processed/string_ids_prot_entrez.csv', index=False)"
   ]
  },
  {
   "cell_type": "markdown",
   "metadata": {},
   "source": []
  }
 ],
 "metadata": {
  "kernelspec": {
   "display_name": "env",
   "language": "python",
   "name": "python3"
  },
  "language_info": {
   "codemirror_mode": {
    "name": "ipython",
    "version": 3
   },
   "file_extension": ".py",
   "mimetype": "text/x-python",
   "name": "python",
   "nbconvert_exporter": "python",
   "pygments_lexer": "ipython3",
   "version": "3.11.11"
  }
 },
 "nbformat": 4,
 "nbformat_minor": 2
}
