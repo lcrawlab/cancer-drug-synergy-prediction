{
 "cells": [
  {
   "cell_type": "markdown",
   "metadata": {},
   "source": [
    "# Example Models Run File #\n",
    "\n",
    "This contains the code to run models on an example dataset to show how to use the code. This can aid modification to GPU-enabled computing resources for running the full dataset. You can cre shell scripts to configure running each of the models with all data combinations"
   ]
  },
  {
   "cell_type": "code",
   "execution_count": 1,
   "metadata": {},
   "outputs": [],
   "source": [
    "from dataset_creation.datasets import *\n",
    "from models.run.run_randomforest_models import *\n",
    "from models.run.run_snn_models import *\n",
    "from models.run.run_svm_models import *\n",
    "from models.run.run_syndeep_models import *\n",
    "from models.run.run_xgboost_models import *\n",
    "from models.src.modelPCNNGL import *\n",
    "from models.src.modelPCNNGLSyndeep import *"
   ]
  },
  {
   "cell_type": "markdown",
   "metadata": {},
   "source": [
    "Get the example data slice that can be run on a local computer without more advanced computing resources"
   ]
  },
  {
   "cell_type": "code",
   "execution_count": 2,
   "metadata": {},
   "outputs": [
    {
     "name": "stdout",
     "output_type": "stream",
     "text": [
      "Initial dataset size: 538920\n",
      "Balancing classes\n",
      "Total feature dimensions: 512\n",
      "Created feature matrix of shape torch.Size([331676, 512])\n",
      "Total feature dimensions: 512\n",
      "Train size: 265340\n",
      "Tune size: 33168\n",
      "Test size: 33168\n",
      "Training data shape: \n",
      "(265340, 512)\n",
      "(265340,)\n",
      "Tuning data shape: \n",
      "(33168, 512)\n",
      "(33168,)\n",
      "Test data shape: \n",
      "(33168, 512)\n",
      "(33168,)\n"
     ]
    }
   ],
   "source": [
    "# DEPRECATED\n",
    "# example_data_fn = 'example_data/all_cancer_256_mfp_bc0_comboscore.csv'\n",
    "# mfp_bc_bal_dataset = MorganFingerprintDataset(example_data_fn, balance_classes=True)\n",
    "\n",
    "h5_path = 'data/ASP_dataset_slices/all_256mfpdnarnaprot.h5'\n",
    "data_path = 'data/ASP_dataset_slices/drug_comboscore_hsa_zip.csv'\n",
    "\n",
    "mfp_bc_bal_dataset = H5Dataset(\n",
    "    h5_path=h5_path,\n",
    "    data_path=data_path,\n",
    "    target_column='COMBOSCORE',\n",
    "    binary_classification=True,\n",
    "    balance_classes=True,\n",
    "    cancer_type='all_cancer',\n",
    "    drug_class='all_drugs',\n",
    "    use_mfp=True,\n",
    "    use_dna=False,\n",
    "    use_rna=False,\n",
    "    use_prot=False\n",
    ")\n",
    "\n",
    "\n",
    "bal_train, bal_val, bal_test = split_data(mfp_bc_bal_dataset, train_size=0.8, tune_size=0.1, test_size=0.1, random_state=42)\n",
    "\n",
    "# To access the actual training/validation/test data, you can use the indices from the split_data function\n",
    "print(\"Training data shape: \")\n",
    "X_train = mfp_bc_bal_dataset.x[bal_train.indices].detach().cpu().numpy().astype(np.float32)\n",
    "print(X_train.shape)\n",
    "y_train = mfp_bc_bal_dataset.y[bal_train.indices].detach().cpu().numpy().astype(np.float32).flatten()\n",
    "print(y_train.shape)\n",
    "\n",
    "print('Tuning data shape: ')\n",
    "X_tune = mfp_bc_bal_dataset.x[bal_val.indices].detach().cpu().numpy().astype(np.float32)\n",
    "print(X_tune.shape)\n",
    "y_tune = mfp_bc_bal_dataset.y[bal_val.indices].detach().cpu().numpy().astype(np.float32).flatten()\n",
    "print(y_tune.shape)\n",
    "\n",
    "print('Test data shape: ')\n",
    "X_test = mfp_bc_bal_dataset.x[bal_test.indices].detach().cpu().numpy().astype(np.float32)\n",
    "print(X_test.shape)\n",
    "y_test = mfp_bc_bal_dataset.y[bal_test.indices].detach().cpu().numpy().astype(np.float32).flatten()\n",
    "print(y_test.shape)\n"
   ]
  },
  {
   "cell_type": "markdown",
   "metadata": {},
   "source": [
    "Run an example SVM"
   ]
  },
  {
   "cell_type": "code",
   "execution_count": 3,
   "metadata": {},
   "outputs": [
    {
     "name": "stdout",
     "output_type": "stream",
     "text": [
      "Model trained\n",
      "[0.627623010130246, 0.5977653631284916, 0.6577083711639731, 0.6376393694732795, 0.6170588782438843, 0.2559172874359938, 0.6277368671462323, 0.25541282806865095]\n",
      "[0.627623010130246, 0.5977653631284916, 0.6577083711639731, 0.6376393694732795, 0.6170588782438843, 0.2559172874359938, 0.6277368671462323, 0.25541282806865095]\n",
      "[0.6240653642064641, 0.5932203389830508, 0.6548917957682802, 0.6320694087403599, 0.6120289990354398, 0.2485864564789535, 0.6240560673756654, 0.24811673119244437]\n"
     ]
    }
   ],
   "source": [
    "# Metrics include: 'Accuracy', 'Sensitivity', 'Specificity', 'Precision', 'F1 Score', 'MCC', 'AUC', 'Kappa'\n",
    "\n",
    "# Train model\n",
    "model_svm_one = fit_svm_bc_model(X_train, y_train)\n",
    "one_svm_metrics = evaluate_svm_bc_model(model_svm_one, X_tune, y_tune)\n",
    "print(one_svm_metrics)\n",
    "\n",
    "# Tune a different model\n",
    "model_svm_two = SVMModelBC(C=10.0)\n",
    "model_svm_two.fit(X_train, y_train)\n",
    "other_svm_metrics = evaluate_svm_bc_model(model_svm_two, X_tune, y_tune)\n",
    "print(other_svm_metrics)\n",
    "\n",
    "# Test the best model\n",
    "best_svm_model = model_svm_two\n",
    "best_svm_metrics = evaluate_svm_bc_model(best_svm_model, X_test, y_test)\n",
    "print(best_svm_metrics)"
   ]
  },
  {
   "cell_type": "markdown",
   "metadata": {},
   "source": [
    "Run an example Random Forest model"
   ]
  },
  {
   "cell_type": "code",
   "execution_count": 4,
   "metadata": {},
   "outputs": [
    {
     "name": "stdout",
     "output_type": "stream",
     "text": [
      "Number of parameters: 750\n",
      "[0.5860769416304872, 0.5095813059410104, 0.6631559832939895, 0.6038582004555809, 0.5527284574034859, 0.17479180294330093, 0.5863686446174999, 0.17263451076777736]\n",
      "Number of parameters: 40280\n",
      "[0.6159551374819102, 0.548687451192407, 0.6837358513407179, 0.6361167212201406, 0.589176288460298, 0.2345421339656471, 0.6162116512665625, 0.23230155045932444]\n",
      "Number of parameters: 40280\n",
      "[0.6130306319343946, 0.546655407443151, 0.6793658448369402, 0.630162703379224, 0.5854462065178774, 0.22804037418720446, 0.6130106261400456, 0.22603028020932114]\n"
     ]
    }
   ],
   "source": [
    "# Metrics include: 'Accuracy', 'Sensitivity', 'Specificity', 'Precision', 'F1 Score', 'MCC', 'AUC', 'Kappa'\n",
    "\n",
    "# Train model\n",
    "model_rf_one = RandomForestModelBC(n_estimators=50, max_depth=1)\n",
    "model_rf_one.fit(X_train, y_train)\n",
    "one_rf_metrics = evaluate_random_forest_bc_model(model_rf_one, X_tune, y_tune)\n",
    "print(one_rf_metrics)\n",
    "\n",
    "# Tune a different model\n",
    "model_rf_two = RandomForestModelBC(n_estimators=128, max_depth=5)\n",
    "model_rf_two.fit(X_train, y_train)\n",
    "other_rf_metrics = evaluate_random_forest_bc_model(model_rf_two, X_tune, y_tune)\n",
    "print(other_rf_metrics)\n",
    "\n",
    "# Test the best model\n",
    "best_rf_model = model_rf_two\n",
    "best_rf_metrics = evaluate_random_forest_bc_model(best_rf_model, X_test, y_test)\n",
    "print(best_rf_metrics)"
   ]
  },
  {
   "cell_type": "markdown",
   "metadata": {},
   "source": [
    "Run an example XGBoost model. Note that the analysis used the GPU implementation (which is different from the CPU version used here to enable ease of running the example code. The GPU version is implemented also in the models/src/models_baselines.py file)"
   ]
  },
  {
   "cell_type": "code",
   "execution_count": 5,
   "metadata": {},
   "outputs": [
    {
     "name": "stdout",
     "output_type": "stream",
     "text": [
      "[0.5964182344428365, 0.5398570312969304, 0.6534108104836269, 0.610820362944335, 0.5731505102040816, 0.19450828741226303, 0.5966339208902787, 0.1931822579055571]\n",
      "[0.6131210805595755, 0.5540337598366072, 0.6726590400096847, 0.6303738637140318, 0.5897435897435898, 0.22827962562931492, 0.6133463999231459, 0.2265881602682328]\n",
      "[0.6118849493487699, 0.550334760842029, 0.6733980348423654, 0.6274240132031358, 0.5863564795475724, 0.22544834386293783, 0.6118663978421971, 0.22374108136574755]\n"
     ]
    }
   ],
   "source": [
    "# Metrics include: 'Accuracy', 'Sensitivity', 'Specificity', 'Precision', 'F1 Score', 'MCC', 'AUC', 'Kappa'\n",
    "\n",
    "# Train model\n",
    "model_xgboost_one = GradientBoostingModelBC(max_depth=2, learning_rate=0.1, n_estimators=10)\n",
    "model_xgboost_one.fit(X_train, y_train)\n",
    "one_xgboost_metrics = evaluate_xgboost_bc_model(model_xgboost_one, X_tune, y_tune)\n",
    "print(one_xgboost_metrics)\n",
    "\n",
    "# Tune a different model\n",
    "model_xgboost_two = GradientBoostingModelBC(max_depth=3, learning_rate=0.1, n_estimators=15)\n",
    "model_xgboost_two.fit(X_train, y_train)\n",
    "two_xgboost_metrics = evaluate_xgboost_bc_model(model_xgboost_two, X_tune, y_tune)\n",
    "print(two_xgboost_metrics)\n",
    "\n",
    "# Test the best model\n",
    "best_xgboost_model = model_xgboost_two\n",
    "best_xgboost_metrics = evaluate_xgboost_bc_model(best_xgboost_model, X_test, y_test)\n",
    "print(best_xgboost_metrics)"
   ]
  },
  {
   "cell_type": "markdown",
   "metadata": {},
   "source": [
    "Run an example SNN"
   ]
  },
  {
   "cell_type": "code",
   "execution_count": 6,
   "metadata": {},
   "outputs": [
    {
     "name": "stdout",
     "output_type": "stream",
     "text": [
      "Epoch [0/5], Loss: 0.6579, Accuracy: 60.78%\n",
      "cpu\n",
      "cpu\n",
      "Y_test flattened shape: (33168,)\n",
      "Y_pred flattened shape: (33168,)\n",
      "[0.6459539315002412, 0.6346488856851085, 0.657345197021972, 0.6511154936521631, 0.6427767468743346, 0.29206003394844104, 0.6459970413535403, 0.29196592595840465]\n",
      "Epoch [0/10], Loss: 0.6614, Accuracy: 60.30%\n",
      "cpu\n",
      "cpu\n",
      "Y_test flattened shape: (33168,)\n",
      "Y_pred flattened shape: (33168,)\n",
      "[0.649662325132658, 0.6209527242145731, 0.6785908843290358, 0.6606378219466991, 0.6401808385458599, 0.30002070457060276, 0.6497718042718045, 0.29947500779995606]\n",
      "cpu\n",
      "cpu\n",
      "Y_test flattened shape: (33168,)\n",
      "Y_pred flattened shape: (33168,)\n",
      "[0.6480041003376749, 0.6177694673985162, 0.6782205075652541, 0.6573812580231065, 0.6369601044808607, 0.2965338772826628, 0.6479949874818851, 0.29599535074817973]\n"
     ]
    }
   ],
   "source": [
    "# Metrics include: 'Accuracy', 'Sensitivity', 'Specificity', 'Precision', 'F1 Score', 'MCC', 'AUC', 'Kappa'\n",
    "train_dataloader = DataLoader(bal_train, batch_size=128, shuffle=True)\n",
    "tune_dataloader = DataLoader(bal_val, batch_size=128, shuffle=True)\n",
    "test_dataloader = DataLoader(bal_test, batch_size=128, shuffle=True)\n",
    "num_features = bal_train.dataset.num_features\n",
    "plot_path_one = 'example_output/snn_one'\n",
    "plot_path_two = 'example_output/snn_two'\n",
    "\n",
    "# Train model\n",
    "model_snn_one = SNNModelBC(\n",
    "    input_size=num_features,\n",
    "    hidden_size=256,\n",
    "    dropout=0.8,\n",
    "    learn_rate=0.0002,\n",
    ")\n",
    "model_snn_one.fit(train_dataloader, None, epochs=5)\n",
    "one_snn_metrics = evaluate_snn_bc_model(model_snn_one, tune_dataloader)\n",
    "print(one_snn_metrics)\n",
    "\n",
    "# Tune a different model\n",
    "model_snn_two  = SNNModelBC(\n",
    "    input_size=num_features,\n",
    "    hidden_size=128,\n",
    "    dropout=0.8,\n",
    "    learn_rate=0.0002,\n",
    ")\n",
    "model_snn_two.fit(train_dataloader, None, epochs=10)\n",
    "two_snn_metrics = evaluate_snn_bc_model(model_snn_two, tune_dataloader)\n",
    "print(two_snn_metrics)\n",
    "\n",
    "# Test the best model\n",
    "best_snn_model = model_snn_two\n",
    "best_snn_metrics = evaluate_snn_bc_model(best_snn_model, test_dataloader)\n",
    "print(best_snn_metrics)"
   ]
  },
  {
   "cell_type": "markdown",
   "metadata": {},
   "source": [
    "Run an example PCNNGL"
   ]
  },
  {
   "cell_type": "code",
   "execution_count": 7,
   "metadata": {},
   "outputs": [
    {
     "name": "stdout",
     "output_type": "stream",
     "text": [
      "Mask shape: torch.Size([722, 512])\n",
      "Actually using BCE Loss\n",
      "Model is training\n",
      "Layer: input.weight, Size: torch.Size([722, 512])\n",
      "Layer: input.bias, Size: torch.Size([722])\n",
      "Layer: output.weight, Size: torch.Size([1, 722])\n",
      "Layer: output.bias, Size: torch.Size([1])\n",
      "Layer: batch_norms.0.weight, Size: torch.Size([512])\n",
      "Layer: batch_norms.0.bias, Size: torch.Size([512])\n",
      "Layer: batch_norms.0.running_mean, Size: torch.Size([512])\n",
      "Layer: batch_norms.0.running_var, Size: torch.Size([512])\n",
      "Layer: batch_norms.0.num_batches_tracked, Size: torch.Size([])\n",
      "Layer: batch_norms.1.weight, Size: torch.Size([722])\n",
      "Layer: batch_norms.1.bias, Size: torch.Size([722])\n",
      "Layer: batch_norms.1.running_mean, Size: torch.Size([722])\n",
      "Layer: batch_norms.1.running_var, Size: torch.Size([722])\n",
      "Layer: batch_norms.1.num_batches_tracked, Size: torch.Size([])\n",
      "Epoch [0/10], Loss: 0.6583, Accuracy: 60.64%\n",
      "Model is testing\n",
      "Y test shape: (33168, 1)\n",
      "Y pred shape: (33168, 1)\n",
      "[0.6357332368547998, 0.5954826695500691, 0.6762907814296956, 0.6495642487386147, 0.6213488780243199, 0.27264043842980307, 0.6358867254898823, 0.2716871927312765]\n",
      "Actually using BCE Loss\n",
      "Model is training\n",
      "Layer: input.weight, Size: torch.Size([722, 512])\n",
      "Layer: input.bias, Size: torch.Size([722])\n",
      "Layer: output.weight, Size: torch.Size([1, 722])\n",
      "Layer: output.bias, Size: torch.Size([1])\n",
      "Layer: batch_norms.0.weight, Size: torch.Size([512])\n",
      "Layer: batch_norms.0.bias, Size: torch.Size([512])\n",
      "Layer: batch_norms.0.running_mean, Size: torch.Size([512])\n",
      "Layer: batch_norms.0.running_var, Size: torch.Size([512])\n",
      "Layer: batch_norms.0.num_batches_tracked, Size: torch.Size([])\n",
      "Layer: batch_norms.1.weight, Size: torch.Size([722])\n",
      "Layer: batch_norms.1.bias, Size: torch.Size([722])\n",
      "Layer: batch_norms.1.running_mean, Size: torch.Size([722])\n",
      "Layer: batch_norms.1.running_var, Size: torch.Size([722])\n",
      "Layer: batch_norms.1.num_batches_tracked, Size: torch.Size([])\n",
      "Epoch [0/15], Loss: 0.6651, Accuracy: 60.65%\n",
      "Model is testing\n",
      "Y test shape: (33168, 1)\n",
      "Y pred shape: (33168, 1)\n",
      "[0.6287083936324168, 0.6205322280290743, 0.6369469160462442, 0.63265556099951, 0.6265352539802881, 0.25750796850118457, 0.6287395720376592, 0.25746033059062756]\n",
      "Model is testing\n",
      "Y test shape: (33168, 1)\n",
      "Y pred shape: (33168, 1)\n",
      "[0.6304269175108539, 0.5918933590687013, 0.6689372475736934, 0.6411630186213656, 0.6155438464433571, 0.26160976743507136, 0.6304153033211973, 0.26083664792989547]\n"
     ]
    },
    {
     "data": {
      "image/png": "[encoded data removed]",
      "text/plain": [
       "<Figure size 640x480 with 1 Axes>"
      ]
     },
     "metadata": {},
     "output_type": "display_data"
    }
   ],
   "source": [
    "params_one = {\n",
    "    'num_epochs': 10,\n",
    "    'batch_size': 128,\n",
    "    'learning_rate': 0.0002,\n",
    "    'loss_fxn': 'MSELoss', # This will autocorrect to BCELoss for binary classification\n",
    "    'optimizer': 'Adam',\n",
    "}\n",
    "\n",
    "params_two = {\n",
    "    'num_epochs': 15,\n",
    "    'batch_size': 128,\n",
    "    'learning_rate': 0.01,\n",
    "    'loss_fxn': 'MSELoss', # This will autocorrect to BCELoss for binary classification\n",
    "    'optimizer': 'Adam',\n",
    "}\n",
    "\n",
    "mask_fp = \"example_data/256_mfp_cs_mask1gl.csv\"\n",
    "mask = pd.read_csv(mask_fp, header=0, index_col=0)\n",
    "mask = mask.T\n",
    "mask = torch.tensor(mask.values, dtype=torch.float32)\n",
    "print(f\"Mask shape: {mask.shape}\")\n",
    "input_size = train_dataloader.dataset[0][0].shape[0]\n",
    "hidden_layer_size = mask.shape[0]\n",
    "\n",
    "pcnngl_model_one = PCNNGLModel(\n",
    "    input_size = input_size,\n",
    "    mask = mask,\n",
    "    hidden_size = hidden_layer_size,\n",
    "    num_epochs = params_one[\"num_epochs\"],\n",
    "    learning_rate = params_one[\"learning_rate\"],\n",
    "    loss_fxn = params_one[\"loss_fxn\"],\n",
    "    device = \"cuda\" if torch.cuda.is_available() else \"cpu\",\n",
    "    binary_classification = True,\n",
    ")\n",
    "\n",
    "optimizer_one = optim.Adam(pcnngl_model_one.parameters(), lr=params_one[\"learning_rate\"])\n",
    "output_fp_one = 'example_output/pcnngl_one_'\n",
    "    \n",
    "train_cov_model(\n",
    "    pcnngl_model_one,\n",
    "    train_dataloader,\n",
    "    optimizer_one,\n",
    "    output_fp_one,\n",
    "    loss_file=output_fp_one,\n",
    ")\n",
    "\n",
    "pcnngl_one_metrics = test_cov_model(pcnngl_model_one, tune_dataloader, output_fp_one)\n",
    "print(pcnngl_one_metrics)\n",
    "\n",
    "pcnngl_model_two = PCNNGLModel(\n",
    "    input_size = input_size,\n",
    "    mask = mask,\n",
    "    hidden_size = hidden_layer_size,\n",
    "    num_epochs = params_two[\"num_epochs\"],\n",
    "    learning_rate = params_two[\"learning_rate\"],\n",
    "    loss_fxn = params_two[\"loss_fxn\"],\n",
    "    device = \"cuda\" if torch.cuda.is_available() else \"cpu\",\n",
    "    binary_classification = True,\n",
    ")\n",
    "\n",
    "optimizer_two = optim.Adam(pcnngl_model_two.parameters(), lr=params_two[\"learning_rate\"])\n",
    "output_fp_two = 'example_output/pcnngl_two_'\n",
    "\n",
    "train_cov_model(\n",
    "    pcnngl_model_two,\n",
    "    train_dataloader,\n",
    "    optimizer_two,\n",
    "    output_fp_two,\n",
    "    loss_file=output_fp_two,\n",
    ")\n",
    "\n",
    "pcnngl_two_metrics = test_cov_model(pcnngl_model_two, tune_dataloader, output_fp_two)\n",
    "print(pcnngl_two_metrics)\n",
    "\n",
    "pcnngl_best_model = pcnngl_model_one\n",
    "pcnngl_best_metrics = test_cov_model(pcnngl_best_model, test_dataloader, 'example_output/pcnngl_best_')\n",
    "print(pcnngl_best_metrics)"
   ]
  },
  {
   "cell_type": "markdown",
   "metadata": {},
   "source": [
    "Run an example SYNDEEP"
   ]
  },
  {
   "cell_type": "code",
   "execution_count": 8,
   "metadata": {},
   "outputs": [
    {
     "name": "stdout",
     "output_type": "stream",
     "text": [
      "Epoch [0/10], Loss: 0.7110, Accuracy: 53.77%\n",
      "cpu\n",
      "cpu\n",
      "Y_test flattened shape: (33168,)\n",
      "Y_pred flattened shape: (33168,)\n",
      "[0.6527375783888085, 0.6193308103562203, 0.6863991283820592, 0.6655477373959073, 0.6416080652187441, 0.3063939014459633, 0.6528649693691397, 0.305649001374656]\n",
      "Epoch [0/30], Loss: 0.7174, Accuracy: 53.36%\n",
      "cpu\n",
      "cpu\n",
      "Y_test flattened shape: (33168,)\n",
      "Y_pred flattened shape: (33168,)\n",
      "[0.6641944042450555, 0.57457800204241, 0.7544942800072635, 0.7022245062770721, 0.6320206158319017, 0.3344513130903032, 0.6645361410248367, 0.32884433838219085]\n",
      "cpu\n",
      "cpu\n",
      "Y_test flattened shape: (33168,)\n",
      "Y_pred flattened shape: (33168,)\n",
      "[0.6672093584177521, 0.579045780807045, 0.7553197902224366, 0.7028332967274324, 0.6349626298035584, 0.33969086276752425, 0.6671827855147408, 0.33438332187011666]\n"
     ]
    }
   ],
   "source": [
    "model_syndeep_one = SYNDEEPModelBC(input_size=num_features,)\n",
    "model_syndeep_one.fit(train_dataloader, None, epochs=10)\n",
    "one_syndeep_metrics = evaluate_syndeep_bc_model(model_syndeep_one, tune_dataloader)\n",
    "print(one_syndeep_metrics)\n",
    "\n",
    "model_syndeep_two = SYNDEEPModelBC(input_size=num_features,)\n",
    "model_syndeep_two.fit(train_dataloader, None, epochs=30)\n",
    "two_syndeep_metrics = evaluate_syndeep_bc_model(model_syndeep_two, tune_dataloader)\n",
    "print(two_syndeep_metrics)\n",
    "\n",
    "best_syndeep_model = model_syndeep_two\n",
    "best_syndeep_metrics = evaluate_syndeep_bc_model(best_syndeep_model, test_dataloader)\n",
    "print(best_syndeep_metrics)"
   ]
  },
  {
   "cell_type": "markdown",
   "metadata": {},
   "source": [
    "Run an example PCNNGL-SYNDEEP"
   ]
  },
  {
   "cell_type": "code",
   "execution_count": 9,
   "metadata": {},
   "outputs": [
    {
     "name": "stdout",
     "output_type": "stream",
     "text": [
      "Actually using BCE Loss\n",
      "Model is training\n",
      "Layer: input.weight, Size: torch.Size([722, 512])\n",
      "Layer: input.bias, Size: torch.Size([722])\n",
      "Layer: output.weight, Size: torch.Size([1, 32])\n",
      "Layer: output.bias, Size: torch.Size([1])\n",
      "Layer: batch_norms.0.weight, Size: torch.Size([512])\n",
      "Layer: batch_norms.0.bias, Size: torch.Size([512])\n",
      "Layer: batch_norms.0.running_mean, Size: torch.Size([512])\n",
      "Layer: batch_norms.0.running_var, Size: torch.Size([512])\n",
      "Layer: batch_norms.0.num_batches_tracked, Size: torch.Size([])\n",
      "Layer: batch_norms.1.weight, Size: torch.Size([722])\n",
      "Layer: batch_norms.1.bias, Size: torch.Size([722])\n",
      "Layer: batch_norms.1.running_mean, Size: torch.Size([722])\n",
      "Layer: batch_norms.1.running_var, Size: torch.Size([722])\n",
      "Layer: batch_norms.1.num_batches_tracked, Size: torch.Size([])\n",
      "Layer: batch_norms.2.weight, Size: torch.Size([128])\n",
      "Layer: batch_norms.2.bias, Size: torch.Size([128])\n",
      "Layer: batch_norms.2.running_mean, Size: torch.Size([128])\n",
      "Layer: batch_norms.2.running_var, Size: torch.Size([128])\n",
      "Layer: batch_norms.2.num_batches_tracked, Size: torch.Size([])\n",
      "Layer: batch_norms.3.weight, Size: torch.Size([32])\n",
      "Layer: batch_norms.3.bias, Size: torch.Size([32])\n",
      "Layer: batch_norms.3.running_mean, Size: torch.Size([32])\n",
      "Layer: batch_norms.3.running_var, Size: torch.Size([32])\n",
      "Layer: batch_norms.3.num_batches_tracked, Size: torch.Size([])\n",
      "Layer: hidden_layers.0.weight, Size: torch.Size([128, 722])\n",
      "Layer: hidden_layers.0.bias, Size: torch.Size([128])\n",
      "Layer: hidden_layers.1.weight, Size: torch.Size([32, 128])\n",
      "Layer: hidden_layers.1.bias, Size: torch.Size([32])\n",
      "Epoch [0/10], Loss: 0.7180, Accuracy: 52.08%\n",
      "Model is testing\n",
      "Y test shape: (33168, 1)\n",
      "Y pred shape: (33168, 1)\n",
      "[0.6224674384949349, 0.5400973148315011, 0.7054657708371164, 0.6488417406365014, 0.5894964594807238, 0.24895006666597896, 0.6227815428343088, 0.24540624522837162]\n",
      "Actually using BCE Loss\n",
      "Model is training\n",
      "Layer: input.weight, Size: torch.Size([722, 512])\n",
      "Layer: input.bias, Size: torch.Size([722])\n",
      "Layer: output.weight, Size: torch.Size([1, 32])\n",
      "Layer: output.bias, Size: torch.Size([1])\n",
      "Layer: batch_norms.0.weight, Size: torch.Size([512])\n",
      "Layer: batch_norms.0.bias, Size: torch.Size([512])\n",
      "Layer: batch_norms.0.running_mean, Size: torch.Size([512])\n",
      "Layer: batch_norms.0.running_var, Size: torch.Size([512])\n",
      "Layer: batch_norms.0.num_batches_tracked, Size: torch.Size([])\n",
      "Layer: batch_norms.1.weight, Size: torch.Size([722])\n",
      "Layer: batch_norms.1.bias, Size: torch.Size([722])\n",
      "Layer: batch_norms.1.running_mean, Size: torch.Size([722])\n",
      "Layer: batch_norms.1.running_var, Size: torch.Size([722])\n",
      "Layer: batch_norms.1.num_batches_tracked, Size: torch.Size([])\n",
      "Layer: batch_norms.2.weight, Size: torch.Size([128])\n",
      "Layer: batch_norms.2.bias, Size: torch.Size([128])\n",
      "Layer: batch_norms.2.running_mean, Size: torch.Size([128])\n",
      "Layer: batch_norms.2.running_var, Size: torch.Size([128])\n",
      "Layer: batch_norms.2.num_batches_tracked, Size: torch.Size([])\n",
      "Layer: batch_norms.3.weight, Size: torch.Size([32])\n",
      "Layer: batch_norms.3.bias, Size: torch.Size([32])\n",
      "Layer: batch_norms.3.running_mean, Size: torch.Size([32])\n",
      "Layer: batch_norms.3.running_var, Size: torch.Size([32])\n",
      "Layer: batch_norms.3.num_batches_tracked, Size: torch.Size([])\n",
      "Layer: hidden_layers.0.weight, Size: torch.Size([128, 722])\n",
      "Layer: hidden_layers.0.bias, Size: torch.Size([128])\n",
      "Layer: hidden_layers.1.weight, Size: torch.Size([32, 128])\n",
      "Layer: hidden_layers.1.bias, Size: torch.Size([32])\n",
      "Epoch [0/30], Loss: 0.7140, Accuracy: 52.23%\n",
      "Epoch [25/30], Loss: 0.6647, Accuracy: 60.15%\n",
      "Model is testing\n",
      "Y test shape: (33168, 1)\n",
      "Y pred shape: (33168, 1)\n",
      "[0.6309696092619392, 0.558058509040668, 0.70443677743478, 0.6554716714880406, 0.6028552887735237, 0.2653121397453411, 0.6312476432377239, 0.26234660961213563]\n",
      "Model is testing\n",
      "Y test shape: (33168, 1)\n",
      "Y pred shape: (33168, 1)\n",
      "[0.6304269175108539, 0.5918933590687013, 0.6689372475736934, 0.6411630186213656, 0.6155438464433571, 0.26160976743507136, 0.6304153033211973, 0.26083664792989547]\n"
     ]
    },
    {
     "data": {
      "image/png": "[encoded data removed]",
      "text/plain": [
       "<Figure size 640x480 with 1 Axes>"
      ]
     },
     "metadata": {},
     "output_type": "display_data"
    }
   ],
   "source": [
    "params_ps_one = {\n",
    "    'hidden_sizes': [722, 128, 32],\n",
    "    'num_epochs': 10,\n",
    "    'batch_size': 128,\n",
    "    'learning_rate': 2e-4,\n",
    "    'loss_fxn': 'MSELoss', # This will autocorrect to BCELoss for binary classification\n",
    "    'optimizer': 'Adam',\n",
    "    'dropout_rate': 0.8,\n",
    "}\n",
    "\n",
    "params_ps_two = {\n",
    "    'hidden_sizes': [722, 128, 32],\n",
    "    'num_epochs': 30,\n",
    "    'batch_size': 128,\n",
    "    'learning_rate': 2e-4,\n",
    "    'loss_fxn': 'MSELoss', # This will autocorrect to BCELoss for binary classification\n",
    "    'optimizer': 'Adam',\n",
    "    'dropout_rate': 0.8,\n",
    "}\n",
    "\n",
    "pcnngl_syndeep_model_one = PCNNGLSyndeepModel(\n",
    "    input_size = input_size,\n",
    "    mask = mask,\n",
    "    hidden_sizes = params_ps_one['hidden_sizes'],\n",
    "    num_epochs = params_ps_one['num_epochs'],\n",
    "    learning_rate = params_ps_one[\"learning_rate\"],\n",
    "    loss_fxn = params_ps_one,\n",
    "    device = \"cuda\" if torch.cuda.is_available() else \"cpu\",\n",
    "    binary_classification = True,\n",
    "    dropout_rate = params_ps_one[\"dropout_rate\"],\n",
    ")\n",
    "\n",
    "optimizer_ps_one = optim.Adam(pcnngl_syndeep_model_one.parameters(), lr=params_ps_one[\"learning_rate\"])\n",
    "output_fp_ps_one = 'example_output/pcnnglsyndeep_one_'\n",
    "    \n",
    "train_cov_model(\n",
    "    pcnngl_syndeep_model_one,\n",
    "    train_dataloader,\n",
    "    optimizer_ps_one,\n",
    "    output_fp_ps_one,\n",
    "    loss_file=output_fp_ps_one,\n",
    ")\n",
    "\n",
    "pcnngl_syndeep_one_metrics = test_cov_model(pcnngl_syndeep_model_one, tune_dataloader, output_fp_ps_one)\n",
    "print(pcnngl_syndeep_one_metrics)\n",
    "\n",
    "pcnngl_syndeep_model_two = PCNNGLSyndeepModel(\n",
    "    input_size = input_size,\n",
    "    mask = mask,\n",
    "    hidden_sizes = params_ps_two['hidden_sizes'],\n",
    "    num_epochs = params_ps_two['num_epochs'],\n",
    "    learning_rate = params_ps_two[\"learning_rate\"],\n",
    "    loss_fxn = params_ps_two,\n",
    "    device = \"cuda\" if torch.cuda.is_available() else \"cpu\",\n",
    "    binary_classification = True,\n",
    "    dropout_rate = params_ps_two[\"dropout_rate\"],\n",
    ")\n",
    "\n",
    "optimizer_ps_two = optim.Adam(pcnngl_syndeep_model_two.parameters(), lr=params_ps_two[\"learning_rate\"])\n",
    "output_fp_ps_two = 'example_output/pcnnglsyndeep_two_'\n",
    "    \n",
    "train_cov_model(\n",
    "    pcnngl_syndeep_model_two,\n",
    "    train_dataloader,\n",
    "    optimizer_ps_two,\n",
    "    output_fp_ps_two,\n",
    "    loss_file=output_fp_ps_two,\n",
    ")\n",
    "\n",
    "pcnngl_syndeep_two_metrics = test_cov_model(pcnngl_syndeep_model_two, tune_dataloader, output_fp_ps_two)\n",
    "print(pcnngl_syndeep_two_metrics)\n",
    "\n",
    "pcnngl_syndeep_best_model = pcnngl_syndeep_model_two\n",
    "pcnngl_syndeep_best_metrics = test_cov_model(pcnngl_best_model, test_dataloader, 'example_output/pcnngl_syndeep_best_')\n",
    "print(pcnngl_syndeep_best_metrics)"
   ]
  }
 ],
 "metadata": {
  "kernelspec": {
   "display_name": "env",
   "language": "python",
   "name": "python3"
  },
  "language_info": {
   "codemirror_mode": {
    "name": "ipython",
    "version": 3
   },
   "file_extension": ".py",
   "mimetype": "text/x-python",
   "name": "python",
   "nbconvert_exporter": "python",
   "pygments_lexer": "ipython3",
   "version": "3.11.11"
  }
 },
 "nbformat": 4,
 "nbformat_minor": 2
}
