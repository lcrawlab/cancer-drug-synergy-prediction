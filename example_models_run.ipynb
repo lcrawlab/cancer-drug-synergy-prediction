{
 "cells": [
  {
   "cell_type": "markdown",
   "metadata": {},
   "source": [
    "# Example Models Run File #\n",
    "\n",
    "This contains the code to run models on an example dataset to show how to use the code. This can aid modification to GPU-enabled computing resources for running the full dataset. You can cre shell scripts to configure running each of the models with all data combinations"
   ]
  },
  {
   "cell_type": "code",
   "execution_count": 1,
   "metadata": {},
   "outputs": [],
   "source": [
    "from dataset_creation.datasets import *\n",
    "from models.run.run_randomforest_models import *\n",
    "from models.run.run_snn_models import *\n",
    "from models.run.run_svm_models import *\n",
    "from models.run.run_syndeep_models import *\n",
    "from models.run.run_xgboost_models import *\n",
    "from models.src.modelPCNNGL import *\n",
    "from models.src.modelPCNNGLSyndeep import *"
   ]
  },
  {
   "cell_type": "markdown",
   "metadata": {},
   "source": [
    "Get the example data slice that can be run on a local computer without more advanced computing resources"
   ]
  },
  {
   "cell_type": "code",
   "execution_count": 2,
   "metadata": {},
   "outputs": [
    {
     "name": "stdout",
     "output_type": "stream",
     "text": [
      "Initial dataset size: 538920\n",
      "Balancing classes\n",
      "Total feature dimensions: 512\n",
      "Created feature matrix of shape torch.Size([331676, 512])\n",
      "Total feature dimensions: 512\n",
      "Train size: 265340\n",
      "Tune size: 33168\n",
      "Test size: 33168\n",
      "Training data shape: \n",
      "(265340, 512)\n",
      "(265340,)\n",
      "Tuning data shape: \n",
      "(33168, 512)\n",
      "(33168,)\n",
      "Test data shape: \n",
      "(33168, 512)\n",
      "(33168,)\n"
     ]
    }
   ],
   "source": [
    "# DEPRECATED\n",
    "# example_data_fn = 'example_data/all_cancer_256_mfp_bc0_comboscore.csv'\n",
    "# mfp_bc_bal_dataset = MorganFingerprintDataset(example_data_fn, balance_classes=True)\n",
    "\n",
    "h5_path = 'data/ASP_dataset_slices/all_256mfpdnarnaprot.h5'\n",
    "data_path = 'data/ASP_dataset_slices/drug_comboscore_hsa_zip.csv'\n",
    "\n",
    "mfp_bc_bal_dataset = H5Dataset(\n",
    "    h5_path=h5_path,\n",
    "    data_path=data_path,\n",
    "    target_column='COMBOSCORE',\n",
    "    binary_classification=True,\n",
    "    balance_classes=True,\n",
    "    cancer_type='all_cancer',\n",
    "    drug_class='all_drugs',\n",
    "    use_mfp=True,\n",
    "    use_dna=False,\n",
    "    use_rna=False,\n",
    "    use_prot=False\n",
    ")\n",
    "\n",
    "\n",
    "bal_train, bal_val, bal_test = split_data(mfp_bc_bal_dataset, train_size=0.8, tune_size=0.1, test_size=0.1, random_state=42)\n",
    "\n",
    "# To access the actual training/validation/test data, you can use the indices from the split_data function\n",
    "print(\"Training data shape: \")\n",
    "X_train = mfp_bc_bal_dataset.x[bal_train.indices].detach().cpu().numpy().astype(np.float32)\n",
    "print(X_train.shape)\n",
    "y_train = mfp_bc_bal_dataset.y[bal_train.indices].detach().cpu().numpy().astype(np.float32).flatten()\n",
    "print(y_train.shape)\n",
    "\n",
    "print('Tuning data shape: ')\n",
    "X_tune = mfp_bc_bal_dataset.x[bal_val.indices].detach().cpu().numpy().astype(np.float32)\n",
    "print(X_tune.shape)\n",
    "y_tune = mfp_bc_bal_dataset.y[bal_val.indices].detach().cpu().numpy().astype(np.float32).flatten()\n",
    "print(y_tune.shape)\n",
    "\n",
    "print('Test data shape: ')\n",
    "X_test = mfp_bc_bal_dataset.x[bal_test.indices].detach().cpu().numpy().astype(np.float32)\n",
    "print(X_test.shape)\n",
    "y_test = mfp_bc_bal_dataset.y[bal_test.indices].detach().cpu().numpy().astype(np.float32).flatten()\n",
    "print(y_test.shape)\n"
   ]
  },
  {
   "cell_type": "markdown",
   "metadata": {},
   "source": [
    "Run an example SVM"
   ]
  },
  {
   "cell_type": "code",
   "execution_count": 3,
   "metadata": {},
   "outputs": [
    {
     "name": "stdout",
     "output_type": "stream",
     "text": [
      "Model trained\n",
      "[0.6257235890014472, 0.5953625277827836, 0.6563162036196356, 0.6357688113413305, 0.6149025933738678, 0.25213112404208793, 0.6258393657012096, 0.251617750312613]\n",
      "[0.6257235890014472, 0.5953625277827836, 0.6563162036196356, 0.6357688113413305, 0.6149025933738678, 0.25213112404208793, 0.6258393657012096, 0.251617750312613]\n",
      "[0.6195429329474192, 0.5907473309608541, 0.6483211766833444, 0.6266956744305093, 0.6081907659825504, 0.23946670809810852, 0.6195342538220993, 0.23907264099115388]\n"
     ]
    }
   ],
   "source": [
    "# Metrics include: 'Accuracy', 'Sensitivity', 'Specificity', 'Precision', 'F1 Score', 'MCC', 'AUC', 'Kappa'\n",
    "\n",
    "# Train model\n",
    "model_svm_one = fit_svm_bc_model(X_train, y_train)\n",
    "one_svm_metrics = evaluate_svm_bc_model(model_svm_one, X_tune, y_tune)\n",
    "print(one_svm_metrics)\n",
    "\n",
    "# Tune a different model\n",
    "model_svm_two = SVMModelBC(C=10.0)\n",
    "model_svm_two.fit(X_train, y_train)\n",
    "other_svm_metrics = evaluate_svm_bc_model(model_svm_two, X_tune, y_tune)\n",
    "print(other_svm_metrics)\n",
    "\n",
    "# Test the best model\n",
    "best_svm_model = model_svm_two\n",
    "best_svm_metrics = evaluate_svm_bc_model(best_svm_model, X_test, y_test)\n",
    "print(best_svm_metrics)"
   ]
  },
  {
   "cell_type": "markdown",
   "metadata": {},
   "source": [
    "Run an example Random Forest model"
   ]
  },
  {
   "cell_type": "code",
   "execution_count": 4,
   "metadata": {},
   "outputs": [
    {
     "name": "stdout",
     "output_type": "stream",
     "text": [
      "Number of parameters: 750\n",
      "[0.5857452966714906, 0.5257403736408962, 0.646207856667272, 0.5995752551894225, 0.5602355652285239, 0.17319462778297456, 0.5859741151540842, 0.17186752243251846]\n",
      "Number of parameters: 40300\n",
      "[0.6157139411480945, 0.5462846158466991, 0.685672780098057, 0.636522712955834, 0.5879614663477081, 0.23421319655824516, 0.615978697972378, 0.2318320663175717]\n",
      "Number of parameters: 40300\n",
      "[0.6136637723106608, 0.5433982749261114, 0.6838869130146482, 0.6320774573773942, 0.5843928386092372, 0.22956416091806575, 0.6136425939703799, 0.22729479942980046]\n"
     ]
    }
   ],
   "source": [
    "# Metrics include: 'Accuracy', 'Sensitivity', 'Specificity', 'Precision', 'F1 Score', 'MCC', 'AUC', 'Kappa'\n",
    "\n",
    "# Train model\n",
    "model_rf_one = RandomForestModelBC(n_estimators=50, max_depth=1)\n",
    "model_rf_one.fit(X_train, y_train)\n",
    "one_rf_metrics = evaluate_random_forest_bc_model(model_rf_one, X_tune, y_tune)\n",
    "print(one_rf_metrics)\n",
    "\n",
    "# Tune a different model\n",
    "model_rf_two = RandomForestModelBC(n_estimators=128, max_depth=5)\n",
    "model_rf_two.fit(X_train, y_train)\n",
    "other_rf_metrics = evaluate_random_forest_bc_model(model_rf_two, X_tune, y_tune)\n",
    "print(other_rf_metrics)\n",
    "\n",
    "# Test the best model\n",
    "best_rf_model = model_rf_two\n",
    "best_rf_metrics = evaluate_random_forest_bc_model(best_rf_model, X_test, y_test)\n",
    "print(best_rf_metrics)"
   ]
  },
  {
   "cell_type": "markdown",
   "metadata": {},
   "source": [
    "Run an example XGBoost model. Note that the analysis used the GPU implementation (which is different from the CPU version used here to enable ease of running the example code. The GPU version is implemented also in the models/src/models_baselines.py file)"
   ]
  },
  {
   "cell_type": "code",
   "execution_count": 5,
   "metadata": {},
   "outputs": [
    {
     "name": "stdout",
     "output_type": "stream",
     "text": [
      "[0.5997346840328027, 0.5133057007268577, 0.6868228315477272, 0.6228588089510897, 0.5628005005598367, 0.2031820320573993, 0.6000642661372925, 0.19999439263646768]\n",
      "[0.6111613603473227, 0.5479666005886946, 0.6748380848616912, 0.6293638747067752, 0.5858514498571016, 0.22459375137410262, 0.6114023427251928, 0.22269485507899123]\n",
      "[0.6087795465508924, 0.5455093793353037, 0.6720115739345349, 0.6243700379703141, 0.5822817409219676, 0.21928443719787516, 0.6087604766349193, 0.21752923432684235]\n"
     ]
    }
   ],
   "source": [
    "# Metrics include: 'Accuracy', 'Sensitivity', 'Specificity', 'Precision', 'F1 Score', 'MCC', 'AUC', 'Kappa'\n",
    "\n",
    "# Train model\n",
    "model_xgboost_one = GradientBoostingModelBC(max_depth=2, learning_rate=0.1, n_estimators=10)\n",
    "model_xgboost_one.fit(X_train, y_train)\n",
    "one_xgboost_metrics = evaluate_xgboost_bc_model(model_xgboost_one, X_tune, y_tune)\n",
    "print(one_xgboost_metrics)\n",
    "\n",
    "# Tune a different model\n",
    "model_xgboost_two = GradientBoostingModelBC(max_depth=3, learning_rate=0.1, n_estimators=15)\n",
    "model_xgboost_two.fit(X_train, y_train)\n",
    "two_xgboost_metrics = evaluate_xgboost_bc_model(model_xgboost_two, X_tune, y_tune)\n",
    "print(two_xgboost_metrics)\n",
    "\n",
    "# Test the best model\n",
    "best_xgboost_model = model_xgboost_two\n",
    "best_xgboost_metrics = evaluate_xgboost_bc_model(best_xgboost_model, X_test, y_test)\n",
    "print(best_xgboost_metrics)"
   ]
  },
  {
   "cell_type": "markdown",
   "metadata": {},
   "source": [
    "Run an example SNN"
   ]
  },
  {
   "cell_type": "code",
   "execution_count": 6,
   "metadata": {},
   "outputs": [
    {
     "name": "stdout",
     "output_type": "stream",
     "text": [
      "Epoch [0/5], Loss: 0.6583, Accuracy: 60.79%\n",
      "cpu\n",
      "cpu\n",
      "Y_test flattened shape: (33168,)\n",
      "Y_pred flattened shape: (33168,)\n",
      "[0.6504462132175591, 0.6276806631825554, 0.6733853882936868, 0.6594509308930262, 0.6431737042964422, 0.3013632339634529, 0.6505330257381211, 0.301010751541977]\n",
      "Epoch [0/10], Loss: 0.6620, Accuracy: 60.26%\n",
      "cpu\n",
      "cpu\n",
      "Y_test flattened shape: (33168,)\n",
      "Y_pred flattened shape: (33168,)\n",
      "[0.6530993728895321, 0.6214332912837148, 0.6850069608377217, 0.6653160974982314, 0.6426264132190335, 0.30703657071094614, 0.6532201260607182, 0.3063631959955718]\n",
      "cpu\n",
      "cpu\n",
      "Y_test flattened shape: (33168,)\n",
      "Y_pred flattened shape: (33168,)\n",
      "[0.6486372407139411, 0.6192170818505338, 0.6780396648381457, 0.6577817645928109, 0.6379171068166284, 0.2977739165093057, 0.6486283733443398, 0.2972619995643947]\n"
     ]
    }
   ],
   "source": [
    "# Metrics include: 'Accuracy', 'Sensitivity', 'Specificity', 'Precision', 'F1 Score', 'MCC', 'AUC', 'Kappa'\n",
    "train_dataloader = DataLoader(bal_train, batch_size=128, shuffle=True)\n",
    "tune_dataloader = DataLoader(bal_val, batch_size=128, shuffle=True)\n",
    "test_dataloader = DataLoader(bal_test, batch_size=128, shuffle=True)\n",
    "num_features = bal_train.dataset.num_features\n",
    "plot_path_one = 'example_output/snn_one'\n",
    "plot_path_two = 'example_output/snn_two'\n",
    "\n",
    "# Train model\n",
    "model_snn_one = SNNModelBC(\n",
    "    input_size=num_features,\n",
    "    hidden_size=256,\n",
    "    dropout=0.8,\n",
    "    learn_rate=0.0002,\n",
    ")\n",
    "model_snn_one.fit(train_dataloader, None, epochs=5)\n",
    "one_snn_metrics = evaluate_snn_bc_model(model_snn_one, tune_dataloader)\n",
    "print(one_snn_metrics)\n",
    "\n",
    "# Tune a different model\n",
    "model_snn_two  = SNNModelBC(\n",
    "    input_size=num_features,\n",
    "    hidden_size=128,\n",
    "    dropout=0.8,\n",
    "    learn_rate=0.0002,\n",
    ")\n",
    "model_snn_two.fit(train_dataloader, None, epochs=10)\n",
    "two_snn_metrics = evaluate_snn_bc_model(model_snn_two, tune_dataloader)\n",
    "print(two_snn_metrics)\n",
    "\n",
    "# Test the best model\n",
    "best_snn_model = model_snn_two\n",
    "best_snn_metrics = evaluate_snn_bc_model(best_snn_model, test_dataloader)\n",
    "print(best_snn_metrics)"
   ]
  },
  {
   "cell_type": "markdown",
   "metadata": {},
   "source": [
    "Run an example PCNNGL"
   ]
  },
  {
   "cell_type": "code",
   "execution_count": 7,
   "metadata": {},
   "outputs": [
    {
     "name": "stdout",
     "output_type": "stream",
     "text": [
      "Mask shape: torch.Size([722, 512])\n",
      "Actually using BCE Loss\n",
      "Model is training\n",
      "Layer: input.weight, Size: torch.Size([722, 512])\n",
      "Layer: input.bias, Size: torch.Size([722])\n",
      "Layer: output.weight, Size: torch.Size([1, 722])\n",
      "Layer: output.bias, Size: torch.Size([1])\n",
      "Layer: batch_norms.0.weight, Size: torch.Size([512])\n",
      "Layer: batch_norms.0.bias, Size: torch.Size([512])\n",
      "Layer: batch_norms.0.running_mean, Size: torch.Size([512])\n",
      "Layer: batch_norms.0.running_var, Size: torch.Size([512])\n",
      "Layer: batch_norms.0.num_batches_tracked, Size: torch.Size([])\n",
      "Layer: batch_norms.1.weight, Size: torch.Size([722])\n",
      "Layer: batch_norms.1.bias, Size: torch.Size([722])\n",
      "Layer: batch_norms.1.running_mean, Size: torch.Size([722])\n",
      "Layer: batch_norms.1.running_var, Size: torch.Size([722])\n",
      "Layer: batch_norms.1.num_batches_tracked, Size: torch.Size([])\n",
      "Epoch [0/10], Loss: 0.6610, Accuracy: 60.35%\n",
      "Model is testing\n",
      "Y test shape: (33168, 1)\n",
      "Y pred shape: (33168, 1)\n",
      "[0.6345574047274481, 0.5808253739412507, 0.6886992312813994, 0.6527815284904132, 0.6147048539368702, 0.27107452020822054, 0.634762302611325, 0.26941135991618426]\n",
      "Actually using BCE Loss\n",
      "Model is training\n",
      "Layer: input.weight, Size: torch.Size([722, 512])\n",
      "Layer: input.bias, Size: torch.Size([722])\n",
      "Layer: output.weight, Size: torch.Size([1, 722])\n",
      "Layer: output.bias, Size: torch.Size([1])\n",
      "Layer: batch_norms.0.weight, Size: torch.Size([512])\n",
      "Layer: batch_norms.0.bias, Size: torch.Size([512])\n",
      "Layer: batch_norms.0.running_mean, Size: torch.Size([512])\n",
      "Layer: batch_norms.0.running_var, Size: torch.Size([512])\n",
      "Layer: batch_norms.0.num_batches_tracked, Size: torch.Size([])\n",
      "Layer: batch_norms.1.weight, Size: torch.Size([722])\n",
      "Layer: batch_norms.1.bias, Size: torch.Size([722])\n",
      "Layer: batch_norms.1.running_mean, Size: torch.Size([722])\n",
      "Layer: batch_norms.1.running_var, Size: torch.Size([722])\n",
      "Layer: batch_norms.1.num_batches_tracked, Size: torch.Size([])\n",
      "Epoch [0/15], Loss: 0.6641, Accuracy: 60.82%\n",
      "Model is testing\n",
      "Y test shape: (33168, 1)\n",
      "Y pred shape: (33168, 1)\n",
      "[0.6262059816690786, 0.6929176428185259, 0.5589855335633436, 0.6128792306466181, 0.6504454719747378, 0.2542247931533426, 0.6259515881909348, 0.25202868621552854]\n",
      "Model is testing\n",
      "Y test shape: (33168, 1)\n",
      "Y pred shape: (33168, 1)\n",
      "[0.6320851423058369, 0.5797092707642197, 0.6844294411959733, 0.6473797655934258, 0.611678599840891, 0.2656012762610838, 0.6320693559800965, 0.2641470341145572]\n"
     ]
    },
    {
     "data": {
      "image/png": "[encoded data removed]",
      "text/plain": [
       "<Figure size 640x480 with 1 Axes>"
      ]
     },
     "metadata": {},
     "output_type": "display_data"
    }
   ],
   "source": [
    "params_one = {\n",
    "    'num_epochs': 10,\n",
    "    'batch_size': 128,\n",
    "    'learning_rate': 0.0002,\n",
    "    'loss_fxn': 'MSELoss', # This will autocorrect to BCELoss for binary classification\n",
    "    'optimizer': 'Adam',\n",
    "}\n",
    "\n",
    "params_two = {\n",
    "    'num_epochs': 15,\n",
    "    'batch_size': 128,\n",
    "    'learning_rate': 0.01,\n",
    "    'loss_fxn': 'MSELoss', # This will autocorrect to BCELoss for binary classification\n",
    "    'optimizer': 'Adam',\n",
    "}\n",
    "\n",
    "mask_fp = \"example_data/256_mfp_cs_mask1gl.csv\"\n",
    "mask = pd.read_csv(mask_fp, header=0, index_col=0)\n",
    "mask = mask.T\n",
    "mask = torch.tensor(mask.values, dtype=torch.float32)\n",
    "print(f\"Mask shape: {mask.shape}\")\n",
    "input_size = train_dataloader.dataset[0][0].shape[0]\n",
    "hidden_layer_size = mask.shape[0]\n",
    "\n",
    "pcnngl_model_one = PCNNGLModel(\n",
    "    input_size = input_size,\n",
    "    mask = mask,\n",
    "    hidden_size = hidden_layer_size,\n",
    "    num_epochs = params_one[\"num_epochs\"],\n",
    "    learning_rate = params_one[\"learning_rate\"],\n",
    "    loss_fxn = params_one[\"loss_fxn\"],\n",
    "    device = \"cuda\" if torch.cuda.is_available() else \"cpu\",\n",
    "    binary_classification = True,\n",
    ")\n",
    "\n",
    "optimizer_one = optim.Adam(pcnngl_model_one.parameters(), lr=params_one[\"learning_rate\"])\n",
    "output_fp_one = 'example_output/pcnngl_one_'\n",
    "    \n",
    "train_cov_model(\n",
    "    pcnngl_model_one,\n",
    "    train_dataloader,\n",
    "    optimizer_one,\n",
    "    output_fp_one,\n",
    "    loss_file=output_fp_one,\n",
    ")\n",
    "\n",
    "pcnngl_one_metrics = test_cov_model(pcnngl_model_one, tune_dataloader, output_fp_one)\n",
    "print(pcnngl_one_metrics)\n",
    "\n",
    "pcnngl_model_two = PCNNGLModel(\n",
    "    input_size = input_size,\n",
    "    mask = mask,\n",
    "    hidden_size = hidden_layer_size,\n",
    "    num_epochs = params_two[\"num_epochs\"],\n",
    "    learning_rate = params_two[\"learning_rate\"],\n",
    "    loss_fxn = params_two[\"loss_fxn\"],\n",
    "    device = \"cuda\" if torch.cuda.is_available() else \"cpu\",\n",
    "    binary_classification = True,\n",
    ")\n",
    "\n",
    "optimizer_two = optim.Adam(pcnngl_model_two.parameters(), lr=params_two[\"learning_rate\"])\n",
    "output_fp_two = 'example_output/pcnngl_two_'\n",
    "\n",
    "train_cov_model(\n",
    "    pcnngl_model_two,\n",
    "    train_dataloader,\n",
    "    optimizer_two,\n",
    "    output_fp_two,\n",
    "    loss_file=output_fp_two,\n",
    ")\n",
    "\n",
    "pcnngl_two_metrics = test_cov_model(pcnngl_model_two, tune_dataloader, output_fp_two)\n",
    "print(pcnngl_two_metrics)\n",
    "\n",
    "pcnngl_best_model = pcnngl_model_one\n",
    "pcnngl_best_metrics = test_cov_model(pcnngl_best_model, test_dataloader, 'example_output/pcnngl_best_')\n",
    "print(pcnngl_best_metrics)"
   ]
  },
  {
   "cell_type": "markdown",
   "metadata": {},
   "source": [
    "Run an example SYNDEEP"
   ]
  },
  {
   "cell_type": "code",
   "execution_count": 8,
   "metadata": {},
   "outputs": [
    {
     "name": "stdout",
     "output_type": "stream",
     "text": [
      "Epoch [0/10], Loss: 0.7121, Accuracy: 53.43%\n",
      "cpu\n",
      "cpu\n",
      "Y_test flattened shape: (33168,)\n",
      "Y_pred flattened shape: (33168,)\n",
      "[0.6553304389773276, 0.6046735147474019, 0.7063737061921191, 0.674800563115908, 0.6378152325434039, 0.3126283823532779, 0.6555236104697606, 0.31092400451725943]\n",
      "Epoch [0/30], Loss: 0.7199, Accuracy: 53.29%\n",
      "cpu\n",
      "cpu\n",
      "Y_test flattened shape: (33168,)\n",
      "Y_pred flattened shape: (33168,)\n",
      "[0.6697720694645442, 0.6389739893073827, 0.7008050360147691, 0.6827342747111682, 0.6601297049058243, 0.340400952336485, 0.6698895126610759, 0.33969599760673785]\n",
      "cpu\n",
      "cpu\n",
      "Y_test flattened shape: (33168,)\n",
      "Y_pred flattened shape: (33168,)\n",
      "[0.6664556198745779, 0.6380963869955968, 0.6947977575501838, 0.6763201636619358, 0.6566524937152789, 0.3334324634575166, 0.6664470722728902, 0.33289981534943813]\n"
     ]
    }
   ],
   "source": [
    "model_syndeep_one = SYNDEEPModelBC(input_size=num_features,)\n",
    "model_syndeep_one.fit(train_dataloader, None, epochs=10)\n",
    "one_syndeep_metrics = evaluate_syndeep_bc_model(model_syndeep_one, tune_dataloader)\n",
    "print(one_syndeep_metrics)\n",
    "\n",
    "model_syndeep_two = SYNDEEPModelBC(input_size=num_features,)\n",
    "model_syndeep_two.fit(train_dataloader, None, epochs=30)\n",
    "two_syndeep_metrics = evaluate_syndeep_bc_model(model_syndeep_two, tune_dataloader)\n",
    "print(two_syndeep_metrics)\n",
    "\n",
    "best_syndeep_model = model_syndeep_two\n",
    "best_syndeep_metrics = evaluate_syndeep_bc_model(best_syndeep_model, test_dataloader)\n",
    "print(best_syndeep_metrics)"
   ]
  },
  {
   "cell_type": "markdown",
   "metadata": {},
   "source": [
    "Run an example PCNNGL-SYNDEEP"
   ]
  },
  {
   "cell_type": "code",
   "execution_count": 9,
   "metadata": {},
   "outputs": [
    {
     "name": "stdout",
     "output_type": "stream",
     "text": [
      "Actually using BCE Loss\n",
      "Model is training\n",
      "Layer: input.weight, Size: torch.Size([722, 512])\n",
      "Layer: input.bias, Size: torch.Size([722])\n",
      "Layer: output.weight, Size: torch.Size([1, 32])\n",
      "Layer: output.bias, Size: torch.Size([1])\n",
      "Layer: batch_norms.0.weight, Size: torch.Size([512])\n",
      "Layer: batch_norms.0.bias, Size: torch.Size([512])\n",
      "Layer: batch_norms.0.running_mean, Size: torch.Size([512])\n",
      "Layer: batch_norms.0.running_var, Size: torch.Size([512])\n",
      "Layer: batch_norms.0.num_batches_tracked, Size: torch.Size([])\n",
      "Layer: batch_norms.1.weight, Size: torch.Size([722])\n",
      "Layer: batch_norms.1.bias, Size: torch.Size([722])\n",
      "Layer: batch_norms.1.running_mean, Size: torch.Size([722])\n",
      "Layer: batch_norms.1.running_var, Size: torch.Size([722])\n",
      "Layer: batch_norms.1.num_batches_tracked, Size: torch.Size([])\n",
      "Layer: batch_norms.2.weight, Size: torch.Size([128])\n",
      "Layer: batch_norms.2.bias, Size: torch.Size([128])\n",
      "Layer: batch_norms.2.running_mean, Size: torch.Size([128])\n",
      "Layer: batch_norms.2.running_var, Size: torch.Size([128])\n",
      "Layer: batch_norms.2.num_batches_tracked, Size: torch.Size([])\n",
      "Layer: batch_norms.3.weight, Size: torch.Size([32])\n",
      "Layer: batch_norms.3.bias, Size: torch.Size([32])\n",
      "Layer: batch_norms.3.running_mean, Size: torch.Size([32])\n",
      "Layer: batch_norms.3.running_var, Size: torch.Size([32])\n",
      "Layer: batch_norms.3.num_batches_tracked, Size: torch.Size([])\n",
      "Layer: hidden_layers.0.weight, Size: torch.Size([128, 722])\n",
      "Layer: hidden_layers.0.bias, Size: torch.Size([128])\n",
      "Layer: hidden_layers.1.weight, Size: torch.Size([32, 128])\n",
      "Layer: hidden_layers.1.bias, Size: torch.Size([32])\n",
      "Epoch [0/10], Loss: 0.7141, Accuracy: 51.78%\n",
      "Model is testing\n",
      "Y test shape: (33168, 1)\n",
      "Y pred shape: (33168, 1)\n",
      "[0.6237337192474675, 0.5438817805009911, 0.7041946613401125, 0.6494512588766946, 0.5919968615143193, 0.2512863816307157, 0.624038220920552, 0.24792276358087384]\n",
      "Actually using BCE Loss\n",
      "Model is training\n",
      "Layer: input.weight, Size: torch.Size([722, 512])\n",
      "Layer: input.bias, Size: torch.Size([722])\n",
      "Layer: output.weight, Size: torch.Size([1, 32])\n",
      "Layer: output.bias, Size: torch.Size([1])\n",
      "Layer: batch_norms.0.weight, Size: torch.Size([512])\n",
      "Layer: batch_norms.0.bias, Size: torch.Size([512])\n",
      "Layer: batch_norms.0.running_mean, Size: torch.Size([512])\n",
      "Layer: batch_norms.0.running_var, Size: torch.Size([512])\n",
      "Layer: batch_norms.0.num_batches_tracked, Size: torch.Size([])\n",
      "Layer: batch_norms.1.weight, Size: torch.Size([722])\n",
      "Layer: batch_norms.1.bias, Size: torch.Size([722])\n",
      "Layer: batch_norms.1.running_mean, Size: torch.Size([722])\n",
      "Layer: batch_norms.1.running_var, Size: torch.Size([722])\n",
      "Layer: batch_norms.1.num_batches_tracked, Size: torch.Size([])\n",
      "Layer: batch_norms.2.weight, Size: torch.Size([128])\n",
      "Layer: batch_norms.2.bias, Size: torch.Size([128])\n",
      "Layer: batch_norms.2.running_mean, Size: torch.Size([128])\n",
      "Layer: batch_norms.2.running_var, Size: torch.Size([128])\n",
      "Layer: batch_norms.2.num_batches_tracked, Size: torch.Size([])\n",
      "Layer: batch_norms.3.weight, Size: torch.Size([32])\n",
      "Layer: batch_norms.3.bias, Size: torch.Size([32])\n",
      "Layer: batch_norms.3.running_mean, Size: torch.Size([32])\n",
      "Layer: batch_norms.3.running_var, Size: torch.Size([32])\n",
      "Layer: batch_norms.3.num_batches_tracked, Size: torch.Size([])\n",
      "Layer: hidden_layers.0.weight, Size: torch.Size([128, 722])\n",
      "Layer: hidden_layers.0.bias, Size: torch.Size([128])\n",
      "Layer: hidden_layers.1.weight, Size: torch.Size([32, 128])\n",
      "Layer: hidden_layers.1.bias, Size: torch.Size([32])\n",
      "Epoch [0/30], Loss: 0.7132, Accuracy: 52.05%\n",
      "Epoch [25/30], Loss: 0.6657, Accuracy: 60.05%\n",
      "Model is testing\n",
      "Y test shape: (33168, 1)\n",
      "Y pred shape: (33168, 1)\n",
      "[0.6287988422575976, 0.5147474019342825, 0.7437201137945645, 0.6692962586893697, 0.5819354838709677, 0.26545691565411955, 0.6292337578644235, 0.25824012364652493]\n",
      "Model is testing\n",
      "Y test shape: (33168, 1)\n",
      "Y pred shape: (33168, 1)\n",
      "[0.6320851423058369, 0.5797092707642197, 0.6844294411959733, 0.6473797655934258, 0.611678599840891, 0.2656012762610838, 0.6320693559800965, 0.2641470341145572]\n"
     ]
    },
    {
     "data": {
      "image/png": "[encoded data removed]",
      "text/plain": [
       "<Figure size 640x480 with 1 Axes>"
      ]
     },
     "metadata": {},
     "output_type": "display_data"
    }
   ],
   "source": [
    "params_ps_one = {\n",
    "    'hidden_sizes': [722, 128, 32],\n",
    "    'num_epochs': 10,\n",
    "    'batch_size': 128,\n",
    "    'learning_rate': 2e-4,\n",
    "    'loss_fxn': 'MSELoss', # This will autocorrect to BCELoss for binary classification\n",
    "    'optimizer': 'Adam',\n",
    "    'dropout_rate': 0.8,\n",
    "}\n",
    "\n",
    "params_ps_two = {\n",
    "    'hidden_sizes': [722, 128, 32],\n",
    "    'num_epochs': 30,\n",
    "    'batch_size': 128,\n",
    "    'learning_rate': 2e-4,\n",
    "    'loss_fxn': 'MSELoss', # This will autocorrect to BCELoss for binary classification\n",
    "    'optimizer': 'Adam',\n",
    "    'dropout_rate': 0.8,\n",
    "}\n",
    "\n",
    "pcnngl_syndeep_model_one = PCNNGLSyndeepModel(\n",
    "    input_size = input_size,\n",
    "    mask = mask,\n",
    "    hidden_sizes = params_ps_one['hidden_sizes'],\n",
    "    num_epochs = params_ps_one['num_epochs'],\n",
    "    learning_rate = params_ps_one[\"learning_rate\"],\n",
    "    loss_fxn = params_ps_one,\n",
    "    device = \"cuda\" if torch.cuda.is_available() else \"cpu\",\n",
    "    binary_classification = True,\n",
    "    dropout_rate = params_ps_one[\"dropout_rate\"],\n",
    ")\n",
    "\n",
    "optimizer_ps_one = optim.Adam(pcnngl_syndeep_model_one.parameters(), lr=params_ps_one[\"learning_rate\"])\n",
    "output_fp_ps_one = 'example_output/pcnnglsyndeep_one_'\n",
    "    \n",
    "train_cov_model(\n",
    "    pcnngl_syndeep_model_one,\n",
    "    train_dataloader,\n",
    "    optimizer_ps_one,\n",
    "    output_fp_ps_one,\n",
    "    loss_file=output_fp_ps_one,\n",
    ")\n",
    "\n",
    "pcnngl_syndeep_one_metrics = test_cov_model(pcnngl_syndeep_model_one, tune_dataloader, output_fp_ps_one)\n",
    "print(pcnngl_syndeep_one_metrics)\n",
    "\n",
    "pcnngl_syndeep_model_two = PCNNGLSyndeepModel(\n",
    "    input_size = input_size,\n",
    "    mask = mask,\n",
    "    hidden_sizes = params_ps_two['hidden_sizes'],\n",
    "    num_epochs = params_ps_two['num_epochs'],\n",
    "    learning_rate = params_ps_two[\"learning_rate\"],\n",
    "    loss_fxn = params_ps_two,\n",
    "    device = \"cuda\" if torch.cuda.is_available() else \"cpu\",\n",
    "    binary_classification = True,\n",
    "    dropout_rate = params_ps_two[\"dropout_rate\"],\n",
    ")\n",
    "\n",
    "optimizer_ps_two = optim.Adam(pcnngl_syndeep_model_two.parameters(), lr=params_ps_two[\"learning_rate\"])\n",
    "output_fp_ps_two = 'example_output/pcnnglsyndeep_two_'\n",
    "    \n",
    "train_cov_model(\n",
    "    pcnngl_syndeep_model_two,\n",
    "    train_dataloader,\n",
    "    optimizer_ps_two,\n",
    "    output_fp_ps_two,\n",
    "    loss_file=output_fp_ps_two,\n",
    ")\n",
    "\n",
    "pcnngl_syndeep_two_metrics = test_cov_model(pcnngl_syndeep_model_two, tune_dataloader, output_fp_ps_two)\n",
    "print(pcnngl_syndeep_two_metrics)\n",
    "\n",
    "pcnngl_syndeep_best_model = pcnngl_syndeep_model_two\n",
    "pcnngl_syndeep_best_metrics = test_cov_model(pcnngl_best_model, test_dataloader, 'example_output/pcnngl_syndeep_best_')\n",
    "print(pcnngl_syndeep_best_metrics)"
   ]
  }
 ],
 "metadata": {
  "kernelspec": {
   "display_name": "env",
   "language": "python",
   "name": "python3"
  },
  "language_info": {
   "codemirror_mode": {
    "name": "ipython",
    "version": 3
   },
   "file_extension": ".py",
   "mimetype": "text/x-python",
   "name": "python",
   "nbconvert_exporter": "python",
   "pygments_lexer": "ipython3",
   "version": "3.11.11"
  }
 },
 "nbformat": 4,
 "nbformat_minor": 2
}
