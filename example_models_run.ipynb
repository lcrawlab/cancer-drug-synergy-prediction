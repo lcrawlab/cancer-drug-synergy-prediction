{
 "cells": [
  {
   "cell_type": "markdown",
   "metadata": {},
   "source": [
    "# Example Models Run File #\n",
    "\n",
    "This contains the code to run models on an example dataset to show how to use the code. This can aid modification to GPU-enabled computing resources for running the full dataset. You can cre shell scripts to configure running each of the models with all data combinations"
   ]
  },
  {
   "cell_type": "code",
   "execution_count": 1,
   "metadata": {},
   "outputs": [],
   "source": [
    "from dataset_creation.datasets import *\n",
    "from models.run.run_randomforest_models import *\n",
    "from models.run.run_snn_models import *\n",
    "from models.run.run_svm_models import *\n",
    "from models.run.run_syndeep_models import *\n",
    "from models.run.run_xgboost_models import *\n",
    "from models.src.modelPCNNGL import *\n",
    "from models.src.modelPCNNGLSyndeep import *"
   ]
  },
  {
   "cell_type": "markdown",
   "metadata": {},
   "source": [
    "Get the example data slice that can be run on a local computer without more advanced computing resources"
   ]
  },
  {
   "cell_type": "code",
   "execution_count": 2,
   "metadata": {},
   "outputs": [
    {
     "name": "stdout",
     "output_type": "stream",
     "text": [
      "Original Dataset shape: (300928, 513)\n",
      "Initial dataset size: 300928\n",
      "Balancing classes\n",
      "Balanced dataset size: 185604\n",
      "Train size: 148483\n",
      "Tune size: 18560\n",
      "Test size: 18561\n",
      "Training data shape: \n",
      "(148483, 512)\n",
      "(148483,)\n",
      "Tuning data shape: \n",
      "(18560, 512)\n",
      "(18560,)\n",
      "Test data shape: \n",
      "(18561, 512)\n",
      "(18561,)\n"
     ]
    }
   ],
   "source": [
    "example_data_fn = 'example_data/all_cancer_256_mfp_bc0_comboscore.csv'\n",
    "\n",
    "mfp_bc_bal_dataset = MorganFingerprintDataset(example_data_fn, balance_classes=True)\n",
    "bal_train, bal_val, bal_test = split_data(mfp_bc_bal_dataset, train_size=0.8, tune_size=0.1, test_size=0.1, random_state=42)\n",
    "\n",
    "# To access the actual training/validation/test data, you can use the indices from the split_data function\n",
    "print(\"Training data shape: \")\n",
    "X_train = mfp_bc_bal_dataset.x[bal_train.indices].detach().cpu().numpy().astype(np.float32)\n",
    "print(X_train.shape)\n",
    "y_train = mfp_bc_bal_dataset.y[bal_train.indices].detach().cpu().numpy().astype(np.float32).flatten()\n",
    "print(y_train.shape)\n",
    "\n",
    "print('Tuning data shape: ')\n",
    "X_tune = mfp_bc_bal_dataset.x[bal_val.indices].detach().cpu().numpy().astype(np.float32)\n",
    "print(X_tune.shape)\n",
    "y_tune = mfp_bc_bal_dataset.y[bal_val.indices].detach().cpu().numpy().astype(np.float32).flatten()\n",
    "print(y_tune.shape)\n",
    "\n",
    "print('Test data shape: ')\n",
    "X_test = mfp_bc_bal_dataset.x[bal_test.indices].detach().cpu().numpy().astype(np.float32)\n",
    "print(X_test.shape)\n",
    "y_test = mfp_bc_bal_dataset.y[bal_test.indices].detach().cpu().numpy().astype(np.float32).flatten()\n",
    "print(y_test.shape)"
   ]
  },
  {
   "cell_type": "markdown",
   "metadata": {},
   "source": [
    "Run an example SVM"
   ]
  },
  {
   "cell_type": "code",
   "execution_count": 3,
   "metadata": {},
   "outputs": [
    {
     "name": "stdout",
     "output_type": "stream",
     "text": [
      "Model trained\n",
      "[0.6321120689655172, 0.6034110535405872, 0.6607142857142857, 0.639295516925892, 0.6208351843625055, 0.2645666201779472, 0.6320626696274365, 0.2641508592561982]\n",
      "[0.6321120689655172, 0.6034110535405872, 0.6607142857142857, 0.639295516925892, 0.6208351843625055, 0.2645666201779472, 0.6320626696274365, 0.2641508592561982]\n",
      "[0.6268520015085394, 0.600649702219816, 0.6527986274930302, 0.6314171883892999, 0.6156492785793563, 0.2538073002551657, 0.626724164856423, 0.253508597367625]\n"
     ]
    }
   ],
   "source": [
    "# Metrics include: 'Accuracy', 'Sensitivity', 'Specificity', 'Precision', 'F1 Score', 'MCC', 'AUC', 'Kappa'\n",
    "\n",
    "# Train model\n",
    "model_svm_one = fit_svm_bc_model(X_train, y_train)\n",
    "one_svm_metrics = evaluate_svm_bc_model(model_svm_one, X_tune, y_tune)\n",
    "print(one_svm_metrics)\n",
    "\n",
    "# Tune a different model\n",
    "model_svm_two = SVMModelBC(C=10.0)\n",
    "model_svm_two.fit(X_train, y_train)\n",
    "other_svm_metrics = evaluate_svm_bc_model(model_svm_two, X_tune, y_tune)\n",
    "print(other_svm_metrics)\n",
    "\n",
    "# Test the best model\n",
    "best_svm_model = model_svm_two\n",
    "best_svm_metrics = evaluate_svm_bc_model(best_svm_model, X_test, y_test)\n",
    "print(best_svm_metrics)"
   ]
  },
  {
   "cell_type": "markdown",
   "metadata": {},
   "source": [
    "Run an example Random Forest model"
   ]
  },
  {
   "cell_type": "code",
   "execution_count": 4,
   "metadata": {},
   "outputs": [
    {
     "name": "stdout",
     "output_type": "stream",
     "text": [
      "Number of parameters: 750\n",
      "[0.5811422413793104, 0.5004317789291882, 0.6615748709122203, 0.595733744538679, 0.5439399272556612, 0.16415929152711203, 0.5810033249207043, 0.16205126947117798]\n",
      "Number of parameters: 40240\n",
      "[0.6143318965517242, 0.5292530224525043, 0.6991179001721171, 0.6367532467532467, 0.5780476302758784, 0.23175433261132955, 0.6141854613123107, 0.2284373013778569]\n",
      "Number of parameters: 40240\n",
      "[0.6118743602176607, 0.5364374661613427, 0.6865751662020159, 0.628919639456646, 0.5790088826554465, 0.22560475922553413, 0.6115063161816792, 0.2231727429345718]\n"
     ]
    }
   ],
   "source": [
    "# Metrics include: 'Accuracy', 'Sensitivity', 'Specificity', 'Precision', 'F1 Score', 'MCC', 'AUC', 'Kappa'\n",
    "\n",
    "# Train model\n",
    "model_rf_one = RandomForestModelBC(n_estimators=50, max_depth=1)\n",
    "model_rf_one.fit(X_train, y_train)\n",
    "one_rf_metrics = evaluate_random_forest_bc_model(model_rf_one, X_tune, y_tune)\n",
    "print(one_rf_metrics)\n",
    "\n",
    "# Tune a different model\n",
    "model_rf_two = RandomForestModelBC(n_estimators=128, max_depth=5)\n",
    "model_rf_two.fit(X_train, y_train)\n",
    "other_rf_metrics = evaluate_random_forest_bc_model(model_rf_two, X_tune, y_tune)\n",
    "print(other_rf_metrics)\n",
    "\n",
    "# Test the best model\n",
    "best_rf_model = model_rf_two\n",
    "best_rf_metrics = evaluate_random_forest_bc_model(best_rf_model, X_test, y_test)\n",
    "print(best_rf_metrics)"
   ]
  },
  {
   "cell_type": "markdown",
   "metadata": {},
   "source": [
    "Run an example XGBoost model. Note that the analysis used the GPU implementation (which is different from the CPU version used here to enable ease of running the example code. The GPU version is implemented also in the models/src/models_baselines.py file)"
   ]
  },
  {
   "cell_type": "code",
   "execution_count": 5,
   "metadata": {},
   "outputs": [
    {
     "name": "stdout",
     "output_type": "stream",
     "text": [
      "[0.5956896551724138, 0.5208333333333334, 0.6702882960413081, 0.6115335868187579, 0.5625510085111344, 0.19330204948422733, 0.5955608146873208, 0.19117043082990004]\n",
      "[0.6162176724137931, 0.5660621761658031, 0.6662005163511188, 0.6282496705403139, 0.5955368803588666, 0.23344518158473546, 0.6161313462584609, 0.23230226999440862]\n",
      "[0.6132212704056893, 0.5714131023280996, 0.6546214883122453, 0.6209696399152742, 0.595161563187278, 0.22683964613942206, 0.6130172953201725, 0.22612263278374978]\n"
     ]
    }
   ],
   "source": [
    "# Metrics include: 'Accuracy', 'Sensitivity', 'Specificity', 'Precision', 'F1 Score', 'MCC', 'AUC', 'Kappa'\n",
    "\n",
    "# Train model\n",
    "model_xgboost_one = GradientBoostingModelBC(max_depth=2, learning_rate=0.1, n_estimators=10)\n",
    "model_xgboost_one.fit(X_train, y_train)\n",
    "one_xgboost_metrics = evaluate_xgboost_bc_model(model_xgboost_one, X_tune, y_tune)\n",
    "print(one_xgboost_metrics)\n",
    "\n",
    "# Tune a different model\n",
    "model_xgboost_two = GradientBoostingModelBC(max_depth=3, learning_rate=0.1, n_estimators=15)\n",
    "model_xgboost_two.fit(X_train, y_train)\n",
    "two_xgboost_metrics = evaluate_xgboost_bc_model(model_xgboost_two, X_tune, y_tune)\n",
    "print(two_xgboost_metrics)\n",
    "\n",
    "# Test the best model\n",
    "best_xgboost_model = model_xgboost_two\n",
    "best_xgboost_metrics = evaluate_xgboost_bc_model(best_xgboost_model, X_test, y_test)\n",
    "print(best_xgboost_metrics)"
   ]
  },
  {
   "cell_type": "markdown",
   "metadata": {},
   "source": [
    "Run an example SNN"
   ]
  },
  {
   "cell_type": "code",
   "execution_count": 6,
   "metadata": {},
   "outputs": [
    {
     "name": "stdout",
     "output_type": "stream",
     "text": [
      "Epoch [0/5], Loss: 0.6576, Accuracy: 60.85%\n",
      "cpu\n",
      "cpu\n",
      "Y_test flattened shape: (18560,)\n",
      "Y_pred flattened shape: (18560,)\n",
      "[0.6494612068965517, 0.6057858376511226, 0.6929862306368331, 0.6628868414835813, 0.6330513254371123, 0.29992767574020374, 0.6493860341439779, 0.29881637123331306]\n",
      "Epoch [0/10], Loss: 0.6622, Accuracy: 60.04%\n",
      "cpu\n",
      "cpu\n",
      "Y_test flattened shape: (18560,)\n",
      "Y_pred flattened shape: (18560,)\n",
      "[0.6570043103448275, 0.6499352331606217, 0.6640490533562823, 0.6584645669291339, 0.6541720990873533, 0.3140175430586446, 0.6569921432584519, 0.3139912869379875]\n",
      "cpu\n",
      "cpu\n",
      "Y_test flattened shape: (18561,)\n",
      "Y_pred flattened shape: (18561,)\n",
      "[0.6521739130434783, 0.6481862479696806, 0.6561226678104225, 0.651147612313717, 0.649663555459084, 0.30431878480916763, 0.6521544578900517, 0.30431566809502697]\n"
     ]
    }
   ],
   "source": [
    "# Metrics include: 'Accuracy', 'Sensitivity', 'Specificity', 'Precision', 'F1 Score', 'MCC', 'AUC', 'Kappa'\n",
    "train_dataloader = DataLoader(bal_train, batch_size=128, shuffle=True)\n",
    "tune_dataloader = DataLoader(bal_val, batch_size=128, shuffle=True)\n",
    "test_dataloader = DataLoader(bal_test, batch_size=128, shuffle=True)\n",
    "num_features = bal_train.dataset[0][0].shape[0]\n",
    "plot_path_one = 'example_output/snn_one'\n",
    "plot_path_two = 'example_output/snn_two'\n",
    "\n",
    "# Train model\n",
    "model_snn_one = SNNModelBC(\n",
    "    input_size=num_features,\n",
    "    hidden_size=256,\n",
    "    dropout=0.8,\n",
    "    learn_rate=0.0002,\n",
    ")\n",
    "model_snn_one.fit(train_dataloader, None, epochs=5)\n",
    "one_snn_metrics = evaluate_snn_bc_model(model_snn_one, tune_dataloader)\n",
    "print(one_snn_metrics)\n",
    "\n",
    "# Tune a different model\n",
    "model_snn_two  = SNNModelBC(\n",
    "    input_size=num_features,\n",
    "    hidden_size=128,\n",
    "    dropout=0.8,\n",
    "    learn_rate=0.0002,\n",
    ")\n",
    "model_snn_two.fit(train_dataloader, None, epochs=10)\n",
    "two_snn_metrics = evaluate_snn_bc_model(model_snn_two, tune_dataloader)\n",
    "print(two_snn_metrics)\n",
    "\n",
    "# Test the best model\n",
    "best_snn_model = model_snn_two\n",
    "best_snn_metrics = evaluate_snn_bc_model(best_snn_model, test_dataloader)\n",
    "print(best_snn_metrics)"
   ]
  },
  {
   "cell_type": "markdown",
   "metadata": {},
   "source": [
    "Run an example PCNNGL"
   ]
  },
  {
   "cell_type": "code",
   "execution_count": 7,
   "metadata": {},
   "outputs": [
    {
     "name": "stdout",
     "output_type": "stream",
     "text": [
      "Mask shape: torch.Size([722, 512])\n",
      "Actually using BCE Loss\n",
      "Model is training\n",
      "Layer: input.weight, Size: torch.Size([722, 512])\n",
      "Layer: input.bias, Size: torch.Size([722])\n",
      "Layer: output.weight, Size: torch.Size([1, 722])\n",
      "Layer: output.bias, Size: torch.Size([1])\n",
      "Layer: batch_norms.0.weight, Size: torch.Size([512])\n",
      "Layer: batch_norms.0.bias, Size: torch.Size([512])\n",
      "Layer: batch_norms.0.running_mean, Size: torch.Size([512])\n",
      "Layer: batch_norms.0.running_var, Size: torch.Size([512])\n",
      "Layer: batch_norms.0.num_batches_tracked, Size: torch.Size([])\n",
      "Layer: batch_norms.1.weight, Size: torch.Size([722])\n",
      "Layer: batch_norms.1.bias, Size: torch.Size([722])\n",
      "Layer: batch_norms.1.running_mean, Size: torch.Size([722])\n",
      "Layer: batch_norms.1.running_var, Size: torch.Size([722])\n",
      "Layer: batch_norms.1.num_batches_tracked, Size: torch.Size([])\n",
      "Epoch [0/10], Loss: 0.6588, Accuracy: 60.62%\n",
      "Model is testing\n",
      "Y test shape: (18560, 1)\n",
      "Y pred shape: (18560, 1)\n",
      "[0.6414331896551724, 0.6057858376511226, 0.6769578313253012, 0.6514219384793964, 0.6277756026623413, 0.2834720114314827, 0.6413718344882119, 0.28277776590634807]\n",
      "Actually using BCE Loss\n",
      "Model is training\n",
      "Layer: input.weight, Size: torch.Size([722, 512])\n",
      "Layer: input.bias, Size: torch.Size([722])\n",
      "Layer: output.weight, Size: torch.Size([1, 722])\n",
      "Layer: output.bias, Size: torch.Size([1])\n",
      "Layer: batch_norms.0.weight, Size: torch.Size([512])\n",
      "Layer: batch_norms.0.bias, Size: torch.Size([512])\n",
      "Layer: batch_norms.0.running_mean, Size: torch.Size([512])\n",
      "Layer: batch_norms.0.running_var, Size: torch.Size([512])\n",
      "Layer: batch_norms.0.num_batches_tracked, Size: torch.Size([])\n",
      "Layer: batch_norms.1.weight, Size: torch.Size([722])\n",
      "Layer: batch_norms.1.bias, Size: torch.Size([722])\n",
      "Layer: batch_norms.1.running_mean, Size: torch.Size([722])\n",
      "Layer: batch_norms.1.running_var, Size: torch.Size([722])\n",
      "Layer: batch_norms.1.num_batches_tracked, Size: torch.Size([])\n",
      "Epoch [0/15], Loss: 0.6647, Accuracy: 61.31%\n",
      "Model is testing\n",
      "Y test shape: (18560, 1)\n",
      "Y pred shape: (18560, 1)\n",
      "[0.6383081896551724, 0.5686528497409327, 0.707723752151463, 0.6597370068879148, 0.6108180184358514, 0.27910714557389404, 0.6381883009461978, 0.27644229205711457]\n",
      "Model is testing\n",
      "Y test shape: (18561, 1)\n",
      "Y pred shape: (18561, 1)\n",
      "[0.636603631269867, 0.6088792636708176, 0.6640574737293587, 0.642188213796254, 0.6250903229392474, 0.2733703921838906, 0.6364683687000882, 0.27300582283720054]\n"
     ]
    },
    {
     "data": {
      "image/png": "[encoded data removed]",
      "text/plain": [
       "<Figure size 640x480 with 1 Axes>"
      ]
     },
     "metadata": {},
     "output_type": "display_data"
    }
   ],
   "source": [
    "params_one = {\n",
    "    'num_epochs': 10,\n",
    "    'batch_size': 128,\n",
    "    'learning_rate': 0.0002,\n",
    "    'loss_fxn': 'MSELoss', # This will autocorrect to BCELoss for binary classification\n",
    "    'optimizer': 'Adam',\n",
    "}\n",
    "\n",
    "params_two = {\n",
    "    'num_epochs': 15,\n",
    "    'batch_size': 128,\n",
    "    'learning_rate': 0.01,\n",
    "    'loss_fxn': 'MSELoss', # This will autocorrect to BCELoss for binary classification\n",
    "    'optimizer': 'Adam',\n",
    "}\n",
    "\n",
    "mask_fp = \"example_data/256_mfp_cs_mask1gl.csv\"\n",
    "mask = pd.read_csv(mask_fp, header=0, index_col=0)\n",
    "mask = mask.T\n",
    "mask = torch.tensor(mask.values, dtype=torch.float32)\n",
    "print(f\"Mask shape: {mask.shape}\")\n",
    "input_size = train_dataloader.dataset[0][0].shape[0]\n",
    "hidden_layer_size = mask.shape[0]\n",
    "\n",
    "pcnngl_model_one = PCNNGLModel(\n",
    "    input_size = input_size,\n",
    "    mask = mask,\n",
    "    hidden_size = hidden_layer_size,\n",
    "    num_epochs = params_one[\"num_epochs\"],\n",
    "    learning_rate = params_one[\"learning_rate\"],\n",
    "    loss_fxn = params_one[\"loss_fxn\"],\n",
    "    device = \"cuda\" if torch.cuda.is_available() else \"cpu\",\n",
    "    binary_classification = True,\n",
    ")\n",
    "\n",
    "optimizer_one = optim.Adam(pcnngl_model_one.parameters(), lr=params_one[\"learning_rate\"])\n",
    "output_fp_one = 'example_output/pcnngl_one_'\n",
    "    \n",
    "train_cov_model(\n",
    "    pcnngl_model_one,\n",
    "    train_dataloader,\n",
    "    optimizer_one,\n",
    "    output_fp_one,\n",
    "    loss_file=output_fp_one,\n",
    ")\n",
    "\n",
    "pcnngl_one_metrics = test_cov_model(pcnngl_model_one, tune_dataloader, output_fp_one)\n",
    "print(pcnngl_one_metrics)\n",
    "\n",
    "pcnngl_model_two = PCNNGLModel(\n",
    "    input_size = input_size,\n",
    "    mask = mask,\n",
    "    hidden_size = hidden_layer_size,\n",
    "    num_epochs = params_two[\"num_epochs\"],\n",
    "    learning_rate = params_two[\"learning_rate\"],\n",
    "    loss_fxn = params_two[\"loss_fxn\"],\n",
    "    device = \"cuda\" if torch.cuda.is_available() else \"cpu\",\n",
    "    binary_classification = True,\n",
    ")\n",
    "\n",
    "optimizer_two = optim.Adam(pcnngl_model_two.parameters(), lr=params_two[\"learning_rate\"])\n",
    "output_fp_two = 'example_output/pcnngl_two_'\n",
    "\n",
    "train_cov_model(\n",
    "    pcnngl_model_two,\n",
    "    train_dataloader,\n",
    "    optimizer_two,\n",
    "    output_fp_two,\n",
    "    loss_file=output_fp_two,\n",
    ")\n",
    "\n",
    "pcnngl_two_metrics = test_cov_model(pcnngl_model_two, tune_dataloader, output_fp_two)\n",
    "print(pcnngl_two_metrics)\n",
    "\n",
    "pcnngl_best_model = pcnngl_model_one\n",
    "pcnngl_best_metrics = test_cov_model(pcnngl_best_model, test_dataloader, 'example_output/pcnngl_best_')\n",
    "print(pcnngl_best_metrics)"
   ]
  },
  {
   "cell_type": "markdown",
   "metadata": {},
   "source": [
    "Run an example SYNDEEP"
   ]
  },
  {
   "cell_type": "code",
   "execution_count": 8,
   "metadata": {},
   "outputs": [
    {
     "name": "stdout",
     "output_type": "stream",
     "text": [
      "Epoch [0/10], Loss: 0.7512, Accuracy: 52.23%\n",
      "cpu\n",
      "cpu\n",
      "Y_test flattened shape: (18560,)\n",
      "Y_pred flattened shape: (18560,)\n",
      "[0.6530172413793104, 0.5953151986183074, 0.7105206540447504, 0.6720692176456251, 0.6313680595306239, 0.3079043962604865, 0.6529179263315289, 0.3058959817710356]\n",
      "Epoch [0/30], Loss: 0.7502, Accuracy: 52.14%\n",
      "cpu\n",
      "cpu\n",
      "Y_test flattened shape: (18560,)\n",
      "Y_pred flattened shape: (18560,)\n",
      "[0.6724137931034483, 0.5952072538860104, 0.7493545611015491, 0.7029576746557878, 0.6446107084404957, 0.3487621386676686, 0.6722809074937797, 0.34465274251974176]\n",
      "cpu\n",
      "cpu\n",
      "Y_test flattened shape: (18561,)\n",
      "Y_pred flattened shape: (18561,)\n",
      "[0.6746403749797963, 0.5998917162966974, 0.7486596611623418, 0.7026889903602233, 0.6472340674104796, 0.3525616172443473, 0.6742756887295197, 0.34880032699333496]\n"
     ]
    }
   ],
   "source": [
    "model_syndeep_one = SYNDEEPModelBC(input_size=num_features,)\n",
    "model_syndeep_one.fit(train_dataloader, None, epochs=10)\n",
    "one_syndeep_metrics = evaluate_syndeep_bc_model(model_syndeep_one, tune_dataloader)\n",
    "print(one_syndeep_metrics)\n",
    "\n",
    "model_syndeep_two = SYNDEEPModelBC(input_size=num_features,)\n",
    "model_syndeep_two.fit(train_dataloader, None, epochs=30)\n",
    "two_syndeep_metrics = evaluate_syndeep_bc_model(model_syndeep_two, tune_dataloader)\n",
    "print(two_syndeep_metrics)\n",
    "\n",
    "best_syndeep_model = model_syndeep_two\n",
    "best_syndeep_metrics = evaluate_syndeep_bc_model(best_syndeep_model, test_dataloader)\n",
    "print(best_syndeep_metrics)"
   ]
  },
  {
   "cell_type": "markdown",
   "metadata": {},
   "source": [
    "Run an example PCNNGL-SYNDEEP"
   ]
  },
  {
   "cell_type": "code",
   "execution_count": 9,
   "metadata": {},
   "outputs": [
    {
     "name": "stdout",
     "output_type": "stream",
     "text": [
      "Actually using BCE Loss\n",
      "Model is training\n",
      "Layer: input.weight, Size: torch.Size([722, 512])\n",
      "Layer: input.bias, Size: torch.Size([722])\n",
      "Layer: output.weight, Size: torch.Size([1, 32])\n",
      "Layer: output.bias, Size: torch.Size([1])\n",
      "Layer: batch_norms.0.weight, Size: torch.Size([512])\n",
      "Layer: batch_norms.0.bias, Size: torch.Size([512])\n",
      "Layer: batch_norms.0.running_mean, Size: torch.Size([512])\n",
      "Layer: batch_norms.0.running_var, Size: torch.Size([512])\n",
      "Layer: batch_norms.0.num_batches_tracked, Size: torch.Size([])\n",
      "Layer: batch_norms.1.weight, Size: torch.Size([722])\n",
      "Layer: batch_norms.1.bias, Size: torch.Size([722])\n",
      "Layer: batch_norms.1.running_mean, Size: torch.Size([722])\n",
      "Layer: batch_norms.1.running_var, Size: torch.Size([722])\n",
      "Layer: batch_norms.1.num_batches_tracked, Size: torch.Size([])\n",
      "Layer: batch_norms.2.weight, Size: torch.Size([128])\n",
      "Layer: batch_norms.2.bias, Size: torch.Size([128])\n",
      "Layer: batch_norms.2.running_mean, Size: torch.Size([128])\n",
      "Layer: batch_norms.2.running_var, Size: torch.Size([128])\n",
      "Layer: batch_norms.2.num_batches_tracked, Size: torch.Size([])\n",
      "Layer: batch_norms.3.weight, Size: torch.Size([32])\n",
      "Layer: batch_norms.3.bias, Size: torch.Size([32])\n",
      "Layer: batch_norms.3.running_mean, Size: torch.Size([32])\n",
      "Layer: batch_norms.3.running_var, Size: torch.Size([32])\n",
      "Layer: batch_norms.3.num_batches_tracked, Size: torch.Size([])\n",
      "Layer: hidden_layers.0.weight, Size: torch.Size([128, 722])\n",
      "Layer: hidden_layers.0.bias, Size: torch.Size([128])\n",
      "Layer: hidden_layers.1.weight, Size: torch.Size([32, 128])\n",
      "Layer: hidden_layers.1.bias, Size: torch.Size([32])\n",
      "Epoch [0/10], Loss: 0.7458, Accuracy: 51.54%\n",
      "Model is testing\n",
      "Y test shape: (18560, 1)\n",
      "Y pred shape: (18560, 1)\n",
      "[0.6154094827586207, 0.4582253886010363, 0.772052495697074, 0.6670333123821496, 0.543255694906578, 0.24256367734945458, 0.6151389421490552, 0.23040202368851737]\n",
      "Actually using BCE Loss\n",
      "Model is training\n",
      "Layer: input.weight, Size: torch.Size([722, 512])\n",
      "Layer: input.bias, Size: torch.Size([722])\n",
      "Layer: output.weight, Size: torch.Size([1, 32])\n",
      "Layer: output.bias, Size: torch.Size([1])\n",
      "Layer: batch_norms.0.weight, Size: torch.Size([512])\n",
      "Layer: batch_norms.0.bias, Size: torch.Size([512])\n",
      "Layer: batch_norms.0.running_mean, Size: torch.Size([512])\n",
      "Layer: batch_norms.0.running_var, Size: torch.Size([512])\n",
      "Layer: batch_norms.0.num_batches_tracked, Size: torch.Size([])\n",
      "Layer: batch_norms.1.weight, Size: torch.Size([722])\n",
      "Layer: batch_norms.1.bias, Size: torch.Size([722])\n",
      "Layer: batch_norms.1.running_mean, Size: torch.Size([722])\n",
      "Layer: batch_norms.1.running_var, Size: torch.Size([722])\n",
      "Layer: batch_norms.1.num_batches_tracked, Size: torch.Size([])\n",
      "Layer: batch_norms.2.weight, Size: torch.Size([128])\n",
      "Layer: batch_norms.2.bias, Size: torch.Size([128])\n",
      "Layer: batch_norms.2.running_mean, Size: torch.Size([128])\n",
      "Layer: batch_norms.2.running_var, Size: torch.Size([128])\n",
      "Layer: batch_norms.2.num_batches_tracked, Size: torch.Size([])\n",
      "Layer: batch_norms.3.weight, Size: torch.Size([32])\n",
      "Layer: batch_norms.3.bias, Size: torch.Size([32])\n",
      "Layer: batch_norms.3.running_mean, Size: torch.Size([32])\n",
      "Layer: batch_norms.3.running_var, Size: torch.Size([32])\n",
      "Layer: batch_norms.3.num_batches_tracked, Size: torch.Size([])\n",
      "Layer: hidden_layers.0.weight, Size: torch.Size([128, 722])\n",
      "Layer: hidden_layers.0.bias, Size: torch.Size([128])\n",
      "Layer: hidden_layers.1.weight, Size: torch.Size([32, 128])\n",
      "Layer: hidden_layers.1.bias, Size: torch.Size([32])\n",
      "Epoch [0/30], Loss: 0.7434, Accuracy: 51.62%\n",
      "Epoch [25/30], Loss: 0.6626, Accuracy: 60.72%\n",
      "Model is testing\n",
      "Y test shape: (18560, 1)\n",
      "Y pred shape: (18560, 1)\n",
      "[0.6266163793103449, 0.5210492227979274, 0.7318201376936316, 0.6594262295081967, 0.5821273516642547, 0.2587050133265959, 0.6264346802457795, 0.2529607244017218]\n",
      "Model is testing\n",
      "Y test shape: (18561, 1)\n",
      "Y pred shape: (18561, 1)\n",
      "[0.636603631269867, 0.6088792636708176, 0.6640574737293587, 0.642188213796254, 0.6250903229392474, 0.2733703921838906, 0.6364683687000882, 0.27300582283720054]\n"
     ]
    },
    {
     "data": {
      "image/png": "[encoded data removed]",
      "text/plain": [
       "<Figure size 640x480 with 1 Axes>"
      ]
     },
     "metadata": {},
     "output_type": "display_data"
    }
   ],
   "source": [
    "params_ps_one = {\n",
    "    'hidden_sizes': [722, 128, 32],\n",
    "    'num_epochs': 10,\n",
    "    'batch_size': 128,\n",
    "    'learning_rate': 2e-4,\n",
    "    'loss_fxn': 'MSELoss', # This will autocorrect to BCELoss for binary classification\n",
    "    'optimizer': 'Adam',\n",
    "    'dropout_rate': 0.8,\n",
    "}\n",
    "\n",
    "params_ps_two = {\n",
    "    'hidden_sizes': [722, 128, 32],\n",
    "    'num_epochs': 30,\n",
    "    'batch_size': 128,\n",
    "    'learning_rate': 2e-4,\n",
    "    'loss_fxn': 'MSELoss', # This will autocorrect to BCELoss for binary classification\n",
    "    'optimizer': 'Adam',\n",
    "    'dropout_rate': 0.8,\n",
    "}\n",
    "\n",
    "pcnngl_syndeep_model_one = PCNNGLSyndeepModel(\n",
    "    input_size = input_size,\n",
    "    mask = mask,\n",
    "    hidden_sizes = params_ps_one['hidden_sizes'],\n",
    "    num_epochs = params_ps_one['num_epochs'],\n",
    "    learning_rate = params_ps_one[\"learning_rate\"],\n",
    "    loss_fxn = params_ps_one,\n",
    "    device = \"cuda\" if torch.cuda.is_available() else \"cpu\",\n",
    "    binary_classification = True,\n",
    "    dropout_rate = params_ps_one[\"dropout_rate\"],\n",
    ")\n",
    "\n",
    "optimizer_ps_one = optim.Adam(pcnngl_syndeep_model_one.parameters(), lr=params_ps_one[\"learning_rate\"])\n",
    "output_fp_ps_one = 'example_output/pcnnglsyndeep_one_'\n",
    "    \n",
    "train_cov_model(\n",
    "    pcnngl_syndeep_model_one,\n",
    "    train_dataloader,\n",
    "    optimizer_ps_one,\n",
    "    output_fp_ps_one,\n",
    "    loss_file=output_fp_ps_one,\n",
    ")\n",
    "\n",
    "pcnngl_syndeep_one_metrics = test_cov_model(pcnngl_syndeep_model_one, tune_dataloader, output_fp_ps_one)\n",
    "print(pcnngl_syndeep_one_metrics)\n",
    "\n",
    "pcnngl_syndeep_model_two = PCNNGLSyndeepModel(\n",
    "    input_size = input_size,\n",
    "    mask = mask,\n",
    "    hidden_sizes = params_ps_two['hidden_sizes'],\n",
    "    num_epochs = params_ps_two['num_epochs'],\n",
    "    learning_rate = params_ps_two[\"learning_rate\"],\n",
    "    loss_fxn = params_ps_two,\n",
    "    device = \"cuda\" if torch.cuda.is_available() else \"cpu\",\n",
    "    binary_classification = True,\n",
    "    dropout_rate = params_ps_two[\"dropout_rate\"],\n",
    ")\n",
    "\n",
    "optimizer_ps_two = optim.Adam(pcnngl_syndeep_model_two.parameters(), lr=params_ps_two[\"learning_rate\"])\n",
    "output_fp_ps_two = 'example_output/pcnnglsyndeep_two_'\n",
    "    \n",
    "train_cov_model(\n",
    "    pcnngl_syndeep_model_two,\n",
    "    train_dataloader,\n",
    "    optimizer_ps_two,\n",
    "    output_fp_ps_two,\n",
    "    loss_file=output_fp_ps_two,\n",
    ")\n",
    "\n",
    "pcnngl_syndeep_two_metrics = test_cov_model(pcnngl_syndeep_model_two, tune_dataloader, output_fp_ps_two)\n",
    "print(pcnngl_syndeep_two_metrics)\n",
    "\n",
    "pcnngl_syndeep_best_model = pcnngl_syndeep_model_two\n",
    "pcnngl_syndeep_best_metrics = test_cov_model(pcnngl_best_model, test_dataloader, 'example_output/pcnngl_syndeep_best_')\n",
    "print(pcnngl_syndeep_best_metrics)"
   ]
  }
 ],
 "metadata": {
  "kernelspec": {
   "display_name": "env",
   "language": "python",
   "name": "python3"
  },
  "language_info": {
   "codemirror_mode": {
    "name": "ipython",
    "version": 3
   },
   "file_extension": ".py",
   "mimetype": "text/x-python",
   "name": "python",
   "nbconvert_exporter": "python",
   "pygments_lexer": "ipython3",
   "version": "3.11.11"
  }
 },
 "nbformat": 4,
 "nbformat_minor": 2
}
