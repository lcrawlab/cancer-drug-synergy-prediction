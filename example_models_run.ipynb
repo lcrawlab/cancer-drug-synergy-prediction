{
 "cells": [
  {
   "cell_type": "markdown",
   "metadata": {},
   "source": [
    "# Example Models Run File #\n",
    "\n",
    "This contains the code to run models on an example dataset to show how to use the code. This can aid modification to GPU-enabled computing resources for running the full dataset. You can cre shell scripts to configure running each of the models with all data combinations"
   ]
  },
  {
   "cell_type": "code",
   "execution_count": 1,
   "metadata": {},
   "outputs": [],
   "source": [
    "from dataset_creation.datasets import *\n",
    "from models.run.run_randomforest_models import *\n",
    "from models.run.run_snn_models import *\n",
    "from models.run.run_svm_models import *\n",
    "from models.run.run_syndeep_models import *\n",
    "from models.run.run_xgboost_models import *\n",
    "from models.src.modelPCNNGL import *\n",
    "from models.src.modelPCNNGLSyndeep import *"
   ]
  },
  {
   "cell_type": "markdown",
   "metadata": {},
   "source": [
    "Get the example data slice that can be run on a local computer without more advanced computing resources"
   ]
  },
  {
   "cell_type": "code",
   "execution_count": 2,
   "metadata": {},
   "outputs": [
    {
     "name": "stdout",
     "output_type": "stream",
     "text": [
      "Original Dataset shape: (300928, 513)\n",
      "Initial dataset size: 300928\n",
      "Balancing classes\n",
      "Balanced dataset size: 185604\n",
      "Train size: 148483\n",
      "Tune size: 18560\n",
      "Test size: 18561\n",
      "Training data shape: \n",
      "(148483, 512)\n",
      "(148483,)\n",
      "Tuning data shape: \n",
      "(18560, 512)\n",
      "(18560,)\n",
      "Test data shape: \n",
      "(18561, 512)\n",
      "(18561,)\n"
     ]
    }
   ],
   "source": [
    "example_data_fn = 'example_data/all_cancer_256_mfp_bc0_comboscore.csv'\n",
    "\n",
    "mfp_bc_bal_dataset = MorganFingerprintDataset(example_data_fn, balance_classes=True)\n",
    "bal_train, bal_val, bal_test = split_data(mfp_bc_bal_dataset, train_size=0.8, tune_size=0.1, test_size=0.1, random_state=42)\n",
    "\n",
    "# To access the actual training/validation/test data, you can use the indices from the split_data function\n",
    "print(\"Training data shape: \")\n",
    "X_train = mfp_bc_bal_dataset.x[bal_train.indices].detach().cpu().numpy().astype(np.float32)\n",
    "print(X_train.shape)\n",
    "y_train = mfp_bc_bal_dataset.y[bal_train.indices].detach().cpu().numpy().astype(np.float32).flatten()\n",
    "print(y_train.shape)\n",
    "\n",
    "print('Tuning data shape: ')\n",
    "X_tune = mfp_bc_bal_dataset.x[bal_val.indices].detach().cpu().numpy().astype(np.float32)\n",
    "print(X_tune.shape)\n",
    "y_tune = mfp_bc_bal_dataset.y[bal_val.indices].detach().cpu().numpy().astype(np.float32).flatten()\n",
    "print(y_tune.shape)\n",
    "\n",
    "print('Test data shape: ')\n",
    "X_test = mfp_bc_bal_dataset.x[bal_test.indices].detach().cpu().numpy().astype(np.float32)\n",
    "print(X_test.shape)\n",
    "y_test = mfp_bc_bal_dataset.y[bal_test.indices].detach().cpu().numpy().astype(np.float32).flatten()\n",
    "print(y_test.shape)"
   ]
  },
  {
   "cell_type": "markdown",
   "metadata": {},
   "source": [
    "Run an example SVM"
   ]
  },
  {
   "cell_type": "code",
   "execution_count": 3,
   "metadata": {},
   "outputs": [
    {
     "name": "stdout",
     "output_type": "stream",
     "text": [
      "Model trained\n",
      "[0.6264008620689655, 0.6028713298791019, 0.6498493975903614, 0.6317873303167421, 0.6169907202828104, 0.2530048979327123, 0.6263603637347316, 0.25274063723996454]\n",
      "[0.6264008620689655, 0.6028713298791019, 0.6498493975903614, 0.6317873303167421, 0.6169907202828104, 0.2530048979327123, 0.6263603637347316, 0.25274063723996454]\n",
      "[0.6314314961478369, 0.6, 0.6625562942311817, 0.6377762430939227, 0.6183116665736763, 0.26308986303533816, 0.6312781471155908, 0.2626321894410606]\n"
     ]
    }
   ],
   "source": [
    "# Metrics include: 'Accuracy', 'Sensitivity', 'Specificity', 'Precision', 'F1 Score', 'MCC', 'AUC', 'Kappa'\n",
    "\n",
    "# Train model\n",
    "model_svm_one = fit_svm_bc_model(X_train, y_train)\n",
    "one_svm_metrics = evaluate_svm_bc_model(model_svm_one, X_tune, y_tune)\n",
    "print(one_svm_metrics)\n",
    "\n",
    "# Tune a different model\n",
    "model_svm_two = SVMModelBC(C=10.0)\n",
    "model_svm_two.fit(X_train, y_train)\n",
    "other_svm_metrics = evaluate_svm_bc_model(model_svm_two, X_tune, y_tune)\n",
    "print(other_svm_metrics)\n",
    "\n",
    "# Test the best model\n",
    "best_svm_model = model_svm_two\n",
    "best_svm_metrics = evaluate_svm_bc_model(best_svm_model, X_test, y_test)\n",
    "print(best_svm_metrics)"
   ]
  },
  {
   "cell_type": "markdown",
   "metadata": {},
   "source": [
    "Run an example Random Forest model"
   ]
  },
  {
   "cell_type": "code",
   "execution_count": 4,
   "metadata": {},
   "outputs": [
    {
     "name": "stdout",
     "output_type": "stream",
     "text": [
      "Number of parameters: 750\n",
      "[0.5755387931034482, 0.5387521588946459, 0.6121987951807228, 0.5806188925081434, 0.5589025755879059, 0.15136244352744663, 0.5754754770376843, 0.1509696907083169]\n",
      "Number of parameters: 40160\n",
      "[0.6033943965517241, 0.5164075993091537, 0.6900817555938038, 0.6241356816699283, 0.565184003780495, 0.2096888323396327, 0.6032446774514787, 0.20655071704221595]\n",
      "Number of parameters: 40160\n",
      "[0.6113894725499703, 0.521061180292366, 0.7008363714346987, 0.632991318074191, 0.5715982657242977, 0.22561567512468464, 0.6109487758635322, 0.2220891504514425]\n"
     ]
    }
   ],
   "source": [
    "# Metrics include: 'Accuracy', 'Sensitivity', 'Specificity', 'Precision', 'F1 Score', 'MCC', 'AUC', 'Kappa'\n",
    "\n",
    "# Train model\n",
    "model_rf_one = RandomForestModelBC(n_estimators=50, max_depth=1)\n",
    "model_rf_one.fit(X_train, y_train)\n",
    "one_rf_metrics = evaluate_random_forest_bc_model(model_rf_one, X_tune, y_tune)\n",
    "print(one_rf_metrics)\n",
    "\n",
    "# Tune a different model\n",
    "model_rf_two = RandomForestModelBC(n_estimators=128, max_depth=5)\n",
    "model_rf_two.fit(X_train, y_train)\n",
    "other_rf_metrics = evaluate_random_forest_bc_model(model_rf_two, X_tune, y_tune)\n",
    "print(other_rf_metrics)\n",
    "\n",
    "# Test the best model\n",
    "best_rf_model = model_rf_two\n",
    "best_rf_metrics = evaluate_random_forest_bc_model(best_rf_model, X_test, y_test)\n",
    "print(best_rf_metrics)"
   ]
  },
  {
   "cell_type": "markdown",
   "metadata": {},
   "source": [
    "Run an example XGBoost model. Note that the analysis used the GPU implementation (which is different from the CPU version used here to enable ease of running the example code. The GPU version is implemented also in the models/src/models_baselines.py file)"
   ]
  },
  {
   "cell_type": "code",
   "execution_count": 5,
   "metadata": {},
   "outputs": [
    {
     "name": "stdout",
     "output_type": "stream",
     "text": [
      "[0.5896551724137931, 0.5187823834196891, 0.6602839931153184, 0.6034655951783023, 0.5579289528674252, 0.18089425561149117, 0.5895331882675038, 0.1791096366457019]\n",
      "[0.60625, 0.5651986183074266, 0.6471600688468159, 0.6148426491310475, 0.5889763779527559, 0.21308171525482134, 0.6061793435771212, 0.21238820314120088]\n",
      "[0.614568180593718, 0.573795343800758, 0.6549431696332833, 0.62216742984619, 0.5970031545741324, 0.22951378445700385, 0.6143692567170206, 0.22882531100894787]\n"
     ]
    }
   ],
   "source": [
    "# Metrics include: 'Accuracy', 'Sensitivity', 'Specificity', 'Precision', 'F1 Score', 'MCC', 'AUC', 'Kappa'\n",
    "\n",
    "# Train model\n",
    "model_xgboost_one = GradientBoostingModelBC(max_depth=2, learning_rate=0.1, n_estimators=10)\n",
    "model_xgboost_one.fit(X_train, y_train)\n",
    "one_xgboost_metrics = evaluate_xgboost_bc_model(model_xgboost_one, X_tune, y_tune)\n",
    "print(one_xgboost_metrics)\n",
    "\n",
    "# Tune a different model\n",
    "model_xgboost_two = GradientBoostingModelBC(max_depth=3, learning_rate=0.1, n_estimators=15)\n",
    "model_xgboost_two.fit(X_train, y_train)\n",
    "two_xgboost_metrics = evaluate_xgboost_bc_model(model_xgboost_two, X_tune, y_tune)\n",
    "print(two_xgboost_metrics)\n",
    "\n",
    "# Test the best model\n",
    "best_xgboost_model = model_xgboost_two\n",
    "best_xgboost_metrics = evaluate_xgboost_bc_model(best_xgboost_model, X_test, y_test)\n",
    "print(best_xgboost_metrics)"
   ]
  },
  {
   "cell_type": "markdown",
   "metadata": {},
   "source": [
    "Run an example SNN"
   ]
  },
  {
   "cell_type": "code",
   "execution_count": 6,
   "metadata": {},
   "outputs": [
    {
     "name": "stdout",
     "output_type": "stream",
     "text": [
      "Epoch [0/5], Loss: 0.6577, Accuracy: 60.76%\n",
      "cpu\n",
      "cpu\n",
      "Y_test flattened shape: (18560,)\n",
      "Y_pred flattened shape: (18560,)\n",
      "[0.6504310344827586, 0.6049222797927462, 0.6957831325301205, 0.6646110056925996, 0.6333634719710669, 0.3019683530867913, 0.6503527061614333, 0.3007519020535341]\n",
      "Epoch [0/10], Loss: 0.6623, Accuracy: 60.06%\n",
      "cpu\n",
      "cpu\n",
      "Y_test flattened shape: (18560,)\n",
      "Y_pred flattened shape: (18560,)\n",
      "[0.655010775862069, 0.6062176165803109, 0.7036359724612736, 0.67088758810178, 0.6369152254040261, 0.3113503867952918, 0.6549267945207924, 0.30990500588034053]\n",
      "cpu\n",
      "cpu\n",
      "Y_test flattened shape: (18561,)\n",
      "Y_pred flattened shape: (18561,)\n",
      "[0.6597704865039599, 0.6096372495939361, 0.7094145399957109, 0.6750599520383693, 0.6406827880512092, 0.32069901124465344, 0.6595258947948234, 0.31920271720166904]\n"
     ]
    }
   ],
   "source": [
    "# Metrics include: 'Accuracy', 'Sensitivity', 'Specificity', 'Precision', 'F1 Score', 'MCC', 'AUC', 'Kappa'\n",
    "train_dataloader = DataLoader(bal_train, batch_size=128, shuffle=True)\n",
    "tune_dataloader = DataLoader(bal_val, batch_size=128, shuffle=True)\n",
    "test_dataloader = DataLoader(bal_test, batch_size=128, shuffle=True)\n",
    "num_features = bal_train.dataset[0][0].shape[0]\n",
    "plot_path_one = 'example_output/snn_one'\n",
    "plot_path_two = 'example_output/snn_two'\n",
    "\n",
    "# Train model\n",
    "model_snn_one = SNNModelBC(\n",
    "    input_size=num_features,\n",
    "    hidden_size=256,\n",
    "    dropout=0.8,\n",
    "    learn_rate=0.0002,\n",
    ")\n",
    "model_snn_one.fit(train_dataloader, None, epochs=5)\n",
    "one_snn_metrics = evaluate_snn_bc_model(model_snn_one, tune_dataloader)\n",
    "print(one_snn_metrics)\n",
    "\n",
    "# Tune a different model\n",
    "model_snn_two  = SNNModelBC(\n",
    "    input_size=num_features,\n",
    "    hidden_size=128,\n",
    "    dropout=0.8,\n",
    "    learn_rate=0.0002,\n",
    ")\n",
    "model_snn_two.fit(train_dataloader, None, epochs=10)\n",
    "two_snn_metrics = evaluate_snn_bc_model(model_snn_two, tune_dataloader)\n",
    "print(two_snn_metrics)\n",
    "\n",
    "# Test the best model\n",
    "best_snn_model = model_snn_two\n",
    "best_snn_metrics = evaluate_snn_bc_model(best_snn_model, test_dataloader)\n",
    "print(best_snn_metrics)"
   ]
  },
  {
   "cell_type": "markdown",
   "metadata": {},
   "source": [
    "Run an example PCNNGL"
   ]
  },
  {
   "cell_type": "code",
   "execution_count": 7,
   "metadata": {},
   "outputs": [
    {
     "name": "stdout",
     "output_type": "stream",
     "text": [
      "Mask shape: torch.Size([722, 512])\n",
      "Actually using BCE Loss\n",
      "Model is training\n",
      "Layer: input.weight, Size: torch.Size([722, 512])\n",
      "Layer: input.bias, Size: torch.Size([722])\n",
      "Layer: output.weight, Size: torch.Size([1, 722])\n",
      "Layer: output.bias, Size: torch.Size([1])\n",
      "Layer: batch_norms.0.weight, Size: torch.Size([512])\n",
      "Layer: batch_norms.0.bias, Size: torch.Size([512])\n",
      "Layer: batch_norms.0.running_mean, Size: torch.Size([512])\n",
      "Layer: batch_norms.0.running_var, Size: torch.Size([512])\n",
      "Layer: batch_norms.0.num_batches_tracked, Size: torch.Size([])\n",
      "Layer: batch_norms.1.weight, Size: torch.Size([722])\n",
      "Layer: batch_norms.1.bias, Size: torch.Size([722])\n",
      "Layer: batch_norms.1.running_mean, Size: torch.Size([722])\n",
      "Layer: batch_norms.1.running_var, Size: torch.Size([722])\n",
      "Layer: batch_norms.1.num_batches_tracked, Size: torch.Size([])\n",
      "Epoch [0/10], Loss: 0.6576, Accuracy: 60.80%\n",
      "Model is testing\n",
      "Y test shape: (18560, 1)\n",
      "Y pred shape: (18560, 1)\n",
      "[0.6426185344827586, 0.5988773747841105, 0.6862091222030982, 0.6554046072061429, 0.6258672231936375, 0.28619189839252185, 0.6425432484936043, 0.28512882357149427]\n",
      "Actually using BCE Loss\n",
      "Model is training\n",
      "Layer: input.weight, Size: torch.Size([722, 512])\n",
      "Layer: input.bias, Size: torch.Size([722])\n",
      "Layer: output.weight, Size: torch.Size([1, 722])\n",
      "Layer: output.bias, Size: torch.Size([1])\n",
      "Layer: batch_norms.0.weight, Size: torch.Size([512])\n",
      "Layer: batch_norms.0.bias, Size: torch.Size([512])\n",
      "Layer: batch_norms.0.running_mean, Size: torch.Size([512])\n",
      "Layer: batch_norms.0.running_var, Size: torch.Size([512])\n",
      "Layer: batch_norms.0.num_batches_tracked, Size: torch.Size([])\n",
      "Layer: batch_norms.1.weight, Size: torch.Size([722])\n",
      "Layer: batch_norms.1.bias, Size: torch.Size([722])\n",
      "Layer: batch_norms.1.running_mean, Size: torch.Size([722])\n",
      "Layer: batch_norms.1.running_var, Size: torch.Size([722])\n",
      "Layer: batch_norms.1.num_batches_tracked, Size: torch.Size([])\n",
      "Epoch [0/15], Loss: 0.6661, Accuracy: 61.24%\n",
      "Model is testing\n",
      "Y test shape: (18560, 1)\n",
      "Y pred shape: (18560, 1)\n",
      "[0.6350754310344827, 0.5984455958549223, 0.67157917383821, 0.6448761195765965, 0.6207939085157606, 0.27075869144632564, 0.6350123848465661, 0.27005823606109347]\n",
      "Model is testing\n",
      "Y test shape: (18561, 1)\n",
      "Y pred shape: (18561, 1)\n",
      "[0.645493238510856, 0.5963183540877098, 0.6941882907999142, 0.6588108625433664, 0.6260088666590883, 0.2919459157001323, 0.645253322443812, 0.290641150465875]\n"
     ]
    },
    {
     "data": {
      "image/png": "[encoded data removed]",
      "text/plain": [
       "<Figure size 640x480 with 1 Axes>"
      ]
     },
     "metadata": {},
     "output_type": "display_data"
    }
   ],
   "source": [
    "params_one = {\n",
    "    'num_epochs': 10,\n",
    "    'batch_size': 128,\n",
    "    'learning_rate': 0.0002,\n",
    "    'loss_fxn': 'MSELoss', # This will autocorrect to BCELoss for binary classification\n",
    "    'optimizer': 'Adam',\n",
    "}\n",
    "\n",
    "params_two = {\n",
    "    'num_epochs': 15,\n",
    "    'batch_size': 128,\n",
    "    'learning_rate': 0.01,\n",
    "    'loss_fxn': 'MSELoss', # This will autocorrect to BCELoss for binary classification\n",
    "    'optimizer': 'Adam',\n",
    "}\n",
    "\n",
    "mask_fp = \"example_data/256_mfp_cs_mask1gl.csv\"\n",
    "mask = pd.read_csv(mask_fp, header=0, index_col=0)\n",
    "mask = mask.T\n",
    "mask = torch.tensor(mask.values, dtype=torch.float32)\n",
    "print(f\"Mask shape: {mask.shape}\")\n",
    "input_size = train_dataloader.dataset[0][0].shape[0]\n",
    "hidden_layer_size = mask.shape[0]\n",
    "\n",
    "pcnngl_model_one = PCNNGLModel(\n",
    "    input_size = input_size,\n",
    "    mask = mask,\n",
    "    hidden_size = hidden_layer_size,\n",
    "    num_epochs = params_one[\"num_epochs\"],\n",
    "    learning_rate = params_one[\"learning_rate\"],\n",
    "    loss_fxn = params_one[\"loss_fxn\"],\n",
    "    device = \"cuda\" if torch.cuda.is_available() else \"cpu\",\n",
    "    binary_classification = True,\n",
    ")\n",
    "\n",
    "optimizer_one = optim.Adam(pcnngl_model_one.parameters(), lr=params_one[\"learning_rate\"])\n",
    "output_fp_one = 'example_output/pcnngl_one_'\n",
    "    \n",
    "train_cov_model(\n",
    "    pcnngl_model_one,\n",
    "    train_dataloader,\n",
    "    optimizer_one,\n",
    "    output_fp_one,\n",
    "    loss_file=output_fp_one,\n",
    ")\n",
    "\n",
    "pcnngl_one_metrics = test_cov_model(pcnngl_model_one, tune_dataloader, output_fp_one)\n",
    "print(pcnngl_one_metrics)\n",
    "\n",
    "pcnngl_model_two = PCNNGLModel(\n",
    "    input_size = input_size,\n",
    "    mask = mask,\n",
    "    hidden_size = hidden_layer_size,\n",
    "    num_epochs = params_two[\"num_epochs\"],\n",
    "    learning_rate = params_two[\"learning_rate\"],\n",
    "    loss_fxn = params_two[\"loss_fxn\"],\n",
    "    device = \"cuda\" if torch.cuda.is_available() else \"cpu\",\n",
    "    binary_classification = True,\n",
    ")\n",
    "\n",
    "optimizer_two = optim.Adam(pcnngl_model_two.parameters(), lr=params_two[\"learning_rate\"])\n",
    "output_fp_two = 'example_output/pcnngl_two_'\n",
    "\n",
    "train_cov_model(\n",
    "    pcnngl_model_two,\n",
    "    train_dataloader,\n",
    "    optimizer_two,\n",
    "    output_fp_two,\n",
    "    loss_file=output_fp_two,\n",
    ")\n",
    "\n",
    "pcnngl_two_metrics = test_cov_model(pcnngl_model_two, tune_dataloader, output_fp_two)\n",
    "print(pcnngl_two_metrics)\n",
    "\n",
    "pcnngl_best_model = pcnngl_model_one\n",
    "pcnngl_best_metrics = test_cov_model(pcnngl_best_model, test_dataloader, 'example_output/pcnngl_best_')\n",
    "print(pcnngl_best_metrics)"
   ]
  },
  {
   "cell_type": "markdown",
   "metadata": {},
   "source": [
    "Run an example SYNDEEP"
   ]
  },
  {
   "cell_type": "code",
   "execution_count": 10,
   "metadata": {},
   "outputs": [
    {
     "name": "stdout",
     "output_type": "stream",
     "text": [
      "Epoch [0/10], Loss: 0.7491, Accuracy: 52.02%\n",
      "cpu\n",
      "cpu\n",
      "Y_test flattened shape: (18560,)\n",
      "Y_pred flattened shape: (18560,)\n",
      "[0.6490301724137931, 0.5737262521588946, 0.7240748709122203, 0.674492385786802, 0.6200419972001866, 0.3012485234066061, 0.6489005615355574, 0.2978777178963019]\n",
      "Epoch [0/30], Loss: 0.7474, Accuracy: 52.35%\n",
      "cpu\n",
      "cpu\n",
      "Y_test flattened shape: (18560,)\n",
      "Y_pred flattened shape: (18560,)\n",
      "[0.6683728448275862, 0.677461139896373, 0.659315834767642, 0.6646192947156624, 0.670978777997541, 0.3368284367796526, 0.6683884873320075, 0.33676577496631255]\n",
      "cpu\n",
      "cpu\n",
      "Y_test flattened shape: (18561,)\n",
      "Y_pred flattened shape: (18561,)\n",
      "[0.6734550940143311, 0.6803465078505685, 0.6666309242976625, 0.668973594548552, 0.6746121221882214, 0.34699830691830064, 0.6734887160741155, 0.34694865525226704]\n"
     ]
    }
   ],
   "source": [
    "model_syndeep_one = SYNDEEPModelBC(input_size=num_features,)\n",
    "model_syndeep_one.fit(train_dataloader, None, epochs=10)\n",
    "one_syndeep_metrics = evaluate_syndeep_bc_model(model_syndeep_one, tune_dataloader)\n",
    "print(one_syndeep_metrics)\n",
    "\n",
    "model_syndeep_two = SYNDEEPModelBC(input_size=num_features,)\n",
    "model_syndeep_two.fit(train_dataloader, None, epochs=30)\n",
    "two_syndeep_metrics = evaluate_syndeep_bc_model(model_syndeep_two, tune_dataloader)\n",
    "print(two_syndeep_metrics)\n",
    "\n",
    "best_syndeep_model = model_syndeep_two\n",
    "best_syndeep_metrics = evaluate_syndeep_bc_model(best_syndeep_model, test_dataloader)\n",
    "print(best_syndeep_metrics)"
   ]
  },
  {
   "cell_type": "markdown",
   "metadata": {},
   "source": [
    "Run an example PCNNGL-SYNDEEP"
   ]
  },
  {
   "cell_type": "code",
   "execution_count": 11,
   "metadata": {},
   "outputs": [
    {
     "name": "stdout",
     "output_type": "stream",
     "text": [
      "Actually using BCE Loss\n",
      "Model is training\n",
      "Layer: input.weight, Size: torch.Size([722, 512])\n",
      "Layer: input.bias, Size: torch.Size([722])\n",
      "Layer: output.weight, Size: torch.Size([1, 32])\n",
      "Layer: output.bias, Size: torch.Size([1])\n",
      "Layer: batch_norms.0.weight, Size: torch.Size([512])\n",
      "Layer: batch_norms.0.bias, Size: torch.Size([512])\n",
      "Layer: batch_norms.0.running_mean, Size: torch.Size([512])\n",
      "Layer: batch_norms.0.running_var, Size: torch.Size([512])\n",
      "Layer: batch_norms.0.num_batches_tracked, Size: torch.Size([])\n",
      "Layer: batch_norms.1.weight, Size: torch.Size([722])\n",
      "Layer: batch_norms.1.bias, Size: torch.Size([722])\n",
      "Layer: batch_norms.1.running_mean, Size: torch.Size([722])\n",
      "Layer: batch_norms.1.running_var, Size: torch.Size([722])\n",
      "Layer: batch_norms.1.num_batches_tracked, Size: torch.Size([])\n",
      "Layer: batch_norms.2.weight, Size: torch.Size([128])\n",
      "Layer: batch_norms.2.bias, Size: torch.Size([128])\n",
      "Layer: batch_norms.2.running_mean, Size: torch.Size([128])\n",
      "Layer: batch_norms.2.running_var, Size: torch.Size([128])\n",
      "Layer: batch_norms.2.num_batches_tracked, Size: torch.Size([])\n",
      "Layer: batch_norms.3.weight, Size: torch.Size([32])\n",
      "Layer: batch_norms.3.bias, Size: torch.Size([32])\n",
      "Layer: batch_norms.3.running_mean, Size: torch.Size([32])\n",
      "Layer: batch_norms.3.running_var, Size: torch.Size([32])\n",
      "Layer: batch_norms.3.num_batches_tracked, Size: torch.Size([])\n",
      "Layer: hidden_layers.0.weight, Size: torch.Size([128, 722])\n",
      "Layer: hidden_layers.0.bias, Size: torch.Size([128])\n",
      "Layer: hidden_layers.1.weight, Size: torch.Size([32, 128])\n",
      "Layer: hidden_layers.1.bias, Size: torch.Size([32])\n",
      "Epoch [0/10], Loss: 0.7469, Accuracy: 51.62%\n",
      "Model is testing\n",
      "Y test shape: (18560, 1)\n",
      "Y pred shape: (18560, 1)\n",
      "[0.609375, 0.48607512953367876, 0.732250430292599, 0.6440217391304348, 0.5540108267716536, 0.2252797022025195, 0.6091627799131388, 0.2184177578459333]\n",
      "Actually using BCE Loss\n",
      "Model is training\n",
      "Layer: input.weight, Size: torch.Size([722, 512])\n",
      "Layer: input.bias, Size: torch.Size([722])\n",
      "Layer: output.weight, Size: torch.Size([1, 32])\n",
      "Layer: output.bias, Size: torch.Size([1])\n",
      "Layer: batch_norms.0.weight, Size: torch.Size([512])\n",
      "Layer: batch_norms.0.bias, Size: torch.Size([512])\n",
      "Layer: batch_norms.0.running_mean, Size: torch.Size([512])\n",
      "Layer: batch_norms.0.running_var, Size: torch.Size([512])\n",
      "Layer: batch_norms.0.num_batches_tracked, Size: torch.Size([])\n",
      "Layer: batch_norms.1.weight, Size: torch.Size([722])\n",
      "Layer: batch_norms.1.bias, Size: torch.Size([722])\n",
      "Layer: batch_norms.1.running_mean, Size: torch.Size([722])\n",
      "Layer: batch_norms.1.running_var, Size: torch.Size([722])\n",
      "Layer: batch_norms.1.num_batches_tracked, Size: torch.Size([])\n",
      "Layer: batch_norms.2.weight, Size: torch.Size([128])\n",
      "Layer: batch_norms.2.bias, Size: torch.Size([128])\n",
      "Layer: batch_norms.2.running_mean, Size: torch.Size([128])\n",
      "Layer: batch_norms.2.running_var, Size: torch.Size([128])\n",
      "Layer: batch_norms.2.num_batches_tracked, Size: torch.Size([])\n",
      "Layer: batch_norms.3.weight, Size: torch.Size([32])\n",
      "Layer: batch_norms.3.bias, Size: torch.Size([32])\n",
      "Layer: batch_norms.3.running_mean, Size: torch.Size([32])\n",
      "Layer: batch_norms.3.running_var, Size: torch.Size([32])\n",
      "Layer: batch_norms.3.num_batches_tracked, Size: torch.Size([])\n",
      "Layer: hidden_layers.0.weight, Size: torch.Size([128, 722])\n",
      "Layer: hidden_layers.0.bias, Size: torch.Size([128])\n",
      "Layer: hidden_layers.1.weight, Size: torch.Size([32, 128])\n",
      "Layer: hidden_layers.1.bias, Size: torch.Size([32])\n",
      "Epoch [0/30], Loss: 0.7315, Accuracy: 50.94%\n",
      "Epoch [25/30], Loss: 0.6627, Accuracy: 60.50%\n",
      "Model is testing\n",
      "Y test shape: (18560, 1)\n",
      "Y pred shape: (18560, 1)\n",
      "[0.6209590517241379, 0.511873920552677, 0.7296686746987951, 0.653618194348725, 0.5741267631212543, 0.2475067612530682, 0.6207712976257362, 0.2416327858188324]\n",
      "Model is testing\n",
      "Y test shape: (18561, 1)\n",
      "Y pred shape: (18561, 1)\n",
      "[0.645493238510856, 0.5963183540877098, 0.6941882907999142, 0.6588108625433664, 0.6260088666590883, 0.2919459157001323, 0.645253322443812, 0.290641150465875]\n"
     ]
    },
    {
     "data": {
      "image/png": "[encoded data removed]",
      "text/plain": [
       "<Figure size 640x480 with 1 Axes>"
      ]
     },
     "metadata": {},
     "output_type": "display_data"
    }
   ],
   "source": [
    "params_ps_one = {\n",
    "    'hidden_sizes': [722, 128, 32],\n",
    "    'num_epochs': 10,\n",
    "    'batch_size': 128,\n",
    "    'learning_rate': 2e-4,\n",
    "    'loss_fxn': 'MSELoss', # This will autocorrect to BCELoss for binary classification\n",
    "    'optimizer': 'Adam',\n",
    "    'dropout_rate': 0.8,\n",
    "}\n",
    "\n",
    "params_ps_two = {\n",
    "    'hidden_sizes': [722, 128, 32],\n",
    "    'num_epochs': 30,\n",
    "    'batch_size': 128,\n",
    "    'learning_rate': 2e-4,\n",
    "    'loss_fxn': 'MSELoss', # This will autocorrect to BCELoss for binary classification\n",
    "    'optimizer': 'Adam',\n",
    "    'dropout_rate': 0.8,\n",
    "}\n",
    "\n",
    "pcnngl_syndeep_model_one = PCNNGLSyndeepModel(\n",
    "    input_size = input_size,\n",
    "    mask = mask,\n",
    "    hidden_sizes = params_ps_one['hidden_sizes'],\n",
    "    num_epochs = params_ps_one['num_epochs'],\n",
    "    learning_rate = params_ps_one[\"learning_rate\"],\n",
    "    loss_fxn = params_ps_one,\n",
    "    device = \"cuda\" if torch.cuda.is_available() else \"cpu\",\n",
    "    binary_classification = True,\n",
    "    dropout_rate = params_ps_one[\"dropout_rate\"],\n",
    ")\n",
    "\n",
    "optimizer_ps_one = optim.Adam(pcnngl_syndeep_model_one.parameters(), lr=params_ps_one[\"learning_rate\"])\n",
    "output_fp_ps_one = 'example_output/pcnnglsyndeep_one_'\n",
    "    \n",
    "train_cov_model(\n",
    "    pcnngl_syndeep_model_one,\n",
    "    train_dataloader,\n",
    "    optimizer_ps_one,\n",
    "    output_fp_ps_one,\n",
    "    loss_file=output_fp_ps_one,\n",
    ")\n",
    "\n",
    "pcnngl_syndeep_one_metrics = test_cov_model(pcnngl_syndeep_model_one, tune_dataloader, output_fp_ps_one)\n",
    "print(pcnngl_syndeep_one_metrics)\n",
    "\n",
    "pcnngl_syndeep_model_two = PCNNGLSyndeepModel(\n",
    "    input_size = input_size,\n",
    "    mask = mask,\n",
    "    hidden_sizes = params_ps_two['hidden_sizes'],\n",
    "    num_epochs = params_ps_two['num_epochs'],\n",
    "    learning_rate = params_ps_two[\"learning_rate\"],\n",
    "    loss_fxn = params_ps_two,\n",
    "    device = \"cuda\" if torch.cuda.is_available() else \"cpu\",\n",
    "    binary_classification = True,\n",
    "    dropout_rate = params_ps_two[\"dropout_rate\"],\n",
    ")\n",
    "\n",
    "optimizer_ps_two = optim.Adam(pcnngl_syndeep_model_two.parameters(), lr=params_ps_two[\"learning_rate\"])\n",
    "output_fp_ps_two = 'example_output/pcnnglsyndeep_two_'\n",
    "    \n",
    "train_cov_model(\n",
    "    pcnngl_syndeep_model_two,\n",
    "    train_dataloader,\n",
    "    optimizer_ps_two,\n",
    "    output_fp_ps_two,\n",
    "    loss_file=output_fp_ps_two,\n",
    ")\n",
    "\n",
    "pcnngl_syndeep_two_metrics = test_cov_model(pcnngl_syndeep_model_two, tune_dataloader, output_fp_ps_two)\n",
    "print(pcnngl_syndeep_two_metrics)\n",
    "\n",
    "pcnngl_syndeep_best_model = pcnngl_syndeep_model_two\n",
    "pcnngl_syndeep_best_metrics = test_cov_model(pcnngl_best_model, test_dataloader, 'example_output/pcnngl_syndeep_best_')\n",
    "print(pcnngl_syndeep_best_metrics)"
   ]
  }
 ],
 "metadata": {
  "kernelspec": {
   "display_name": "env",
   "language": "python",
   "name": "python3"
  },
  "language_info": {
   "codemirror_mode": {
    "name": "ipython",
    "version": 3
   },
   "file_extension": ".py",
   "mimetype": "text/x-python",
   "name": "python",
   "nbconvert_exporter": "python",
   "pygments_lexer": "ipython3",
   "version": "3.11.11"
  }
 },
 "nbformat": 4,
 "nbformat_minor": 2
}
